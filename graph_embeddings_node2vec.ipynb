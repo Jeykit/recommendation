{
 "cells": [
  {
   "cell_type": "markdown",
   "metadata": {},
   "source": [
    "# Graph Embedding for Recommendation System"
   ]
  },
  {
   "cell_type": "markdown",
   "metadata": {},
   "source": [
    "Recommendation problems can be modeled on a graph e.g. a bipartite graphn of users and movies can be constructed where there is a link between a user *u* and a movie *m* if *u* has watched *m* and the weight of the link is equal to the rating that u gave for m. The graph abstraction also allows for adding more information e.g. directors of the movies as additional nodes in the graph and each movie has an edge to its director. \n",
    "\n",
    "Graphs provide a unified framework to study recommendation problems, in fact, the adjacency matrix of the user-movie bipartite graph is the matrix of the ratings that users have given for the movies. Matrix factorization of the adjacency matrix provides an embedding in a low-dimensional latent factor space for each node (users and movies) in the graph. \n",
    "\n",
    "   *Matrix factorization is an example of **graph embedding** i.e. a low-dimensional dense embedding in Euclidean space of every node the graph.*\n",
    "\n",
    "**Recommendation** : Find a low-dimensional embedding of nodes (users, movies, directors etc.) such that the 'affinity/similarity' between nodes is mapped to the vector similarity in the embedding space. Further, the vector similarity provides a ranking function to order movies for a given user. \n",
    "\n",
    "With the popularity of neural networks, new methods of obtaining graph embeddings have been proposed, most notably [**DeepWalk**](https://arxiv.org/abs/1403.6652) and [**node2vec**](https://snap.stanford.edu/node2vec/) are two unsupervised techniques for graph embedding. Both these methods are inspired by word embedding models like **word2vec**. In this notebook, we will employ **node2vec** to obtain latent factors for users and movies and, same as for matrix factorization, use the vector similarity as ranking function. "
   ]
  },
  {
   "cell_type": "markdown",
   "metadata": {},
   "source": [
    "## Data"
   ]
  },
  {
   "cell_type": "markdown",
   "metadata": {},
   "source": [
    "We will use the MovieLens data which contains ratings of movies by users. The data which is publically available from [MovieLens Website](https://grouplens.org/datasets/movielens/). We are using 100k data which has 100k ratings. "
   ]
  },
  {
   "cell_type": "code",
   "execution_count": 1,
   "metadata": {},
   "outputs": [],
   "source": [
    "import pandas as pd\n",
    "import numpy as np"
   ]
  },
  {
   "cell_type": "code",
   "execution_count": 2,
   "metadata": {},
   "outputs": [],
   "source": [
    "from scipy.sparse import coo_matrix, csr_matrix\n",
    "from scipy.sparse.linalg import svds, norm\n",
    "from scipy.spatial.distance import cosine\n",
    "from sklearn.metrics.pairwise import cosine_similarity"
   ]
  },
  {
   "cell_type": "code",
   "execution_count": 3,
   "metadata": {},
   "outputs": [],
   "source": [
    "import operator\n",
    "from collections import defaultdict"
   ]
  },
  {
   "cell_type": "code",
   "execution_count": 4,
   "metadata": {},
   "outputs": [],
   "source": [
    "data_path = '../data/'"
   ]
  },
  {
   "cell_type": "code",
   "execution_count": 5,
   "metadata": {},
   "outputs": [],
   "source": [
    "rating_df = pd.read_csv(data_path + 'ratings.csv', sep=',', header=0)"
   ]
  },
  {
   "cell_type": "code",
   "execution_count": 6,
   "metadata": {},
   "outputs": [
    {
     "data": {
      "text/html": [
       "<div>\n",
       "<style scoped>\n",
       "    .dataframe tbody tr th:only-of-type {\n",
       "        vertical-align: middle;\n",
       "    }\n",
       "\n",
       "    .dataframe tbody tr th {\n",
       "        vertical-align: top;\n",
       "    }\n",
       "\n",
       "    .dataframe thead th {\n",
       "        text-align: right;\n",
       "    }\n",
       "</style>\n",
       "<table border=\"1\" class=\"dataframe\">\n",
       "  <thead>\n",
       "    <tr style=\"text-align: right;\">\n",
       "      <th></th>\n",
       "      <th>userId</th>\n",
       "      <th>movieId</th>\n",
       "      <th>rating</th>\n",
       "      <th>timestamp</th>\n",
       "    </tr>\n",
       "  </thead>\n",
       "  <tbody>\n",
       "    <tr>\n",
       "      <th>0</th>\n",
       "      <td>1</td>\n",
       "      <td>1</td>\n",
       "      <td>4.0</td>\n",
       "      <td>964982703</td>\n",
       "    </tr>\n",
       "    <tr>\n",
       "      <th>1</th>\n",
       "      <td>1</td>\n",
       "      <td>3</td>\n",
       "      <td>4.0</td>\n",
       "      <td>964981247</td>\n",
       "    </tr>\n",
       "    <tr>\n",
       "      <th>2</th>\n",
       "      <td>1</td>\n",
       "      <td>6</td>\n",
       "      <td>4.0</td>\n",
       "      <td>964982224</td>\n",
       "    </tr>\n",
       "    <tr>\n",
       "      <th>3</th>\n",
       "      <td>1</td>\n",
       "      <td>47</td>\n",
       "      <td>5.0</td>\n",
       "      <td>964983815</td>\n",
       "    </tr>\n",
       "    <tr>\n",
       "      <th>4</th>\n",
       "      <td>1</td>\n",
       "      <td>50</td>\n",
       "      <td>5.0</td>\n",
       "      <td>964982931</td>\n",
       "    </tr>\n",
       "  </tbody>\n",
       "</table>\n",
       "</div>"
      ],
      "text/plain": [
       "   userId  movieId  rating  timestamp\n",
       "0       1        1     4.0  964982703\n",
       "1       1        3     4.0  964981247\n",
       "2       1        6     4.0  964982224\n",
       "3       1       47     5.0  964983815\n",
       "4       1       50     5.0  964982931"
      ]
     },
     "execution_count": 6,
     "metadata": {},
     "output_type": "execute_result"
    }
   ],
   "source": [
    "rating_df.head()"
   ]
  },
  {
   "cell_type": "code",
   "execution_count": 7,
   "metadata": {},
   "outputs": [
    {
     "data": {
      "text/plain": [
       "(100836, 4)"
      ]
     },
     "execution_count": 7,
     "metadata": {},
     "output_type": "execute_result"
    }
   ],
   "source": [
    "rating_df.shape"
   ]
  },
  {
   "cell_type": "code",
   "execution_count": 8,
   "metadata": {},
   "outputs": [
    {
     "data": {
      "text/plain": [
       "610"
      ]
     },
     "execution_count": 8,
     "metadata": {},
     "output_type": "execute_result"
    }
   ],
   "source": [
    "rating_df.userId.nunique()"
   ]
  },
  {
   "cell_type": "code",
   "execution_count": 9,
   "metadata": {},
   "outputs": [
    {
     "data": {
      "text/plain": [
       "9724"
      ]
     },
     "execution_count": 9,
     "metadata": {},
     "output_type": "execute_result"
    }
   ],
   "source": [
    "rating_df.movieId.nunique()"
   ]
  },
  {
   "cell_type": "markdown",
   "metadata": {},
   "source": [
    "- The data has over 100k ratings by 610 users on 9724 movies"
   ]
  },
  {
   "cell_type": "code",
   "execution_count": 10,
   "metadata": {},
   "outputs": [
    {
     "data": {
      "text/plain": [
       "(610, 193609)"
      ]
     },
     "execution_count": 10,
     "metadata": {},
     "output_type": "execute_result"
    }
   ],
   "source": [
    "max(rating_df.userId), max(rating_df.movieId)"
   ]
  },
  {
   "cell_type": "markdown",
   "metadata": {},
   "source": [
    "  - The movie ids do not follow an order. \n",
    "  - 9724 movies have been selected that users with id 1 to 610 have rated so as to have 100k ratings. "
   ]
  },
  {
   "cell_type": "markdown",
   "metadata": {},
   "source": [
    "### Movies Information"
   ]
  },
  {
   "cell_type": "markdown",
   "metadata": {},
   "source": [
    "We are also provided the titles and genres of the movies in a separate file. "
   ]
  },
  {
   "cell_type": "code",
   "execution_count": 11,
   "metadata": {},
   "outputs": [],
   "source": [
    "movie_df = pd.read_csv(data_path + 'movies.csv', sep=',', header=0)"
   ]
  },
  {
   "cell_type": "code",
   "execution_count": 12,
   "metadata": {},
   "outputs": [
    {
     "data": {
      "text/html": [
       "<div>\n",
       "<style scoped>\n",
       "    .dataframe tbody tr th:only-of-type {\n",
       "        vertical-align: middle;\n",
       "    }\n",
       "\n",
       "    .dataframe tbody tr th {\n",
       "        vertical-align: top;\n",
       "    }\n",
       "\n",
       "    .dataframe thead th {\n",
       "        text-align: right;\n",
       "    }\n",
       "</style>\n",
       "<table border=\"1\" class=\"dataframe\">\n",
       "  <thead>\n",
       "    <tr style=\"text-align: right;\">\n",
       "      <th></th>\n",
       "      <th>movieId</th>\n",
       "      <th>title</th>\n",
       "      <th>genres</th>\n",
       "    </tr>\n",
       "  </thead>\n",
       "  <tbody>\n",
       "    <tr>\n",
       "      <th>0</th>\n",
       "      <td>1</td>\n",
       "      <td>Toy Story (1995)</td>\n",
       "      <td>Adventure|Animation|Children|Comedy|Fantasy</td>\n",
       "    </tr>\n",
       "    <tr>\n",
       "      <th>1</th>\n",
       "      <td>2</td>\n",
       "      <td>Jumanji (1995)</td>\n",
       "      <td>Adventure|Children|Fantasy</td>\n",
       "    </tr>\n",
       "    <tr>\n",
       "      <th>2</th>\n",
       "      <td>3</td>\n",
       "      <td>Grumpier Old Men (1995)</td>\n",
       "      <td>Comedy|Romance</td>\n",
       "    </tr>\n",
       "    <tr>\n",
       "      <th>3</th>\n",
       "      <td>4</td>\n",
       "      <td>Waiting to Exhale (1995)</td>\n",
       "      <td>Comedy|Drama|Romance</td>\n",
       "    </tr>\n",
       "    <tr>\n",
       "      <th>4</th>\n",
       "      <td>5</td>\n",
       "      <td>Father of the Bride Part II (1995)</td>\n",
       "      <td>Comedy</td>\n",
       "    </tr>\n",
       "  </tbody>\n",
       "</table>\n",
       "</div>"
      ],
      "text/plain": [
       "   movieId                               title  \\\n",
       "0        1                    Toy Story (1995)   \n",
       "1        2                      Jumanji (1995)   \n",
       "2        3             Grumpier Old Men (1995)   \n",
       "3        4            Waiting to Exhale (1995)   \n",
       "4        5  Father of the Bride Part II (1995)   \n",
       "\n",
       "                                        genres  \n",
       "0  Adventure|Animation|Children|Comedy|Fantasy  \n",
       "1                   Adventure|Children|Fantasy  \n",
       "2                               Comedy|Romance  \n",
       "3                         Comedy|Drama|Romance  \n",
       "4                                       Comedy  "
      ]
     },
     "execution_count": 12,
     "metadata": {},
     "output_type": "execute_result"
    }
   ],
   "source": [
    "movie_df.head()"
   ]
  },
  {
   "cell_type": "code",
   "execution_count": 13,
   "metadata": {},
   "outputs": [
    {
     "data": {
      "text/html": [
       "<div>\n",
       "<style scoped>\n",
       "    .dataframe tbody tr th:only-of-type {\n",
       "        vertical-align: middle;\n",
       "    }\n",
       "\n",
       "    .dataframe tbody tr th {\n",
       "        vertical-align: top;\n",
       "    }\n",
       "\n",
       "    .dataframe thead th {\n",
       "        text-align: right;\n",
       "    }\n",
       "</style>\n",
       "<table border=\"1\" class=\"dataframe\">\n",
       "  <thead>\n",
       "    <tr style=\"text-align: right;\">\n",
       "      <th></th>\n",
       "      <th>movieId</th>\n",
       "      <th>title</th>\n",
       "      <th>genres</th>\n",
       "    </tr>\n",
       "  </thead>\n",
       "  <tbody>\n",
       "    <tr>\n",
       "      <th>1611</th>\n",
       "      <td>2153</td>\n",
       "      <td>Avengers, The (1998)</td>\n",
       "      <td>Action|Adventure</td>\n",
       "    </tr>\n",
       "    <tr>\n",
       "      <th>6148</th>\n",
       "      <td>44020</td>\n",
       "      <td>Ultimate Avengers (2006)</td>\n",
       "      <td>Action|Animation|Children|Sci-Fi</td>\n",
       "    </tr>\n",
       "    <tr>\n",
       "      <th>7693</th>\n",
       "      <td>89745</td>\n",
       "      <td>Avengers, The (2012)</td>\n",
       "      <td>Action|Adventure|Sci-Fi|IMAX</td>\n",
       "    </tr>\n",
       "    <tr>\n",
       "      <th>8551</th>\n",
       "      <td>115727</td>\n",
       "      <td>Crippled Avengers (Can que) (Return of the 5 D...</td>\n",
       "      <td>Action|Adventure</td>\n",
       "    </tr>\n",
       "    <tr>\n",
       "      <th>8686</th>\n",
       "      <td>122892</td>\n",
       "      <td>Avengers: Age of Ultron (2015)</td>\n",
       "      <td>Action|Adventure|Sci-Fi</td>\n",
       "    </tr>\n",
       "    <tr>\n",
       "      <th>8693</th>\n",
       "      <td>122912</td>\n",
       "      <td>Avengers: Infinity War - Part I (2018)</td>\n",
       "      <td>Action|Adventure|Sci-Fi</td>\n",
       "    </tr>\n",
       "    <tr>\n",
       "      <th>9153</th>\n",
       "      <td>147657</td>\n",
       "      <td>Masked Avengers (1981)</td>\n",
       "      <td>Action</td>\n",
       "    </tr>\n",
       "    <tr>\n",
       "      <th>9488</th>\n",
       "      <td>170297</td>\n",
       "      <td>Ultimate Avengers 2 (2006)</td>\n",
       "      <td>Action|Animation|Sci-Fi</td>\n",
       "    </tr>\n",
       "  </tbody>\n",
       "</table>\n",
       "</div>"
      ],
      "text/plain": [
       "      movieId                                              title  \\\n",
       "1611     2153                               Avengers, The (1998)   \n",
       "6148    44020                           Ultimate Avengers (2006)   \n",
       "7693    89745                               Avengers, The (2012)   \n",
       "8551   115727  Crippled Avengers (Can que) (Return of the 5 D...   \n",
       "8686   122892                     Avengers: Age of Ultron (2015)   \n",
       "8693   122912             Avengers: Infinity War - Part I (2018)   \n",
       "9153   147657                             Masked Avengers (1981)   \n",
       "9488   170297                         Ultimate Avengers 2 (2006)   \n",
       "\n",
       "                                genres  \n",
       "1611                  Action|Adventure  \n",
       "6148  Action|Animation|Children|Sci-Fi  \n",
       "7693      Action|Adventure|Sci-Fi|IMAX  \n",
       "8551                  Action|Adventure  \n",
       "8686           Action|Adventure|Sci-Fi  \n",
       "8693           Action|Adventure|Sci-Fi  \n",
       "9153                            Action  \n",
       "9488           Action|Animation|Sci-Fi  "
      ]
     },
     "execution_count": 13,
     "metadata": {},
     "output_type": "execute_result"
    }
   ],
   "source": [
    "movie_df[movie_df['title'].str.contains('Avengers')]"
   ]
  },
  {
   "cell_type": "markdown",
   "metadata": {},
   "source": [
    "For the sake of completion and comparison, we start by studying matrix factorization based embeddings for recommendation. "
   ]
  },
  {
   "cell_type": "markdown",
   "metadata": {},
   "source": [
    "## Matrix Factorization "
   ]
  },
  {
   "cell_type": "markdown",
   "metadata": {},
   "source": [
    "A very popular technique for recommendation systems. We factorize the user-item matrix to obtain the user factors and item factors which are the low-dimensional embeddings such that 'similar' user/items are mapped to 'nearby' points. Moreover, the user and the movies are embedded to the same space, which provides a way to compute user-movie similarity. "
   ]
  },
  {
   "cell_type": "markdown",
   "metadata": {},
   "source": [
    "Create a matrix of ratings"
   ]
  },
  {
   "cell_type": "code",
   "execution_count": 14,
   "metadata": {},
   "outputs": [],
   "source": [
    "ratings_mat = np.ndarray(\n",
    "    shape=(np.max(rating_df.movieId.values), np.max(rating_df.userId.values)),\n",
    "    dtype=np.uint8)\n",
    "ratings_mat[rating_df.movieId.values-1, rating_df.userId.values-1] = rating_df.rating.values"
   ]
  },
  {
   "cell_type": "code",
   "execution_count": 15,
   "metadata": {},
   "outputs": [
    {
     "data": {
      "text/plain": [
       "(193609, 610)"
      ]
     },
     "execution_count": 15,
     "metadata": {},
     "output_type": "execute_result"
    }
   ],
   "source": [
    "ratings_mat.shape"
   ]
  },
  {
   "cell_type": "markdown",
   "metadata": {},
   "source": [
    "Normalize the rating matrix"
   ]
  },
  {
   "cell_type": "code",
   "execution_count": 16,
   "metadata": {},
   "outputs": [],
   "source": [
    "normalised_mat = ratings_mat - np.asarray([(np.mean(ratings_mat, 1))]).T"
   ]
  },
  {
   "cell_type": "markdown",
   "metadata": {},
   "source": [
    "We will use **Singular Value Decomposition (SVD)** for factorizing the matrix. I'm delibately skipping any discussion of the mathematics of SVD. Since the user-movie rating matrix is very sparse, it is more efficient to use the implementation from scipy.sparse. "
   ]
  },
  {
   "cell_type": "markdown",
   "metadata": {},
   "source": [
    "The number of the latent-factors is chosen to be 50 i.e. top-50 singular values of the SVD are considered. The choice of the number of latent factors is a hyperparameter of the model, and requires a more sophisticated analysis to tune. We provide no reason for the choice of 50. "
   ]
  },
  {
   "cell_type": "code",
   "execution_count": 17,
   "metadata": {},
   "outputs": [],
   "source": [
    "n_factors = 50"
   ]
  },
  {
   "cell_type": "code",
   "execution_count": 18,
   "metadata": {},
   "outputs": [],
   "source": [
    "A = normalised_mat.T / np.sqrt(ratings_mat.shape[0] - 1)\n",
    "U, S, V = svds(A, n_factors)"
   ]
  },
  {
   "cell_type": "code",
   "execution_count": 19,
   "metadata": {},
   "outputs": [
    {
     "data": {
      "text/plain": [
       "(610, 50)"
      ]
     },
     "execution_count": 19,
     "metadata": {},
     "output_type": "execute_result"
    }
   ],
   "source": [
    "U.shape"
   ]
  },
  {
   "cell_type": "code",
   "execution_count": 20,
   "metadata": {},
   "outputs": [
    {
     "data": {
      "text/plain": [
       "(50, 193609)"
      ]
     },
     "execution_count": 20,
     "metadata": {},
     "output_type": "execute_result"
    }
   ],
   "source": [
    "V.shape"
   ]
  },
  {
   "cell_type": "code",
   "execution_count": 21,
   "metadata": {},
   "outputs": [],
   "source": [
    "movie_factors = V.T\n",
    "user_factors = U"
   ]
  },
  {
   "cell_type": "markdown",
   "metadata": {},
   "source": [
    "Instead of representing each movie as a sparse vector of the ratings of all 360,000 possible users for it, after factorizing the matrix each movie will be represented by a 50 dimensional dense vector."
   ]
  },
  {
   "cell_type": "markdown",
   "metadata": {},
   "source": [
    "### Evaluation and understanding"
   ]
  },
  {
   "cell_type": "markdown",
   "metadata": {},
   "source": [
    "Let's study some examples to have a qualitative understanding. Cosine similarity of the latent factors of two movies signifies how similar the movies are."
   ]
  },
  {
   "cell_type": "code",
   "execution_count": 22,
   "metadata": {},
   "outputs": [
    {
     "data": {
      "text/plain": [
       "('Star Wars: Episode IV - A New Hope (1977)',\n",
       " 'Star Wars: Episode V - The Empire Strikes Back (1980)')"
      ]
     },
     "execution_count": 22,
     "metadata": {},
     "output_type": "execute_result"
    }
   ],
   "source": [
    "idx = 260\n",
    "movie_df[movie_df.movieId == idx].title.values[0],  movie_df[movie_df.movieId == 1196].title.values[0]"
   ]
  },
  {
   "cell_type": "code",
   "execution_count": 23,
   "metadata": {},
   "outputs": [
    {
     "data": {
      "text/plain": [
       "0.8777832979913568"
      ]
     },
     "execution_count": 23,
     "metadata": {},
     "output_type": "execute_result"
    }
   ],
   "source": [
    "1.0 - cosine(movie_factors[259], movie_factors[1195])"
   ]
  },
  {
   "cell_type": "code",
   "execution_count": 24,
   "metadata": {},
   "outputs": [
    {
     "data": {
      "text/plain": [
       "('Star Wars: Episode VI - Return of the Jedi (1983)', 0.8518636866885215)"
      ]
     },
     "execution_count": 24,
     "metadata": {},
     "output_type": "execute_result"
    }
   ],
   "source": [
    "movie_df[movie_df.movieId == 1210].title.values[0], 1.0 - cosine(movie_factors[259], movie_factors[1209])"
   ]
  },
  {
   "cell_type": "code",
   "execution_count": 25,
   "metadata": {},
   "outputs": [
    {
     "data": {
      "text/plain": [
       "('Toy Story (1995)', 0.20152844265131886)"
      ]
     },
     "execution_count": 25,
     "metadata": {},
     "output_type": "execute_result"
    }
   ],
   "source": [
    "movie_df[movie_df.movieId == 1].title.values[0], 1.0 - cosine(movie_factors[259], movie_factors[0])"
   ]
  },
  {
   "cell_type": "markdown",
   "metadata": {},
   "source": [
    "The similarity of the 'Star Wars: Episode IV - A New Hope' is higher for the movies 'Star Wars: Episode V - The Empire Strikes Back' and 'Star Wars: Episode VI - Return of the Jedi' and is much lower for 'Toy Story'. Moreover, the 'Star Wars: Episode VI' is closer to 'Star Wars: Episode IV' than the 'Star Wars: Episode V'.  "
   ]
  },
  {
   "cell_type": "markdown",
   "metadata": {},
   "source": [
    "Let's compute k-neareast neighboring movies for a given movie. "
   ]
  },
  {
   "cell_type": "code",
   "execution_count": 26,
   "metadata": {},
   "outputs": [],
   "source": [
    "def get_similar_movies_matrix_factorization(data, movieid, top_n=10):\n",
    "    index = movieid - 1 # Movie id starts from 1\n",
    "    movie = movie_df[movie_df.movieId == movieid].title.values[0]\n",
    "    movie_row = data[index].reshape(1,-1)\n",
    "    similarity = cosine_similarity(movie_row, data)\n",
    "    sort_indexes = np.argsort(-similarity)[0]\n",
    "    return {'movie': movie, 'sim_movies': [movie_df[movie_df.movieId == id].title.values[0] for id in sort_indexes[:top_n] + 1]}"
   ]
  },
  {
   "cell_type": "code",
   "execution_count": 27,
   "metadata": {},
   "outputs": [
    {
     "data": {
      "text/plain": [
       "{'movie': 'Star Wars: Episode IV - A New Hope (1977)',\n",
       " 'sim_movies': ['Star Wars: Episode IV - A New Hope (1977)',\n",
       "  'Star Wars: Episode V - The Empire Strikes Back (1980)',\n",
       "  'Star Wars: Episode VI - Return of the Jedi (1983)',\n",
       "  'Raiders of the Lost Ark (Indiana Jones and the Raiders of the Lost Ark) (1981)',\n",
       "  'Lesson Faust (1994)',\n",
       "  'Touch (1997)',\n",
       "  'Inferno (2016)',\n",
       "  'Beverly Hills Chihuahua (2008)',\n",
       "  'Matrix, The (1999)',\n",
       "  'Star Wars: Episode III - Revenge of the Sith (2005)']}"
      ]
     },
     "execution_count": 27,
     "metadata": {},
     "output_type": "execute_result"
    }
   ],
   "source": [
    "movie_id = 260\n",
    "get_similar_movies_matrix_factorization(movie_factors, movie_id)"
   ]
  },
  {
   "cell_type": "code",
   "execution_count": 28,
   "metadata": {},
   "outputs": [
    {
     "data": {
      "text/plain": [
       "{'movie': 'Toy Story (1995)',\n",
       " 'sim_movies': ['Toy Story (1995)',\n",
       "  'Toy Story 2 (1999)',\n",
       "  'Adventures of Pinocchio, The (1996)',\n",
       "  'Eddie (1996)',\n",
       "  'Children of the Corn IV: The Gathering (1996)',\n",
       "  'Twister (1996)',\n",
       "  'Sudden Death (1995)',\n",
       "  'Dear God (1996)',\n",
       "  'Kazaam (1996)',\n",
       "  'Sunset Park (1996)']}"
      ]
     },
     "execution_count": 28,
     "metadata": {},
     "output_type": "execute_result"
    }
   ],
   "source": [
    "movie_id = 1\n",
    "get_similar_movies_matrix_factorization(movie_factors, movie_id)"
   ]
  },
  {
   "cell_type": "markdown",
   "metadata": {},
   "source": [
    "### Recommendation"
   ]
  },
  {
   "cell_type": "markdown",
   "metadata": {},
   "source": [
    "Since the user and movies are in the same space, we can also compute movies similar to a user. A recommendation model can be defined as showing movies similar to the given user.  "
   ]
  },
  {
   "cell_type": "code",
   "execution_count": 32,
   "metadata": {},
   "outputs": [],
   "source": [
    "def get_recommendations_matrix_factorization(userid, user_factors, movie_factors, top_n=10):\n",
    "    user_vec = user_factors[userid - 1].reshape(1,-1)\n",
    "    similarity = cosine_similarity(user_vec, movie_factors)\n",
    "    sort_indexes = np.argsort(-similarity)[0]\n",
    "    return [movie_df[movie_df.movieId == id].title.values[0] for id in sort_indexes[:top_n] + 1]   "
   ]
  },
  {
   "cell_type": "code",
   "execution_count": 33,
   "metadata": {},
   "outputs": [
    {
     "data": {
      "text/plain": [
       "['Best Men (1997)',\n",
       " \"Gulliver's Travels (1939)\",\n",
       " 'Newton Boys, The (1998)',\n",
       " 'Teenage Mutant Ninja Turtles III (1993)',\n",
       " 'Welcome to Woop-Woop (1997)',\n",
       " 'Romancing the Stone (1984)',\n",
       " 'Wolf Man, The (1941)',\n",
       " 'Red Dawn (1984)',\n",
       " 'Goonies, The (1985)',\n",
       " 'Howard the Duck (1986)']"
      ]
     },
     "execution_count": 33,
     "metadata": {},
     "output_type": "execute_result"
    }
   ],
   "source": [
    "top_recos = get_recommendations_matrix_factorization(1, user_factors, movie_factors)\n",
    "top_recos"
   ]
  },
  {
   "cell_type": "code",
   "execution_count": 34,
   "metadata": {},
   "outputs": [
    {
     "data": {
      "text/plain": [
       "['The Jinx: The Life and Deaths of Robert Durst (2015)',\n",
       " 'Visit, The (2015)',\n",
       " 'Shutter Island (2010)',\n",
       " 'Iron Man & Hulk: Heroes United (2013)',\n",
       " \"Hachiko: A Dog's Story (a.k.a. Hachi: A Dog's Tale) (2009)\",\n",
       " 'Girl with the Dragon Tattoo, The (2011)',\n",
       " 'Inception (2010)',\n",
       " 'The Hungover Games (2014)',\n",
       " 'Django Unchained (2012)',\n",
       " 'Inglourious Basterds (2009)']"
      ]
     },
     "execution_count": 34,
     "metadata": {},
     "output_type": "execute_result"
    }
   ],
   "source": [
    "top_recos = get_recommendations_matrix_factorization(2, user_factors, movie_factors)\n",
    "top_recos"
   ]
  },
  {
   "cell_type": "markdown",
   "metadata": {},
   "source": [
    "## Graph Embeddings"
   ]
  },
  {
   "cell_type": "markdown",
   "metadata": {},
   "source": [
    "Extending the same formulation of mapping users and movies to the same low-dimensional space, we discuss unsupervised graph embeddings.  "
   ]
  },
  {
   "cell_type": "markdown",
   "metadata": {},
   "source": [
    "First, create a user-movie graph with edge weights as the ratings.  "
   ]
  },
  {
   "cell_type": "code",
   "execution_count": 35,
   "metadata": {},
   "outputs": [],
   "source": [
    "import networkx as nx"
   ]
  },
  {
   "cell_type": "code",
   "execution_count": 37,
   "metadata": {
    "scrolled": true
   },
   "outputs": [
    {
     "data": {
      "text/html": [
       "<div>\n",
       "<style scoped>\n",
       "    .dataframe tbody tr th:only-of-type {\n",
       "        vertical-align: middle;\n",
       "    }\n",
       "\n",
       "    .dataframe tbody tr th {\n",
       "        vertical-align: top;\n",
       "    }\n",
       "\n",
       "    .dataframe thead th {\n",
       "        text-align: right;\n",
       "    }\n",
       "</style>\n",
       "<table border=\"1\" class=\"dataframe\">\n",
       "  <thead>\n",
       "    <tr style=\"text-align: right;\">\n",
       "      <th></th>\n",
       "      <th>userId</th>\n",
       "      <th>movieId</th>\n",
       "      <th>rating</th>\n",
       "    </tr>\n",
       "  </thead>\n",
       "  <tbody>\n",
       "    <tr>\n",
       "      <th>0</th>\n",
       "      <td>1</td>\n",
       "      <td>1</td>\n",
       "      <td>4.0</td>\n",
       "    </tr>\n",
       "    <tr>\n",
       "      <th>1</th>\n",
       "      <td>1</td>\n",
       "      <td>3</td>\n",
       "      <td>4.0</td>\n",
       "    </tr>\n",
       "    <tr>\n",
       "      <th>2</th>\n",
       "      <td>1</td>\n",
       "      <td>6</td>\n",
       "      <td>4.0</td>\n",
       "    </tr>\n",
       "    <tr>\n",
       "      <th>3</th>\n",
       "      <td>1</td>\n",
       "      <td>47</td>\n",
       "      <td>5.0</td>\n",
       "    </tr>\n",
       "    <tr>\n",
       "      <th>4</th>\n",
       "      <td>1</td>\n",
       "      <td>50</td>\n",
       "      <td>5.0</td>\n",
       "    </tr>\n",
       "  </tbody>\n",
       "</table>\n",
       "</div>"
      ],
      "text/plain": [
       "   userId  movieId  rating\n",
       "0       1        1     4.0\n",
       "1       1        3     4.0\n",
       "2       1        6     4.0\n",
       "3       1       47     5.0\n",
       "4       1       50     5.0"
      ]
     },
     "execution_count": 37,
     "metadata": {},
     "output_type": "execute_result"
    }
   ],
   "source": [
    "user_item_edgelist = rating_df[['userId', 'movieId', 'rating']]\n",
    "user_item_edgelist.head()"
   ]
  },
  {
   "cell_type": "code",
   "execution_count": 38,
   "metadata": {},
   "outputs": [
    {
     "data": {
      "text/plain": [
       "(100836, 3)"
      ]
     },
     "execution_count": 38,
     "metadata": {},
     "output_type": "execute_result"
    }
   ],
   "source": [
    "user_item_edgelist.shape"
   ]
  },
  {
   "cell_type": "markdown",
   "metadata": {},
   "source": [
    "Since userids and movieids both start from 1, and thus same id can correspond to a user and a movie. We will map the ids to unique integers. "
   ]
  },
  {
   "cell_type": "code",
   "execution_count": 39,
   "metadata": {},
   "outputs": [],
   "source": [
    "user2dict = dict()\n",
    "movie2dict = dict()\n",
    "cnt = 0\n",
    "for x in user_item_edgelist.values:\n",
    "    usr = (x[0], 'user')\n",
    "    movie = (x[1], 'movie')\n",
    "    if usr in user2dict:\n",
    "        pass\n",
    "    else:\n",
    "        user2dict[usr] = cnt\n",
    "        cnt += 1\n",
    "    if movie in movie2dict:\n",
    "        pass\n",
    "    else:\n",
    "        movie2dict[movie] = cnt\n",
    "        cnt += 1"
   ]
  },
  {
   "cell_type": "code",
   "execution_count": 40,
   "metadata": {},
   "outputs": [
    {
     "data": {
      "text/plain": [
       "(610, 9724)"
      ]
     },
     "execution_count": 40,
     "metadata": {},
     "output_type": "execute_result"
    }
   ],
   "source": [
    "len(user2dict), len(movie2dict)"
   ]
  },
  {
   "cell_type": "code",
   "execution_count": 41,
   "metadata": {},
   "outputs": [
    {
     "data": {
      "text/plain": [
       "10334"
      ]
     },
     "execution_count": 41,
     "metadata": {},
     "output_type": "execute_result"
    }
   ],
   "source": [
    "len(user2dict) + len(movie2dict)"
   ]
  },
  {
   "cell_type": "markdown",
   "metadata": {},
   "source": [
    "Define the user-movie graph."
   ]
  },
  {
   "cell_type": "code",
   "execution_count": 42,
   "metadata": {},
   "outputs": [],
   "source": [
    "user_movie_graph = nx.Graph()"
   ]
  },
  {
   "cell_type": "code",
   "execution_count": 43,
   "metadata": {},
   "outputs": [],
   "source": [
    "for x in user_item_edgelist.values:\n",
    "    usr = (x[0], 'user')\n",
    "    movie = (x[1], 'movie')\n",
    "    user_movie_graph.add_node(user2dict[usr])\n",
    "    user_movie_graph.add_node(movie2dict[movie])\n",
    "    user_movie_graph.add_edge(user2dict[usr], movie2dict[movie], weight=float(x[2]))"
   ]
  },
  {
   "cell_type": "code",
   "execution_count": 44,
   "metadata": {},
   "outputs": [
    {
     "data": {
      "text/plain": [
       "100836"
      ]
     },
     "execution_count": 44,
     "metadata": {},
     "output_type": "execute_result"
    }
   ],
   "source": [
    "user_movie_graph.number_of_edges()"
   ]
  },
  {
   "cell_type": "code",
   "execution_count": 45,
   "metadata": {},
   "outputs": [
    {
     "data": {
      "text/plain": [
       "10334"
      ]
     },
     "execution_count": 45,
     "metadata": {},
     "output_type": "execute_result"
    }
   ],
   "source": [
    "user_movie_graph.number_of_nodes()"
   ]
  },
  {
   "cell_type": "markdown",
   "metadata": {},
   "source": [
    "### DeepWalk"
   ]
  },
  {
   "cell_type": "markdown",
   "metadata": {},
   "source": [
    "DeepWalk embeds every node of a homogeneous graph into a low-dimensional space such that nodes that co-occur in same 'context' on truncated random walks are mapped to nearby points. We will not go into details of the model, for further details [read](https://arxiv.org/abs/1403.6652).  \n",
    "\n",
    "DeepWalk works in following steps:\n",
    "   - Generate fixed-length random walks starting from each node.\n",
    "   - Create context nodes for each (center) node as those occuring within a fixed size window around the center node on a random walk. \n",
    "   - Skip-gram model to map center node to the context node. "
   ]
  },
  {
   "cell_type": "markdown",
   "metadata": {},
   "source": [
    "The implementation of **DeepWalk** is borrowed heavily from [node2vec repository](https://github.com/aditya-grover/node2vec) which is a bit different from original DeepWalk e.g. it uses *negative sampling* whereas the original DeepWalk paper used *hierarchical sampling* for the **skip-gram model**. "
   ]
  },
  {
   "cell_type": "markdown",
   "metadata": {},
   "source": [
    "To create embeddings from the context and non-context pairs, we are using Gensim python library. One can easily use Google **word2vec** or Facebook **fasttext** for this task. "
   ]
  },
  {
   "cell_type": "code",
   "execution_count": 46,
   "metadata": {},
   "outputs": [],
   "source": [
    "import node2vec \n",
    "from gensim.models import Word2Vec"
   ]
  },
  {
   "cell_type": "code",
   "execution_count": 47,
   "metadata": {},
   "outputs": [],
   "source": [
    "G = node2vec.Graph(user_movie_graph, is_directed=False, p=1, q=1)"
   ]
  },
  {
   "cell_type": "code",
   "execution_count": 48,
   "metadata": {},
   "outputs": [],
   "source": [
    "# Compute the transition probabilities based on the edge weights. \n",
    "G.preprocess_transition_probs()"
   ]
  },
  {
   "cell_type": "markdown",
   "metadata": {},
   "source": [
    "Compute the random walks. \n",
    "  - 10 walks for every node.\n",
    "  - Each walk of length 80. "
   ]
  },
  {
   "cell_type": "code",
   "execution_count": 49,
   "metadata": {},
   "outputs": [
    {
     "name": "stdout",
     "output_type": "stream",
     "text": [
      "Walk iteration:\n",
      "1 / 10\n",
      "2 / 10\n",
      "3 / 10\n",
      "4 / 10\n",
      "5 / 10\n",
      "6 / 10\n",
      "7 / 10\n",
      "8 / 10\n",
      "9 / 10\n",
      "10 / 10\n"
     ]
    }
   ],
   "source": [
    "walks = G.simulate_walks(num_walks=10, walk_length=100)"
   ]
  },
  {
   "cell_type": "code",
   "execution_count": 50,
   "metadata": {},
   "outputs": [
    {
     "data": {
      "text/plain": [
       "103340"
      ]
     },
     "execution_count": 50,
     "metadata": {},
     "output_type": "execute_result"
    }
   ],
   "source": [
    "len(walks)"
   ]
  },
  {
   "cell_type": "markdown",
   "metadata": {},
   "source": [
    "Learn Embeddings via Gensim, which creates context/non-context pairs and then Skip-gram. "
   ]
  },
  {
   "cell_type": "code",
   "execution_count": 51,
   "metadata": {},
   "outputs": [],
   "source": [
    "def learn_embeddings(walks):\n",
    "    '''\n",
    "    Learn embeddings by optimizing the Skipgram objective using SGD.\n",
    "    Uses Gensim Word2Vec.\n",
    "    '''\n",
    "    walks = [list(map(str, walk)) for walk in walks]\n",
    "    model = Word2Vec(walks, size=50, window=10, min_count=0, sg=1, workers=8, iter=1)\n",
    "    return model.wv"
   ]
  },
  {
   "cell_type": "code",
   "execution_count": 52,
   "metadata": {},
   "outputs": [],
   "source": [
    "node_embeddings = learn_embeddings(walks)"
   ]
  },
  {
   "cell_type": "markdown",
   "metadata": {},
   "source": [
    "The output of gensim is a specific type of key-value pair with keys as the string-ed node ids and the values are numpy array of embeddings, each of shape (50,)"
   ]
  },
  {
   "cell_type": "code",
   "execution_count": 53,
   "metadata": {},
   "outputs": [
    {
     "data": {
      "text/plain": [
       "array([-1.25098601e-01,  6.01470351e-01,  2.64803529e-01, -2.50079751e-01,\n",
       "        1.08021811e-01, -4.57026027e-02,  6.71414495e-01,  3.82575393e-01,\n",
       "       -3.29733878e-01,  2.25284090e-03,  2.32380778e-01,  8.54553804e-02,\n",
       "        7.19717741e-02, -2.19303206e-01,  5.27384575e-04,  6.83498904e-02,\n",
       "        8.37790728e-01, -1.65708214e-01,  5.46279773e-02, -7.83528909e-02,\n",
       "        1.35477856e-01,  1.21959478e-01,  1.41724125e-01, -1.25758946e-01,\n",
       "        2.74086416e-01, -3.70948762e-01, -6.41676128e-01,  6.02644086e-01,\n",
       "       -4.97822076e-01,  6.00377358e-02,  2.69516826e-01, -4.41659153e-01,\n",
       "       -2.13203043e-01,  4.30300862e-01,  2.91034758e-01,  1.88774347e-01,\n",
       "        6.35144830e-01,  6.97985068e-02, -7.35652894e-02, -2.00328991e-01,\n",
       "        4.03339565e-02, -2.56082833e-01,  1.81893006e-01,  4.24633592e-01,\n",
       "       -1.73566341e-01,  6.46947265e-01, -1.22240573e-01,  1.84876751e-02,\n",
       "        1.03271715e-01,  1.78193837e-01], dtype=float32)"
      ]
     },
     "execution_count": 53,
     "metadata": {},
     "output_type": "execute_result"
    }
   ],
   "source": [
    "node_embeddings['0']"
   ]
  },
  {
   "cell_type": "code",
   "execution_count": 54,
   "metadata": {},
   "outputs": [
    {
     "data": {
      "text/plain": [
       "(50,)"
      ]
     },
     "execution_count": 54,
     "metadata": {},
     "output_type": "execute_result"
    }
   ],
   "source": [
    "node_embeddings['0'].shape"
   ]
  },
  {
   "cell_type": "markdown",
   "metadata": {},
   "source": [
    "## Evaluation"
   ]
  },
  {
   "cell_type": "markdown",
   "metadata": {},
   "source": [
    "Let's look at the same examples that we used to qualitatively investigate the matrix factorization based embeddings.\n",
    "- 260 = Star Wars IV\n",
    "- 1196 = Star Wars V\n",
    "- 1210 = Star Wars VI\n",
    "- 1 = Toy Stroy"
   ]
  },
  {
   "cell_type": "code",
   "execution_count": 55,
   "metadata": {},
   "outputs": [
    {
     "data": {
      "text/plain": [
       "0.8959806561470032"
      ]
     },
     "execution_count": 55,
     "metadata": {},
     "output_type": "execute_result"
    }
   ],
   "source": [
    "movie1 = str(movie2dict[(260, 'movie')])\n",
    "movie2 = str(movie2dict[(1196, 'movie')])\n",
    "1.0 - cosine(node_embeddings[movie1], node_embeddings[movie2])"
   ]
  },
  {
   "cell_type": "code",
   "execution_count": 56,
   "metadata": {},
   "outputs": [
    {
     "data": {
      "text/plain": [
       "0.8984009623527527"
      ]
     },
     "execution_count": 56,
     "metadata": {},
     "output_type": "execute_result"
    }
   ],
   "source": [
    "movie3 = str(movie2dict[(1210, 'movie')])\n",
    "1.0 - cosine(node_embeddings[movie1], node_embeddings[movie3])"
   ]
  },
  {
   "cell_type": "code",
   "execution_count": 57,
   "metadata": {},
   "outputs": [
    {
     "data": {
      "text/plain": [
       "0.7448261380195618"
      ]
     },
     "execution_count": 57,
     "metadata": {},
     "output_type": "execute_result"
    }
   ],
   "source": [
    "movie4 = str(movie2dict[(1, 'movie')])\n",
    "1.0 - cosine(node_embeddings[movie1], node_embeddings[movie4])"
   ]
  },
  {
   "cell_type": "markdown",
   "metadata": {},
   "source": [
    "Since we worked with integer ids for nodes, let's create reverse mapping dictionaries that map integer user/movie to their actual ids. "
   ]
  },
  {
   "cell_type": "code",
   "execution_count": 58,
   "metadata": {},
   "outputs": [],
   "source": [
    "reverse_movie2dict = {k:v for v,k in movie2dict.items()}\n",
    "reverse_user2dict = {k:v for v,k in user2dict.items()}"
   ]
  },
  {
   "cell_type": "code",
   "execution_count": 59,
   "metadata": {},
   "outputs": [
    {
     "data": {
      "text/plain": [
       "(10334, 50)"
      ]
     },
     "execution_count": 59,
     "metadata": {},
     "output_type": "execute_result"
    }
   ],
   "source": [
    "node_vecs = [node_embeddings[str(i)] for i in range(cnt)]\n",
    "node_vecs = np.array(node_vecs)\n",
    "node_vecs.shape"
   ]
  },
  {
   "cell_type": "markdown",
   "metadata": {},
   "source": [
    "Similar Movies"
   ]
  },
  {
   "cell_type": "code",
   "execution_count": 60,
   "metadata": {},
   "outputs": [],
   "source": [
    "def get_similar_movies_graph_embeddings(movieid, movie_embed, top_n=10):\n",
    "    movie_idx = movie2dict[movieid]\n",
    "    query = movie_embed[movie_idx].reshape(1,-1)\n",
    "    ranking = cosine_similarity(query, movie_embed)\n",
    "    top_ids = np.argsort(-ranking)[0]\n",
    "    top_movie_ids = [reverse_movie2dict[j] for j in top_ids if j in reverse_movie2dict][:top_n]\n",
    "    sim_movies = [movie_df[movie_df.movieId == id[0]].title.values[0] for id in top_movie_ids]\n",
    "    return sim_movies"
   ]
  },
  {
   "cell_type": "code",
   "execution_count": 61,
   "metadata": {},
   "outputs": [
    {
     "data": {
      "text/plain": [
       "['Star Wars: Episode IV - A New Hope (1977)',\n",
       " 'Star Wars: Episode VI - Return of the Jedi (1983)',\n",
       " 'Star Wars: Episode V - The Empire Strikes Back (1980)',\n",
       " 'Raiders of the Lost Ark (Indiana Jones and the Raiders of the Lost Ark) (1981)',\n",
       " 'Independence Day (a.k.a. ID4) (1996)',\n",
       " 'Matrix, The (1999)',\n",
       " 'Spy Next Door, The (2010)',\n",
       " 'Back to the Future (1985)',\n",
       " 'Behind Enemy Lines II: Axis of Evil (2006)',\n",
       " 'Mission: Impossible (1996)']"
      ]
     },
     "execution_count": 61,
     "metadata": {},
     "output_type": "execute_result"
    }
   ],
   "source": [
    "get_similar_movies_graph_embeddings((260, 'movie'), node_vecs)[:10]"
   ]
  },
  {
   "cell_type": "code",
   "execution_count": 62,
   "metadata": {},
   "outputs": [
    {
     "data": {
      "text/plain": [
       "['Avengers: Infinity War - Part I (2018)',\n",
       " 'Thor: Ragnarok (2017)',\n",
       " 'Deadpool 2 (2018)',\n",
       " 'Guardians of the Galaxy 2 (2017)',\n",
       " 'Untitled Spider-Man Reboot (2017)',\n",
       " 'Star Wars: The Last Jedi (2017)',\n",
       " 'Mission: Impossible - Fallout (2018)',\n",
       " 'Captain America: Civil War (2016)',\n",
       " 'Justice League (2017)',\n",
       " 'Incredibles 2 (2018)']"
      ]
     },
     "execution_count": 62,
     "metadata": {},
     "output_type": "execute_result"
    }
   ],
   "source": [
    "get_similar_movies_graph_embeddings((122912, 'movie'), node_vecs)[:10]"
   ]
  },
  {
   "cell_type": "code",
   "execution_count": 63,
   "metadata": {},
   "outputs": [
    {
     "data": {
      "text/plain": [
       "['Toy Story (1995)',\n",
       " 'Twister (1996)',\n",
       " 'Independence Day (a.k.a. ID4) (1996)',\n",
       " 'Lion King, The (1994)',\n",
       " 'Mission: Impossible (1996)',\n",
       " 'Twelve Monkeys (a.k.a. 12 Monkeys) (1995)',\n",
       " 'Sunset Park (1996)',\n",
       " 'Willy Wonka & the Chocolate Factory (1971)',\n",
       " 'Jurassic Park (1993)',\n",
       " 'Father of the Bride Part II (1995)']"
      ]
     },
     "execution_count": 63,
     "metadata": {},
     "output_type": "execute_result"
    }
   ],
   "source": [
    "get_similar_movies_graph_embeddings((1, 'movie'), node_vecs)[:10]"
   ]
  },
  {
   "cell_type": "markdown",
   "metadata": {},
   "source": [
    "### Recommendation"
   ]
  },
  {
   "cell_type": "code",
   "execution_count": 64,
   "metadata": {},
   "outputs": [],
   "source": [
    "def get_recommended_movies_graph_embeddings(userid, movie_vecs, top_n=10):\n",
    "    user_idx = user2dict[userid]\n",
    "    query = movie_vecs[user_idx].reshape(1,-1)\n",
    "    ranking = cosine_similarity(query, movie_vecs)\n",
    "    top_ids = np.argsort(-ranking)[0]\n",
    "    top_movie_ids = [reverse_movie2dict[j] for j in top_ids if j in reverse_movie2dict][:top_n]\n",
    "    reco_movies = [movie_df[movie_df.movieId == id[0]].title.values[0] for id in top_movie_ids]\n",
    "    return reco_movies"
   ]
  },
  {
   "cell_type": "code",
   "execution_count": 65,
   "metadata": {},
   "outputs": [
    {
     "data": {
      "text/plain": [
       "['Best Men (1997)',\n",
       " 'Newton Boys, The (1998)',\n",
       " \"Gulliver's Travels (1939)\",\n",
       " 'Shaft (1971)',\n",
       " 'Howard the Duck (1986)',\n",
       " 'American Tail, An (1986)',\n",
       " 'Song of the South (1946)',\n",
       " 'Welcome to Woop-Woop (1997)',\n",
       " 'Quiet Man, The (1952)',\n",
       " 'Teenage Mutant Ninja Turtles III (1993)']"
      ]
     },
     "execution_count": 65,
     "metadata": {},
     "output_type": "execute_result"
    }
   ],
   "source": [
    "get_recommended_movies_graph_embeddings((1, 'user'), node_vecs, top_n=10)"
   ]
  },
  {
   "cell_type": "code",
   "execution_count": 103,
   "metadata": {},
   "outputs": [
    {
     "data": {
      "text/plain": [
       "['The Jinx: The Life and Deaths of Robert Durst (2015)',\n",
       " 'Shutter Island (2010)',\n",
       " 'The Drop (2014)',\n",
       " 'Warrior (2011)',\n",
       " 'Django Unchained (2012)',\n",
       " 'Dark Knight Rises, The (2012)',\n",
       " 'Inside Job (2010)',\n",
       " 'Wolf of Wall Street, The (2013)',\n",
       " 'The Great Hypnotist (2014)',\n",
       " 'Ex Machina (2015)']"
      ]
     },
     "execution_count": 103,
     "metadata": {},
     "output_type": "execute_result"
    }
   ],
   "source": [
    "get_recommended_movies_graph_embeddings((2, 'user'), node_vecs, top_n=10)"
   ]
  },
  {
   "cell_type": "markdown",
   "metadata": {},
   "source": [
    "Compare recommendations generated by graph embeddings to those of matrix factorization. "
   ]
  },
  {
   "cell_type": "code",
   "execution_count": 104,
   "metadata": {},
   "outputs": [
    {
     "data": {
      "text/plain": [
       "{'American Tail, An (1986)',\n",
       " \"Gulliver's Travels (1939)\",\n",
       " 'Newton Boys, The (1998)',\n",
       " 'Quiet Man, The (1952)',\n",
       " 'Shaft (1971)'}"
      ]
     },
     "execution_count": 104,
     "metadata": {},
     "output_type": "execute_result"
    }
   ],
   "source": [
    "recos = set(get_recommended_movies_graph_embeddings((1, 'user'), node_vecs, top_n=10))\n",
    "high_rated_movies = set([movie_df[movie_df.movieId == id].title.values[0] for id in rating_df[(rating_df['userId'] == 1) & (rating_df['rating'] >= 4.5)].movieId.values])\n",
    "recos.intersection(high_rated_movies)"
   ]
  },
  {
   "cell_type": "code",
   "execution_count": 106,
   "metadata": {},
   "outputs": [
    {
     "data": {
      "text/plain": [
       "0.5"
      ]
     },
     "execution_count": 106,
     "metadata": {},
     "output_type": "execute_result"
    }
   ],
   "source": [
    "precision_at_10 = len(recos.intersection(high_rated_movies)) / 10\n",
    "precision_at_10"
   ]
  },
  {
   "cell_type": "code",
   "execution_count": 107,
   "metadata": {},
   "outputs": [
    {
     "data": {
      "text/plain": [
       "{'Goonies, The (1985)',\n",
       " \"Gulliver's Travels (1939)\",\n",
       " 'Newton Boys, The (1998)',\n",
       " 'Red Dawn (1984)',\n",
       " 'Wolf Man, The (1941)'}"
      ]
     },
     "execution_count": 107,
     "metadata": {},
     "output_type": "execute_result"
    }
   ],
   "source": [
    "recos_mf = set(get_recommendations_matrix_factorization(1, user_factors, movie_factors))\n",
    "recos_mf.intersection(high_rated_movies)"
   ]
  },
  {
   "cell_type": "code",
   "execution_count": 109,
   "metadata": {},
   "outputs": [
    {
     "data": {
      "text/plain": [
       "0.5"
      ]
     },
     "execution_count": 109,
     "metadata": {},
     "output_type": "execute_result"
    }
   ],
   "source": [
    "precision_at_10_mf = len(recos_mf.intersection(high_rated_movies)) / 10\n",
    "precision_at_10_mf"
   ]
  },
  {
   "cell_type": "code",
   "execution_count": 114,
   "metadata": {},
   "outputs": [
    {
     "name": "stdout",
     "output_type": "stream",
     "text": [
      "precision at 10 for ge:  0.4\n",
      "precision at 10 for mf:  0.2\n"
     ]
    }
   ],
   "source": [
    "idx = 2\n",
    "recos_ge = set(get_recommended_movies_graph_embeddings((idx, 'user'), node_vecs, top_n=10))\n",
    "high_rated_movies = set([movie_df[movie_df.movieId == id].title.values[0] for id in rating_df[(rating_df['userId'] == idx) & (rating_df['rating'] >= 4.5)].movieId.values])\n",
    "true_pos_ge = recos_ge.intersection(high_rated_movies)\n",
    "print('precision at 10 for ge: ', len(true_pos_ge)/10)\n",
    "\n",
    "recos_mf = set(get_recommendations_matrix_factorization(idx, user_factors, movie_factors))\n",
    "true_pos_mf = recos_mf.intersection(high_rated_movies)\n",
    "print('precision at 10 for mf: ', len(true_pos_mf)/10)"
   ]
  },
  {
   "cell_type": "code",
   "execution_count": 115,
   "metadata": {},
   "outputs": [
    {
     "name": "stdout",
     "output_type": "stream",
     "text": [
      "precision at 10 for ge:  1.0\n",
      "precision at 10 for mf:  0.4\n"
     ]
    }
   ],
   "source": [
    "idx = 3\n",
    "recos_ge = set(get_recommended_movies_graph_embeddings((idx, 'user'), node_vecs, top_n=10))\n",
    "high_rated_movies = set([movie_df[movie_df.movieId == id].title.values[0] for id in rating_df[(rating_df['userId'] == idx) & (rating_df['rating'] >= 4.5)].movieId.values])\n",
    "true_pos_ge = recos_ge.intersection(high_rated_movies)\n",
    "print('precision at 10 for ge: ', len(true_pos_ge)/10)\n",
    "\n",
    "recos_mf = set(get_recommendations_matrix_factorization(idx, user_factors, movie_factors))\n",
    "true_pos_mf = recos_mf.intersection(high_rated_movies)\n",
    "print('precision at 10 for mf: ', len(true_pos_mf)/10)"
   ]
  },
  {
   "cell_type": "code",
   "execution_count": 116,
   "metadata": {},
   "outputs": [
    {
     "name": "stdout",
     "output_type": "stream",
     "text": [
      "precision at 10 for ge:  0.2\n",
      "precision at 10 for mf:  0.5\n"
     ]
    }
   ],
   "source": [
    "idx = 4\n",
    "recos_ge = set(get_recommended_movies_graph_embeddings((idx, 'user'), node_vecs, top_n=10))\n",
    "high_rated_movies = set([movie_df[movie_df.movieId == id].title.values[0] for id in rating_df[(rating_df['userId'] == idx) & (rating_df['rating'] >= 4.5)].movieId.values])\n",
    "true_pos_ge = recos_ge.intersection(high_rated_movies)\n",
    "print('precision at 10 for ge: ', len(true_pos_ge)/10)\n",
    "\n",
    "recos_mf = set(get_recommendations_matrix_factorization(idx, user_factors, movie_factors))\n",
    "true_pos_mf = recos_mf.intersection(high_rated_movies)\n",
    "print('precision at 10 for mf: ', len(true_pos_mf)/10)"
   ]
  },
  {
   "cell_type": "markdown",
   "metadata": {},
   "source": [
    "## Enriched network with additional information : Genres"
   ]
  },
  {
   "cell_type": "markdown",
   "metadata": {},
   "source": [
    "Graphs make it easier to incorporate into the same framework additional information e.g. directors/actors of the movies. Since DeepWalk uses a neural network which can be trained in batches via stochaistic gradient descent, incorporating extra nodes, e.g actors to model a 3-step relation user-movie-actor, does not add any memory issues. As compared to tensor (matrix_ factorization. "
   ]
  },
  {
   "cell_type": "markdown",
   "metadata": {},
   "source": [
    "In the MovieLens data, we are also provided genres of the movies. We will add genres as nodes in our graph with edges to movies that belong to them. This provides an additional path for a random walk to connect two user (U-M-G-M-U), thus capturing more intricacies of the graph. \n",
    "\n",
    "Furthermore, this setting maps users,movies and genres to same space, which allows the computation of a user's affinity to a genre. User-genre relation can be exploited to handle **cold-start problem** i.e. to recommend a newly added movie to users. "
   ]
  },
  {
   "cell_type": "code",
   "execution_count": 73,
   "metadata": {},
   "outputs": [
    {
     "data": {
      "text/html": [
       "<div>\n",
       "<style scoped>\n",
       "    .dataframe tbody tr th:only-of-type {\n",
       "        vertical-align: middle;\n",
       "    }\n",
       "\n",
       "    .dataframe tbody tr th {\n",
       "        vertical-align: top;\n",
       "    }\n",
       "\n",
       "    .dataframe thead th {\n",
       "        text-align: right;\n",
       "    }\n",
       "</style>\n",
       "<table border=\"1\" class=\"dataframe\">\n",
       "  <thead>\n",
       "    <tr style=\"text-align: right;\">\n",
       "      <th></th>\n",
       "      <th>movieId</th>\n",
       "      <th>title</th>\n",
       "      <th>genres</th>\n",
       "    </tr>\n",
       "  </thead>\n",
       "  <tbody>\n",
       "    <tr>\n",
       "      <th>0</th>\n",
       "      <td>1</td>\n",
       "      <td>Toy Story (1995)</td>\n",
       "      <td>Adventure|Animation|Children|Comedy|Fantasy</td>\n",
       "    </tr>\n",
       "    <tr>\n",
       "      <th>1</th>\n",
       "      <td>2</td>\n",
       "      <td>Jumanji (1995)</td>\n",
       "      <td>Adventure|Children|Fantasy</td>\n",
       "    </tr>\n",
       "    <tr>\n",
       "      <th>2</th>\n",
       "      <td>3</td>\n",
       "      <td>Grumpier Old Men (1995)</td>\n",
       "      <td>Comedy|Romance</td>\n",
       "    </tr>\n",
       "    <tr>\n",
       "      <th>3</th>\n",
       "      <td>4</td>\n",
       "      <td>Waiting to Exhale (1995)</td>\n",
       "      <td>Comedy|Drama|Romance</td>\n",
       "    </tr>\n",
       "    <tr>\n",
       "      <th>4</th>\n",
       "      <td>5</td>\n",
       "      <td>Father of the Bride Part II (1995)</td>\n",
       "      <td>Comedy</td>\n",
       "    </tr>\n",
       "  </tbody>\n",
       "</table>\n",
       "</div>"
      ],
      "text/plain": [
       "   movieId                               title  \\\n",
       "0        1                    Toy Story (1995)   \n",
       "1        2                      Jumanji (1995)   \n",
       "2        3             Grumpier Old Men (1995)   \n",
       "3        4            Waiting to Exhale (1995)   \n",
       "4        5  Father of the Bride Part II (1995)   \n",
       "\n",
       "                                        genres  \n",
       "0  Adventure|Animation|Children|Comedy|Fantasy  \n",
       "1                   Adventure|Children|Fantasy  \n",
       "2                               Comedy|Romance  \n",
       "3                         Comedy|Drama|Romance  \n",
       "4                                       Comedy  "
      ]
     },
     "execution_count": 73,
     "metadata": {},
     "output_type": "execute_result"
    }
   ],
   "source": [
    "movie_df.head()"
   ]
  },
  {
   "cell_type": "markdown",
   "metadata": {},
   "source": [
    "#### Genres of the movies can be used as additional signal for better recommendations"
   ]
  },
  {
   "cell_type": "code",
   "execution_count": 74,
   "metadata": {},
   "outputs": [
    {
     "data": {
      "text/html": [
       "<div>\n",
       "<style scoped>\n",
       "    .dataframe tbody tr th:only-of-type {\n",
       "        vertical-align: middle;\n",
       "    }\n",
       "\n",
       "    .dataframe tbody tr th {\n",
       "        vertical-align: top;\n",
       "    }\n",
       "\n",
       "    .dataframe thead th {\n",
       "        text-align: right;\n",
       "    }\n",
       "</style>\n",
       "<table border=\"1\" class=\"dataframe\">\n",
       "  <thead>\n",
       "    <tr style=\"text-align: right;\">\n",
       "      <th></th>\n",
       "      <th>movieId</th>\n",
       "      <th>genres</th>\n",
       "    </tr>\n",
       "  </thead>\n",
       "  <tbody>\n",
       "    <tr>\n",
       "      <th>0</th>\n",
       "      <td>1</td>\n",
       "      <td>Adventure|Animation|Children|Comedy|Fantasy</td>\n",
       "    </tr>\n",
       "    <tr>\n",
       "      <th>1</th>\n",
       "      <td>2</td>\n",
       "      <td>Adventure|Children|Fantasy</td>\n",
       "    </tr>\n",
       "    <tr>\n",
       "      <th>2</th>\n",
       "      <td>3</td>\n",
       "      <td>Comedy|Romance</td>\n",
       "    </tr>\n",
       "    <tr>\n",
       "      <th>3</th>\n",
       "      <td>4</td>\n",
       "      <td>Comedy|Drama|Romance</td>\n",
       "    </tr>\n",
       "    <tr>\n",
       "      <th>4</th>\n",
       "      <td>5</td>\n",
       "      <td>Comedy</td>\n",
       "    </tr>\n",
       "  </tbody>\n",
       "</table>\n",
       "</div>"
      ],
      "text/plain": [
       "   movieId                                       genres\n",
       "0        1  Adventure|Animation|Children|Comedy|Fantasy\n",
       "1        2                   Adventure|Children|Fantasy\n",
       "2        3                               Comedy|Romance\n",
       "3        4                         Comedy|Drama|Romance\n",
       "4        5                                       Comedy"
      ]
     },
     "execution_count": 74,
     "metadata": {},
     "output_type": "execute_result"
    }
   ],
   "source": [
    "movie_genre_edgelist = movie_df[['movieId', 'genres']]\n",
    "movie_genre_edgelist.head()"
   ]
  },
  {
   "cell_type": "code",
   "execution_count": 75,
   "metadata": {},
   "outputs": [
    {
     "data": {
      "text/plain": [
       "10334"
      ]
     },
     "execution_count": 75,
     "metadata": {},
     "output_type": "execute_result"
    }
   ],
   "source": [
    "cnt"
   ]
  },
  {
   "cell_type": "markdown",
   "metadata": {},
   "source": [
    "Map genres to indices. "
   ]
  },
  {
   "cell_type": "code",
   "execution_count": 77,
   "metadata": {},
   "outputs": [],
   "source": [
    "genre2int = dict()\n",
    "for x in movie_genre_edgelist.values:\n",
    "    genres = x[1].split('|')\n",
    "    for genre in genres:\n",
    "        if genre in genre2int:\n",
    "            pass\n",
    "        else:\n",
    "            genre2int[genre] = cnt\n",
    "            cnt += 1"
   ]
  },
  {
   "cell_type": "code",
   "execution_count": 78,
   "metadata": {},
   "outputs": [
    {
     "data": {
      "text/plain": [
       "10374"
      ]
     },
     "execution_count": 78,
     "metadata": {},
     "output_type": "execute_result"
    }
   ],
   "source": [
    "cnt"
   ]
  },
  {
   "cell_type": "code",
   "execution_count": 79,
   "metadata": {},
   "outputs": [
    {
     "data": {
      "text/plain": [
       "{'Adventure': 10354,\n",
       " 'Animation': 10355,\n",
       " 'Children': 10356,\n",
       " 'Comedy': 10357,\n",
       " 'Fantasy': 10358,\n",
       " 'Romance': 10359,\n",
       " 'Drama': 10360,\n",
       " 'Action': 10361,\n",
       " 'Crime': 10362,\n",
       " 'Thriller': 10363,\n",
       " 'Horror': 10364,\n",
       " 'Mystery': 10365,\n",
       " 'Sci-Fi': 10366,\n",
       " 'War': 10367,\n",
       " 'Musical': 10368,\n",
       " 'Documentary': 10369,\n",
       " 'IMAX': 10370,\n",
       " 'Western': 10371,\n",
       " 'Film-Noir': 10372,\n",
       " '(no genres listed)': 10373}"
      ]
     },
     "execution_count": 79,
     "metadata": {},
     "output_type": "execute_result"
    }
   ],
   "source": [
    "genre2int"
   ]
  },
  {
   "cell_type": "markdown",
   "metadata": {},
   "source": [
    "Create the movie-genre graph."
   ]
  },
  {
   "cell_type": "code",
   "execution_count": 80,
   "metadata": {},
   "outputs": [],
   "source": [
    "movie_genre_graph = nx.Graph()\n",
    "for x in movie_genre_edgelist.values:\n",
    "    movie = (x[0], 'movie')\n",
    "    genres = x[1].split('|')\n",
    "    if movie in movie2dict:\n",
    "        for genre in genres:\n",
    "            if genre in genre2int:\n",
    "                movie_genre_graph.add_node(movie2dict[movie])\n",
    "                movie_genre_graph.add_node(genre2int[genre])\n",
    "                movie_genre_graph.add_edge(movie2dict[movie], genre2int[genre], weight=1.0)\n",
    "            else:\n",
    "                pass"
   ]
  },
  {
   "cell_type": "code",
   "execution_count": 81,
   "metadata": {},
   "outputs": [
    {
     "data": {
      "text/plain": [
       "9744"
      ]
     },
     "execution_count": 81,
     "metadata": {},
     "output_type": "execute_result"
    }
   ],
   "source": [
    "movie_genre_graph.number_of_nodes()"
   ]
  },
  {
   "cell_type": "code",
   "execution_count": 83,
   "metadata": {},
   "outputs": [
    {
     "data": {
      "text/plain": [
       "9724"
      ]
     },
     "execution_count": 83,
     "metadata": {},
     "output_type": "execute_result"
    }
   ],
   "source": [
    "rating_df.movieId.nunique()"
   ]
  },
  {
   "cell_type": "code",
   "execution_count": 85,
   "metadata": {},
   "outputs": [
    {
     "data": {
      "text/plain": [
       "22046"
      ]
     },
     "execution_count": 85,
     "metadata": {},
     "output_type": "execute_result"
    }
   ],
   "source": [
    "movie_genre_graph.number_of_edges()"
   ]
  },
  {
   "cell_type": "markdown",
   "metadata": {},
   "source": [
    "#### Combine the user-movie and movie-genre graph"
   ]
  },
  {
   "cell_type": "code",
   "execution_count": 88,
   "metadata": {},
   "outputs": [],
   "source": [
    "user_movie_genre_graph =  nx.Graph()\n",
    "user_movie_genre_graph.add_weighted_edges_from([(x,y,user_movie_graph[x][y]['weight']) for x,y in user_movie_graph.edges()])\n",
    "user_movie_genre_graph.add_weighted_edges_from([(x,y,movie_genre_graph[x][y]['weight']) for x,y in movie_genre_graph.edges()])"
   ]
  },
  {
   "cell_type": "code",
   "execution_count": 89,
   "metadata": {},
   "outputs": [
    {
     "data": {
      "text/plain": [
       "122882"
      ]
     },
     "execution_count": 89,
     "metadata": {},
     "output_type": "execute_result"
    }
   ],
   "source": [
    "user_movie_genre_graph.number_of_edges()"
   ]
  },
  {
   "cell_type": "code",
   "execution_count": 90,
   "metadata": {},
   "outputs": [
    {
     "data": {
      "text/plain": [
       "(0, 1)"
      ]
     },
     "execution_count": 90,
     "metadata": {},
     "output_type": "execute_result"
    }
   ],
   "source": [
    "list(user_movie_genre_graph.edges())[0]"
   ]
  },
  {
   "cell_type": "code",
   "execution_count": 97,
   "metadata": {},
   "outputs": [
    {
     "data": {
      "text/plain": [
       "10354"
      ]
     },
     "execution_count": 97,
     "metadata": {},
     "output_type": "execute_result"
    }
   ],
   "source": [
    "user_movie_genre_graph.number_of_nodes()"
   ]
  },
  {
   "cell_type": "markdown",
   "metadata": {},
   "source": [
    "### DeepWalk on Enriched Graph"
   ]
  },
  {
   "cell_type": "markdown",
   "metadata": {},
   "source": [
    "The user-movie-genre graph is heterogeneous and random walk methods might not be appropriate. The random walks at movie nodes will be biased towards user nodes as compared to the genre nodes since there are way more user nodes connected to a movie node than the genre nodes (<=5). But for this discussion we will ignore the heterogeniety and treat all nodes as the same type. "
   ]
  },
  {
   "cell_type": "code",
   "execution_count": 91,
   "metadata": {},
   "outputs": [],
   "source": [
    "G_enriched = node2vec.Graph(user_movie_genre_graph, is_directed=False, p=1, q=1)"
   ]
  },
  {
   "cell_type": "code",
   "execution_count": 92,
   "metadata": {},
   "outputs": [],
   "source": [
    "G_enriched.preprocess_transition_probs()"
   ]
  },
  {
   "cell_type": "code",
   "execution_count": 93,
   "metadata": {},
   "outputs": [
    {
     "name": "stdout",
     "output_type": "stream",
     "text": [
      "Walk iteration:\n",
      "1 / 10\n",
      "2 / 10\n",
      "3 / 10\n",
      "4 / 10\n",
      "5 / 10\n",
      "6 / 10\n",
      "7 / 10\n",
      "8 / 10\n",
      "9 / 10\n",
      "10 / 10\n"
     ]
    }
   ],
   "source": [
    "walks_enriched = G_enriched.simulate_walks(num_walks=10, walk_length=80)"
   ]
  },
  {
   "cell_type": "code",
   "execution_count": 94,
   "metadata": {},
   "outputs": [],
   "source": [
    "node_embeddings_enriched = learn_embeddings(walks_enriched)"
   ]
  },
  {
   "cell_type": "code",
   "execution_count": 96,
   "metadata": {},
   "outputs": [
    {
     "data": {
      "text/plain": [
       "10374"
      ]
     },
     "execution_count": 96,
     "metadata": {},
     "output_type": "execute_result"
    }
   ],
   "source": [
    "cnt"
   ]
  },
  {
   "cell_type": "code",
   "execution_count": 98,
   "metadata": {},
   "outputs": [
    {
     "data": {
      "text/plain": [
       "(10354, 50)"
      ]
     },
     "execution_count": 98,
     "metadata": {},
     "output_type": "execute_result"
    }
   ],
   "source": [
    "node_vecs_enriched = [node_embeddings_enriched[str(i)] for i in range(cnt) if str(i) in node_embeddings_enriched]\n",
    "node_vecs_enriched = np.array(node_vecs_enriched)\n",
    "node_vecs_enriched.shape"
   ]
  },
  {
   "cell_type": "markdown",
   "metadata": {},
   "source": [
    "## Evaluation enriched graph embeddings"
   ]
  },
  {
   "cell_type": "markdown",
   "metadata": {},
   "source": [
    "### Similar Movies"
   ]
  },
  {
   "cell_type": "code",
   "execution_count": 99,
   "metadata": {},
   "outputs": [
    {
     "data": {
      "text/plain": [
       "['Star Wars: Episode IV - A New Hope (1977)',\n",
       " 'Star Wars: Episode V - The Empire Strikes Back (1980)',\n",
       " 'Star Wars: Episode VI - Return of the Jedi (1983)',\n",
       " 'Raiders of the Lost Ark (Indiana Jones and the Raiders of the Lost Ark) (1981)',\n",
       " 'Matrix, The (1999)',\n",
       " 'Groundhog Day (1993)',\n",
       " 'Indiana Jones and the Last Crusade (1989)',\n",
       " 'Lord of the Rings: The Fellowship of the Ring, The (2001)',\n",
       " 'Gladiator (2000)',\n",
       " 'Back to the Future (1985)']"
      ]
     },
     "execution_count": 99,
     "metadata": {},
     "output_type": "execute_result"
    }
   ],
   "source": [
    "get_similar_movies_graph_embeddings((260, 'movie'), node_vecs_enriched)[:10]"
   ]
  },
  {
   "cell_type": "code",
   "execution_count": 100,
   "metadata": {},
   "outputs": [
    {
     "data": {
      "text/plain": [
       "['Star Wars: Episode IV - A New Hope (1977)',\n",
       " 'Star Wars: Episode VI - Return of the Jedi (1983)',\n",
       " 'Star Wars: Episode V - The Empire Strikes Back (1980)',\n",
       " 'Raiders of the Lost Ark (Indiana Jones and the Raiders of the Lost Ark) (1981)',\n",
       " 'Independence Day (a.k.a. ID4) (1996)',\n",
       " 'Matrix, The (1999)',\n",
       " 'Spy Next Door, The (2010)',\n",
       " 'Back to the Future (1985)',\n",
       " 'Behind Enemy Lines II: Axis of Evil (2006)',\n",
       " 'Mission: Impossible (1996)']"
      ]
     },
     "execution_count": 100,
     "metadata": {},
     "output_type": "execute_result"
    }
   ],
   "source": [
    "get_similar_movies_graph_embeddings((260, 'movie'), node_vecs)[:10]"
   ]
  },
  {
   "cell_type": "markdown",
   "metadata": {},
   "source": [
    "### Recommendation"
   ]
  },
  {
   "cell_type": "code",
   "execution_count": 101,
   "metadata": {},
   "outputs": [
    {
     "data": {
      "text/plain": [
       "['Newton Boys, The (1998)',\n",
       " 'Quiet Man, The (1952)',\n",
       " 'Best Men (1997)',\n",
       " 'Welcome to Woop-Woop (1997)',\n",
       " \"Gulliver's Travels (1939)\",\n",
       " 'Rescuers, The (1977)',\n",
       " 'Red Dawn (1984)',\n",
       " 'American Tail, An (1986)',\n",
       " 'Shaft (1971)',\n",
       " 'Song of the South (1946)']"
      ]
     },
     "execution_count": 101,
     "metadata": {},
     "output_type": "execute_result"
    }
   ],
   "source": [
    "get_recommended_movies_graph_embeddings((1, 'user'), node_vecs_enriched, top_n=10)"
   ]
  },
  {
   "cell_type": "code",
   "execution_count": 102,
   "metadata": {},
   "outputs": [
    {
     "data": {
      "text/plain": [
       "['Newton Boys, The (1998)',\n",
       " 'Quiet Man, The (1952)',\n",
       " 'Best Men (1997)',\n",
       " 'Welcome to Woop-Woop (1997)',\n",
       " \"Gulliver's Travels (1939)\",\n",
       " 'Rescuers, The (1977)',\n",
       " 'Red Dawn (1984)',\n",
       " 'American Tail, An (1986)',\n",
       " 'Shaft (1971)',\n",
       " 'Song of the South (1946)']"
      ]
     },
     "execution_count": 102,
     "metadata": {},
     "output_type": "execute_result"
    }
   ],
   "source": [
    "get_recommended_movies_graph_embeddings((1, 'user'), node_vecs_enriched, top_n=10)"
   ]
  },
  {
   "cell_type": "code",
   "execution_count": 125,
   "metadata": {},
   "outputs": [
    {
     "name": "stdout",
     "output_type": "stream",
     "text": [
      "precision at 10 for ge_enriched:  0.5\n",
      "precision at 10 for ge:  0.0\n",
      "precision at 10 for mf:  0.0\n"
     ]
    }
   ],
   "source": [
    "idx = 6\n",
    "recos_ge_enriched = set(get_recommended_movies_graph_embeddings((idx, 'user'), node_vecs_enriched, top_n=10))\n",
    "high_rated_movies = set([movie_df[movie_df.movieId == id].title.values[0] for id in rating_df[(rating_df['userId'] == idx) & (rating_df['rating'] >= 4.5)].movieId.values])\n",
    "true_pos_ge_enriched = recos_ge_enriched.intersection(high_rated_movies)\n",
    "print('precision at 10 for ge_enriched: ', len(true_pos_ge)/10)\n",
    "\n",
    "recos_ge = set(get_recommended_movies_graph_embeddings((idx, 'user'), node_vecs, top_n=10))\n",
    "high_rated_movies = set([movie_df[movie_df.movieId == id].title.values[0] for id in rating_df[(rating_df['userId'] == idx) & (rating_df['rating'] >= 4.5)].movieId.values])\n",
    "true_pos_ge = recos_ge.intersection(high_rated_movies)\n",
    "print('precision at 10 for ge: ', len(true_pos_ge)/10)\n",
    "\n",
    "recos_mf = set(get_recommendations_matrix_factorization(idx, user_factors, movie_factors))\n",
    "true_pos_mf = recos_mf.intersection(high_rated_movies)\n",
    "print('precision at 10 for mf: ', len(true_pos_mf)/10)"
   ]
  },
  {
   "cell_type": "markdown",
   "metadata": {},
   "source": [
    "To conclude : \n",
    "-  This discussion is devoid of any mathematical details, see [DeepWalk](https://arxiv.org/abs/1403.6652), [node2vec](https://snap.stanford.edu/node2vec/), [blog](https://towardsdatascience.com/a-gentle-introduction-to-graph-neural-network-basics-deepwalk-and-graphsage-db5d540d50b3).  \n",
    "- The goal was to study recommendation problem via graph embeddings. No claims about this being the best model, although graph embedding (e.g. GCN) based models have seen great success in recommendation systems. \n",
    "- The evaluation as presented in sloppy - only focussing on movie-movie similarity which was studied qualitatively, and some calculations of precision@10. Ideally, we would split data into train and test - train for modeling and test for evaluation. \n",
    "- To quantitively evaluate the whole system, we would compute mean average precision at 10. \n",
    "- I hope to add more details in future. "
   ]
  },
  {
   "cell_type": "code",
   "execution_count": null,
   "metadata": {},
   "outputs": [],
   "source": []
  }
 ],
 "metadata": {
  "kernelspec": {
   "display_name": "Python 3",
   "language": "python",
   "name": "python3"
  },
  "language_info": {
   "codemirror_mode": {
    "name": "ipython",
    "version": 3
   },
   "file_extension": ".py",
   "mimetype": "text/x-python",
   "name": "python",
   "nbconvert_exporter": "python",
   "pygments_lexer": "ipython3",
   "version": "3.7.3"
  }
 },
 "nbformat": 4,
 "nbformat_minor": 2
}
