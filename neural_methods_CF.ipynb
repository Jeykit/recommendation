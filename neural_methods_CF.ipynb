{
 "cells": [
  {
   "cell_type": "markdown",
   "metadata": {},
   "source": [
    "# Neural Models for Collaborative Filtering"
   ]
  },
  {
   "cell_type": "markdown",
   "metadata": {},
   "source": [
    "With the popularity of neural network based methods soaring in recent years due to their success in various machine learning tasks, we discuss the efficacy of neural networks for recommendation problems. By recommendation problem, we mean the problem of ranking items for users based on a user's affinity towards an item. Collaborative filtering based recommender systems assume that a user's preferences over items can be predicted from 'similar' users' preferences. \n",
    "\n",
    "\n",
    "In collaborative filtering approaches, we embed users and items in a low-dimensional space such that similar users/items are mapped to nearby points in the embedding space. Matrix factorization is a very popular technique for obtaining low-dimensional embedding for recommendation. Matrix factorization can only learn linear mapping to the low-dimensional space, whereas the inductive biases in the user-item interaction can be non-linear. \n",
    "\n",
    "Neural networks are effective in learning non-linearities in the data via activation functions. Moreover, deeper networks can potentially capture more intricate features. Motivated by this, we will explore simple neural network apporaches for recommendation tasks. "
   ]
  },
  {
   "cell_type": "markdown",
   "metadata": {},
   "source": [
    "We will use the MovieLens data which contains ratings of movies by users. The data which is publically available from [MovieLens Website](https://grouplens.org/datasets/movielens/). We are using 100k data which has 100k ratings. "
   ]
  },
  {
   "cell_type": "code",
   "execution_count": 1,
   "metadata": {},
   "outputs": [],
   "source": [
    "import pandas as pd\n",
    "import numpy as np\n",
    "import operator\n",
    "from collections import defaultdict\n",
    "from scipy.spatial.distance import cosine\n",
    "from sklearn.metrics.pairwise import cosine_similarity"
   ]
  },
  {
   "cell_type": "code",
   "execution_count": 155,
   "metadata": {},
   "outputs": [],
   "source": [
    "from keras.layers import Input, Embedding, Dot, Add, Flatten, Lambda, Dense, Concatenate, Dropout\n",
    "from keras.models import Model\n",
    "from keras.initializers import RandomNormal\n",
    "from keras.regularizers import l2\n",
    "from keras.callbacks import EarlyStopping\n",
    "from keras import backend as K\n",
    "from keras.optimizers import SGD, Adam"
   ]
  },
  {
   "cell_type": "code",
   "execution_count": 3,
   "metadata": {},
   "outputs": [],
   "source": [
    "data_path = './data/'"
   ]
  },
  {
   "cell_type": "code",
   "execution_count": 4,
   "metadata": {},
   "outputs": [],
   "source": [
    "rating_df = pd.read_csv(data_path + 'ratings.csv', sep=',', header=0)"
   ]
  },
  {
   "cell_type": "code",
   "execution_count": 5,
   "metadata": {},
   "outputs": [
    {
     "data": {
      "text/html": [
       "<div>\n",
       "<style scoped>\n",
       "    .dataframe tbody tr th:only-of-type {\n",
       "        vertical-align: middle;\n",
       "    }\n",
       "\n",
       "    .dataframe tbody tr th {\n",
       "        vertical-align: top;\n",
       "    }\n",
       "\n",
       "    .dataframe thead th {\n",
       "        text-align: right;\n",
       "    }\n",
       "</style>\n",
       "<table border=\"1\" class=\"dataframe\">\n",
       "  <thead>\n",
       "    <tr style=\"text-align: right;\">\n",
       "      <th></th>\n",
       "      <th>userId</th>\n",
       "      <th>movieId</th>\n",
       "      <th>rating</th>\n",
       "      <th>timestamp</th>\n",
       "    </tr>\n",
       "  </thead>\n",
       "  <tbody>\n",
       "    <tr>\n",
       "      <th>0</th>\n",
       "      <td>1</td>\n",
       "      <td>1</td>\n",
       "      <td>4.0</td>\n",
       "      <td>964982703</td>\n",
       "    </tr>\n",
       "    <tr>\n",
       "      <th>1</th>\n",
       "      <td>1</td>\n",
       "      <td>3</td>\n",
       "      <td>4.0</td>\n",
       "      <td>964981247</td>\n",
       "    </tr>\n",
       "    <tr>\n",
       "      <th>2</th>\n",
       "      <td>1</td>\n",
       "      <td>6</td>\n",
       "      <td>4.0</td>\n",
       "      <td>964982224</td>\n",
       "    </tr>\n",
       "    <tr>\n",
       "      <th>3</th>\n",
       "      <td>1</td>\n",
       "      <td>47</td>\n",
       "      <td>5.0</td>\n",
       "      <td>964983815</td>\n",
       "    </tr>\n",
       "    <tr>\n",
       "      <th>4</th>\n",
       "      <td>1</td>\n",
       "      <td>50</td>\n",
       "      <td>5.0</td>\n",
       "      <td>964982931</td>\n",
       "    </tr>\n",
       "  </tbody>\n",
       "</table>\n",
       "</div>"
      ],
      "text/plain": [
       "   userId  movieId  rating  timestamp\n",
       "0       1        1     4.0  964982703\n",
       "1       1        3     4.0  964981247\n",
       "2       1        6     4.0  964982224\n",
       "3       1       47     5.0  964983815\n",
       "4       1       50     5.0  964982931"
      ]
     },
     "execution_count": 5,
     "metadata": {},
     "output_type": "execute_result"
    }
   ],
   "source": [
    "rating_df.head()"
   ]
  },
  {
   "cell_type": "code",
   "execution_count": 6,
   "metadata": {},
   "outputs": [
    {
     "data": {
      "text/plain": [
       "(100836, 4)"
      ]
     },
     "execution_count": 6,
     "metadata": {},
     "output_type": "execute_result"
    }
   ],
   "source": [
    "rating_df.shape"
   ]
  },
  {
   "cell_type": "code",
   "execution_count": 7,
   "metadata": {},
   "outputs": [
    {
     "data": {
      "text/plain": [
       "(610, 9724)"
      ]
     },
     "execution_count": 7,
     "metadata": {},
     "output_type": "execute_result"
    }
   ],
   "source": [
    "rating_df.userId.nunique(), rating_df.movieId.nunique()"
   ]
  },
  {
   "cell_type": "code",
   "execution_count": 8,
   "metadata": {},
   "outputs": [
    {
     "data": {
      "text/plain": [
       "(610, 193609)"
      ]
     },
     "execution_count": 8,
     "metadata": {},
     "output_type": "execute_result"
    }
   ],
   "source": [
    "max(rating_df.userId), max(rating_df.movieId)"
   ]
  },
  {
   "cell_type": "code",
   "execution_count": 9,
   "metadata": {},
   "outputs": [
    {
     "data": {
      "text/plain": [
       "(1, 1)"
      ]
     },
     "execution_count": 9,
     "metadata": {},
     "output_type": "execute_result"
    }
   ],
   "source": [
    "min(rating_df.userId), min(rating_df.movieId)"
   ]
  },
  {
   "cell_type": "markdown",
   "metadata": {},
   "source": [
    "### Movies Data"
   ]
  },
  {
   "cell_type": "code",
   "execution_count": 10,
   "metadata": {},
   "outputs": [],
   "source": [
    "movie_df = pd.read_csv(data_path + 'movies.csv', sep=',', header=0)"
   ]
  },
  {
   "cell_type": "code",
   "execution_count": 11,
   "metadata": {},
   "outputs": [
    {
     "data": {
      "text/html": [
       "<div>\n",
       "<style scoped>\n",
       "    .dataframe tbody tr th:only-of-type {\n",
       "        vertical-align: middle;\n",
       "    }\n",
       "\n",
       "    .dataframe tbody tr th {\n",
       "        vertical-align: top;\n",
       "    }\n",
       "\n",
       "    .dataframe thead th {\n",
       "        text-align: right;\n",
       "    }\n",
       "</style>\n",
       "<table border=\"1\" class=\"dataframe\">\n",
       "  <thead>\n",
       "    <tr style=\"text-align: right;\">\n",
       "      <th></th>\n",
       "      <th>movieId</th>\n",
       "      <th>title</th>\n",
       "      <th>genres</th>\n",
       "    </tr>\n",
       "  </thead>\n",
       "  <tbody>\n",
       "    <tr>\n",
       "      <th>0</th>\n",
       "      <td>1</td>\n",
       "      <td>Toy Story (1995)</td>\n",
       "      <td>Adventure|Animation|Children|Comedy|Fantasy</td>\n",
       "    </tr>\n",
       "    <tr>\n",
       "      <th>1</th>\n",
       "      <td>2</td>\n",
       "      <td>Jumanji (1995)</td>\n",
       "      <td>Adventure|Children|Fantasy</td>\n",
       "    </tr>\n",
       "    <tr>\n",
       "      <th>2</th>\n",
       "      <td>3</td>\n",
       "      <td>Grumpier Old Men (1995)</td>\n",
       "      <td>Comedy|Romance</td>\n",
       "    </tr>\n",
       "    <tr>\n",
       "      <th>3</th>\n",
       "      <td>4</td>\n",
       "      <td>Waiting to Exhale (1995)</td>\n",
       "      <td>Comedy|Drama|Romance</td>\n",
       "    </tr>\n",
       "    <tr>\n",
       "      <th>4</th>\n",
       "      <td>5</td>\n",
       "      <td>Father of the Bride Part II (1995)</td>\n",
       "      <td>Comedy</td>\n",
       "    </tr>\n",
       "  </tbody>\n",
       "</table>\n",
       "</div>"
      ],
      "text/plain": [
       "   movieId                               title  \\\n",
       "0        1                    Toy Story (1995)   \n",
       "1        2                      Jumanji (1995)   \n",
       "2        3             Grumpier Old Men (1995)   \n",
       "3        4            Waiting to Exhale (1995)   \n",
       "4        5  Father of the Bride Part II (1995)   \n",
       "\n",
       "                                        genres  \n",
       "0  Adventure|Animation|Children|Comedy|Fantasy  \n",
       "1                   Adventure|Children|Fantasy  \n",
       "2                               Comedy|Romance  \n",
       "3                         Comedy|Drama|Romance  \n",
       "4                                       Comedy  "
      ]
     },
     "execution_count": 11,
     "metadata": {},
     "output_type": "execute_result"
    }
   ],
   "source": [
    "movie_df.head()"
   ]
  },
  {
   "cell_type": "markdown",
   "metadata": {},
   "source": [
    "### Train/Test Split"
   ]
  },
  {
   "cell_type": "code",
   "execution_count": 12,
   "metadata": {},
   "outputs": [],
   "source": [
    "train_df = rating_df.sample(frac=0.7,random_state=200) #random state is a seed value\n",
    "test_df = rating_df.drop(train_df.index)"
   ]
  },
  {
   "cell_type": "code",
   "execution_count": 13,
   "metadata": {},
   "outputs": [
    {
     "data": {
      "text/plain": [
       "((70585, 4), (30251, 4))"
      ]
     },
     "execution_count": 13,
     "metadata": {},
     "output_type": "execute_result"
    }
   ],
   "source": [
    "train_df.shape, test_df.shape"
   ]
  },
  {
   "cell_type": "code",
   "execution_count": 14,
   "metadata": {},
   "outputs": [],
   "source": [
    "test_users = test_df.userId.unique()\n",
    "test_movies = test_df.movieId.unique()"
   ]
  },
  {
   "cell_type": "code",
   "execution_count": 15,
   "metadata": {},
   "outputs": [
    {
     "data": {
      "text/plain": [
       "((610,), (6137,))"
      ]
     },
     "execution_count": 15,
     "metadata": {},
     "output_type": "execute_result"
    }
   ],
   "source": [
    "test_users.shape, test_movies.shape"
   ]
  },
  {
   "cell_type": "markdown",
   "metadata": {},
   "source": [
    "### Data Preprocessing"
   ]
  },
  {
   "cell_type": "markdown",
   "metadata": {},
   "source": [
    "We first create a mapping of userids and movieids to integer indices for easier manipulation. "
   ]
  },
  {
   "cell_type": "code",
   "execution_count": 16,
   "metadata": {},
   "outputs": [
    {
     "data": {
      "text/html": [
       "<div>\n",
       "<style scoped>\n",
       "    .dataframe tbody tr th:only-of-type {\n",
       "        vertical-align: middle;\n",
       "    }\n",
       "\n",
       "    .dataframe tbody tr th {\n",
       "        vertical-align: top;\n",
       "    }\n",
       "\n",
       "    .dataframe thead th {\n",
       "        text-align: right;\n",
       "    }\n",
       "</style>\n",
       "<table border=\"1\" class=\"dataframe\">\n",
       "  <thead>\n",
       "    <tr style=\"text-align: right;\">\n",
       "      <th></th>\n",
       "      <th>userId</th>\n",
       "      <th>movieId</th>\n",
       "      <th>rating</th>\n",
       "    </tr>\n",
       "  </thead>\n",
       "  <tbody>\n",
       "    <tr>\n",
       "      <th>73648</th>\n",
       "      <td>474</td>\n",
       "      <td>1984</td>\n",
       "      <td>2.0</td>\n",
       "    </tr>\n",
       "    <tr>\n",
       "      <th>55731</th>\n",
       "      <td>368</td>\n",
       "      <td>2808</td>\n",
       "      <td>2.0</td>\n",
       "    </tr>\n",
       "    <tr>\n",
       "      <th>74592</th>\n",
       "      <td>474</td>\n",
       "      <td>6341</td>\n",
       "      <td>3.5</td>\n",
       "    </tr>\n",
       "    <tr>\n",
       "      <th>34198</th>\n",
       "      <td>232</td>\n",
       "      <td>6298</td>\n",
       "      <td>3.0</td>\n",
       "    </tr>\n",
       "    <tr>\n",
       "      <th>80322</th>\n",
       "      <td>506</td>\n",
       "      <td>68269</td>\n",
       "      <td>4.0</td>\n",
       "    </tr>\n",
       "  </tbody>\n",
       "</table>\n",
       "</div>"
      ],
      "text/plain": [
       "       userId  movieId  rating\n",
       "73648     474     1984     2.0\n",
       "55731     368     2808     2.0\n",
       "74592     474     6341     3.5\n",
       "34198     232     6298     3.0\n",
       "80322     506    68269     4.0"
      ]
     },
     "execution_count": 16,
     "metadata": {},
     "output_type": "execute_result"
    }
   ],
   "source": [
    "user_item_mat = train_df[['userId', 'movieId', 'rating']]\n",
    "user_item_mat.head()"
   ]
  },
  {
   "cell_type": "code",
   "execution_count": 17,
   "metadata": {},
   "outputs": [],
   "source": [
    "rating_matrix = user_item_mat.copy().values\n",
    "\n",
    "user2index = dict()\n",
    "index2user = dict()\n",
    "userIndex = 0\n",
    "\n",
    "item2index = dict()\n",
    "index2item = dict()\n",
    "itemIndex = 0\n",
    "\n",
    "for (i, (user, item, rating)) in enumerate(user_item_mat.values):\n",
    "    user = int(user)\n",
    "    item = int(item)\n",
    "\n",
    "    if user not in user2index:\n",
    "        user2index[user] = userIndex\n",
    "        index2user[userIndex] = user\n",
    "        userIndex += 1\n",
    "\n",
    "    if item not in item2index:\n",
    "        item2index[item] = itemIndex\n",
    "        index2item[itemIndex] = item\n",
    "        itemIndex += 1\n",
    "\n",
    "    user = user2index[user]\n",
    "    item = item2index[item]\n",
    "\n",
    "    rating_matrix[i] = [user, item, rating]"
   ]
  },
  {
   "cell_type": "code",
   "execution_count": 18,
   "metadata": {},
   "outputs": [
    {
     "data": {
      "text/plain": [
       "array([0., 0., 2.])"
      ]
     },
     "execution_count": 18,
     "metadata": {},
     "output_type": "execute_result"
    }
   ],
   "source": [
    "rating_matrix[0]"
   ]
  },
  {
   "cell_type": "code",
   "execution_count": 19,
   "metadata": {},
   "outputs": [
    {
     "data": {
      "text/plain": [
       "(70585, 3)"
      ]
     },
     "execution_count": 19,
     "metadata": {},
     "output_type": "execute_result"
    }
   ],
   "source": [
    "rating_matrix.shape"
   ]
  },
  {
   "cell_type": "code",
   "execution_count": 20,
   "metadata": {},
   "outputs": [
    {
     "data": {
      "text/plain": [
       "array([ 474., 1984.,    2.])"
      ]
     },
     "execution_count": 20,
     "metadata": {},
     "output_type": "execute_result"
    }
   ],
   "source": [
    "user_item_mat.values[0]"
   ]
  },
  {
   "cell_type": "code",
   "execution_count": 21,
   "metadata": {},
   "outputs": [],
   "source": [
    "np.random.shuffle(rating_matrix);\n",
    "\n",
    "user_matrix = rating_matrix[:, 0].reshape(-1, 1).astype(int)\n",
    "item_matrix = rating_matrix[:, 1].reshape(-1, 1).astype(int)\n",
    "\n",
    "label_matrix = rating_matrix[:, 2].reshape(-1, 1)"
   ]
  },
  {
   "cell_type": "code",
   "execution_count": 23,
   "metadata": {},
   "outputs": [],
   "source": [
    "userCount = int(rating_matrix[: , 0].max()) + 1\n",
    "itemCount = int(rating_matrix[: , 1].max()) + 1"
   ]
  },
  {
   "cell_type": "code",
   "execution_count": 24,
   "metadata": {},
   "outputs": [],
   "source": [
    "userIndexMatrix = np.arange(userCount, dtype = int).reshape(-1, 1)\n",
    "itemIndexMatrix = np.arange(itemCount, dtype = int).reshape(-1, 1)"
   ]
  },
  {
   "cell_type": "markdown",
   "metadata": {},
   "source": [
    "## Neural Matrix Factorization Model"
   ]
  },
  {
   "cell_type": "markdown",
   "metadata": {},
   "source": [
    "Before we delve into deeper architectures, let's discuss neural formulation of matrix factorization. "
   ]
  },
  {
   "cell_type": "markdown",
   "metadata": {},
   "source": [
    "Embedding dimension is chosen to be 50 for no particular reason. "
   ]
  },
  {
   "cell_type": "code",
   "execution_count": 106,
   "metadata": {},
   "outputs": [],
   "source": [
    "# hyperparamaters\n",
    "\n",
    "embeddingDimension = 50\n",
    "epochs = 50\n",
    "batch_size = 32\n",
    "regularizationScale = 0.0\n",
    "# lr = 0.01"
   ]
  },
  {
   "cell_type": "markdown",
   "metadata": {},
   "source": [
    "### MF Architecture"
   ]
  },
  {
   "cell_type": "markdown",
   "metadata": {},
   "source": [
    "Input user and item layers with 1 unit each - the index.  "
   ]
  },
  {
   "cell_type": "code",
   "execution_count": 107,
   "metadata": {},
   "outputs": [],
   "source": [
    "userInputLayer = Input(shape = (1, ), dtype = \"int32\")\n",
    "itemInputLayer = Input(shape = (1, ), dtype = \"int32\")"
   ]
  },
  {
   "cell_type": "markdown",
   "metadata": {},
   "source": [
    "User and Item embedding layers. The embeddings are learnable and are initialized randomly. We will later use the learned embeddings as features. Input dimension for user/item embedding layer is equal to the number of users/items (i.e. OHE). "
   ]
  },
  {
   "cell_type": "code",
   "execution_count": 108,
   "metadata": {},
   "outputs": [],
   "source": [
    "userEmbeddingLayer = Embedding(input_dim = userCount, output_dim = embeddingDimension, input_length = 1, \n",
    "                embeddings_regularizer = l2(regularizationScale), embeddings_initializer = RandomNormal())(userInputLayer)\n",
    "userEmbeddingLayer = Flatten()(userEmbeddingLayer)"
   ]
  },
  {
   "cell_type": "code",
   "execution_count": 109,
   "metadata": {},
   "outputs": [],
   "source": [
    "itemEmbeddingLayer = Embedding(input_dim = itemCount, output_dim = embeddingDimension, input_length = 1, \n",
    "                embeddings_regularizer = l2(regularizationScale), embeddings_initializer = RandomNormal())(itemInputLayer);\n",
    "itemEmbeddingLayer = Flatten()(itemEmbeddingLayer)"
   ]
  },
  {
   "cell_type": "markdown",
   "metadata": {},
   "source": [
    "For a user and item pair, the rating is given by the dot product of the user and the item embedding. Matrix factorization leans embeddings such that the dot-products are as close to the non-zero ratings as possible.  "
   ]
  },
  {
   "cell_type": "code",
   "execution_count": 110,
   "metadata": {},
   "outputs": [],
   "source": [
    "dotLayer = Dot(axes = -1)([userEmbeddingLayer, itemEmbeddingLayer])"
   ]
  },
  {
   "cell_type": "code",
   "execution_count": 111,
   "metadata": {},
   "outputs": [],
   "source": [
    "model = Model(inputs = [userInputLayer, itemInputLayer], outputs = dotLayer)"
   ]
  },
  {
   "cell_type": "code",
   "execution_count": 112,
   "metadata": {},
   "outputs": [
    {
     "name": "stdout",
     "output_type": "stream",
     "text": [
      "Model: \"model_7\"\n",
      "__________________________________________________________________________________________________\n",
      "Layer (type)                    Output Shape         Param #     Connected to                     \n",
      "==================================================================================================\n",
      "input_5 (InputLayer)            (None, 1)            0                                            \n",
      "__________________________________________________________________________________________________\n",
      "input_6 (InputLayer)            (None, 1)            0                                            \n",
      "__________________________________________________________________________________________________\n",
      "embedding_5 (Embedding)         (None, 1, 50)        30500       input_5[0][0]                    \n",
      "__________________________________________________________________________________________________\n",
      "embedding_6 (Embedding)         (None, 1, 50)        425950      input_6[0][0]                    \n",
      "__________________________________________________________________________________________________\n",
      "flatten_5 (Flatten)             (None, 50)           0           embedding_5[0][0]                \n",
      "__________________________________________________________________________________________________\n",
      "flatten_6 (Flatten)             (None, 50)           0           embedding_6[0][0]                \n",
      "__________________________________________________________________________________________________\n",
      "dot_3 (Dot)                     (None, 1)            0           flatten_5[0][0]                  \n",
      "                                                                 flatten_6[0][0]                  \n",
      "==================================================================================================\n",
      "Total params: 456,450\n",
      "Trainable params: 456,450\n",
      "Non-trainable params: 0\n",
      "__________________________________________________________________________________________________\n"
     ]
    }
   ],
   "source": [
    "model.summary()"
   ]
  },
  {
   "cell_type": "markdown",
   "metadata": {},
   "source": [
    "Root Mean Squre Error (RMSE) as the loss function."
   ]
  },
  {
   "cell_type": "code",
   "execution_count": 113,
   "metadata": {},
   "outputs": [],
   "source": [
    "def getRMSE(labelMatrix, predictionMatrix):\n",
    "        return K.sqrt(K.mean(K.square(labelMatrix - predictionMatrix)))"
   ]
  },
  {
   "cell_type": "code",
   "execution_count": 115,
   "metadata": {},
   "outputs": [],
   "source": [
    "model.compile(optimizer = \"adam\", loss = \"mean_squared_error\", metrics = [getRMSE])"
   ]
  },
  {
   "cell_type": "markdown",
   "metadata": {},
   "source": [
    "Train the model"
   ]
  },
  {
   "cell_type": "code",
   "execution_count": 116,
   "metadata": {},
   "outputs": [
    {
     "name": "stdout",
     "output_type": "stream",
     "text": [
      "Epoch 1/50\n",
      "70585/70585 [==============================] - 8s 119us/step - loss: 10.9737 - getRMSE: 3.2716\n",
      "Epoch 2/50\n",
      "70585/70585 [==============================] - 8s 116us/step - loss: 2.4563 - getRMSE: 1.5393\n",
      "Epoch 3/50\n",
      "70585/70585 [==============================] - 8s 111us/step - loss: 1.2070 - getRMSE: 1.0843\n",
      "Epoch 4/50\n",
      "70585/70585 [==============================] - 10s 142us/step - loss: 0.8525 - getRMSE: 0.9123\n",
      "Epoch 5/50\n",
      "70585/70585 [==============================] - 9s 131us/step - loss: 0.6631 - getRMSE: 0.8046\n",
      "Epoch 6/50\n",
      "70585/70585 [==============================] - 8s 118us/step - loss: 0.5370 - getRMSE: 0.7238\n",
      "Epoch 7/50\n",
      "70585/70585 [==============================] - 8s 119us/step - loss: 0.4416 - getRMSE: 0.6556\n",
      "Epoch 8/50\n",
      "70585/70585 [==============================] - 8s 117us/step - loss: 0.3651 - getRMSE: 0.5954\n",
      "Epoch 9/50\n",
      "70585/70585 [==============================] - 9s 130us/step - loss: 0.3017 - getRMSE: 0.5412\n",
      "Epoch 10/50\n",
      "70585/70585 [==============================] - 8s 114us/step - loss: 0.2481 - getRMSE: 0.4905\n",
      "Epoch 11/50\n",
      "70585/70585 [==============================] - 8s 118us/step - loss: 0.2041 - getRMSE: 0.4450\n",
      "Epoch 12/50\n",
      "70585/70585 [==============================] - 8s 120us/step - loss: 0.1688 - getRMSE: 0.4046\n",
      "Epoch 13/50\n",
      "70585/70585 [==============================] - 8s 115us/step - loss: 0.1411 - getRMSE: 0.3699\n",
      "Epoch 14/50\n",
      "70585/70585 [==============================] - 8s 114us/step - loss: 0.1198 - getRMSE: 0.3411\n",
      "Epoch 15/50\n",
      "70585/70585 [==============================] - 8s 116us/step - loss: 0.1028 - getRMSE: 0.3160\n",
      "Epoch 16/50\n",
      "70585/70585 [==============================] - 8s 116us/step - loss: 0.0897 - getRMSE: 0.2954\n",
      "Epoch 17/50\n",
      "70585/70585 [==============================] - 8s 116us/step - loss: 0.0797 - getRMSE: 0.2785\n",
      "Epoch 18/50\n",
      "70585/70585 [==============================] - 8s 117us/step - loss: 0.0721 - getRMSE: 0.2652\n",
      "Epoch 19/50\n",
      "70585/70585 [==============================] - 8s 117us/step - loss: 0.0656 - getRMSE: 0.2528\n",
      "Epoch 20/50\n",
      "70585/70585 [==============================] - 8s 117us/step - loss: 0.0600 - getRMSE: 0.2419\n",
      "Epoch 21/50\n",
      "70585/70585 [==============================] - 9s 123us/step - loss: 0.0556 - getRMSE: 0.2330\n",
      "Epoch 22/50\n",
      "70585/70585 [==============================] - 8s 119us/step - loss: 0.0526 - getRMSE: 0.2267\n",
      "Epoch 23/50\n",
      "70585/70585 [==============================] - 8s 119us/step - loss: 0.0496 - getRMSE: 0.2203\n",
      "Epoch 24/50\n",
      "70585/70585 [==============================] - 8s 120us/step - loss: 0.0464 - getRMSE: 0.2131\n",
      "Epoch 25/50\n",
      "70585/70585 [==============================] - 8s 120us/step - loss: 0.0447 - getRMSE: 0.2092\n",
      "Epoch 26/50\n",
      "70585/70585 [==============================] - 9s 121us/step - loss: 0.0427 - getRMSE: 0.2045\n",
      "Epoch 27/50\n",
      "70585/70585 [==============================] - 9s 121us/step - loss: 0.0410 - getRMSE: 0.2003\n",
      "Epoch 28/50\n",
      "70585/70585 [==============================] - 9s 121us/step - loss: 0.0399 - getRMSE: 0.1978\n",
      "Epoch 29/50\n",
      "70585/70585 [==============================] - 9s 122us/step - loss: 0.0385 - getRMSE: 0.1943\n",
      "Epoch 30/50\n",
      "70585/70585 [==============================] - 9s 123us/step - loss: 0.0372 - getRMSE: 0.1908\n",
      "Epoch 31/50\n",
      "70585/70585 [==============================] - 9s 122us/step - loss: 0.0361 - getRMSE: 0.1883\n",
      "Epoch 32/50\n",
      "70585/70585 [==============================] - 9s 122us/step - loss: 0.0352 - getRMSE: 0.1859\n",
      "Epoch 33/50\n",
      "70585/70585 [==============================] - 9s 122us/step - loss: 0.0346 - getRMSE: 0.1842\n",
      "Epoch 34/50\n",
      "70585/70585 [==============================] - 9s 122us/step - loss: 0.0338 - getRMSE: 0.1820\n",
      "Epoch 35/50\n",
      "70585/70585 [==============================] - 9s 123us/step - loss: 0.0330 - getRMSE: 0.1798\n",
      "Epoch 36/50\n",
      "70585/70585 [==============================] - 9s 123us/step - loss: 0.0323 - getRMSE: 0.1780\n",
      "Epoch 37/50\n",
      "70585/70585 [==============================] - 9s 123us/step - loss: 0.0318 - getRMSE: 0.1767\n",
      "Epoch 38/50\n",
      "70585/70585 [==============================] - 9s 124us/step - loss: 0.0314 - getRMSE: 0.1755\n",
      "Epoch 39/50\n",
      "70585/70585 [==============================] - 9s 129us/step - loss: 0.0306 - getRMSE: 0.1732\n",
      "Epoch 40/50\n",
      "70585/70585 [==============================] - 9s 123us/step - loss: 0.0304 - getRMSE: 0.1728\n",
      "Epoch 41/50\n",
      "70585/70585 [==============================] - 9s 123us/step - loss: 0.0297 - getRMSE: 0.1707\n",
      "Epoch 42/50\n",
      "70585/70585 [==============================] - 9s 123us/step - loss: 0.0293 - getRMSE: 0.1694\n",
      "Epoch 43/50\n",
      "70585/70585 [==============================] - 9s 124us/step - loss: 0.0291 - getRMSE: 0.1691\n",
      "Epoch 44/50\n",
      "70585/70585 [==============================] - 8s 119us/step - loss: 0.0286 - getRMSE: 0.1676\n",
      "Epoch 45/50\n",
      "70585/70585 [==============================] - 9s 120us/step - loss: 0.0284 - getRMSE: 0.1669\n",
      "Epoch 46/50\n",
      "70585/70585 [==============================] - 8s 120us/step - loss: 0.0280 - getRMSE: 0.1658\n",
      "Epoch 47/50\n",
      "70585/70585 [==============================] - 9s 121us/step - loss: 0.0273 - getRMSE: 0.1638\n",
      "Epoch 48/50\n",
      "70585/70585 [==============================] - 9s 121us/step - loss: 0.0275 - getRMSE: 0.1643\n",
      "Epoch 49/50\n",
      "70585/70585 [==============================] - 9s 122us/step - loss: 0.0270 - getRMSE: 0.1627\n",
      "Epoch 50/50\n",
      "70585/70585 [==============================] - 9s 121us/step - loss: 0.0267 - getRMSE: 0.1620\n"
     ]
    },
    {
     "data": {
      "text/plain": [
       "<keras.callbacks.History at 0x1a3c88b6d8>"
      ]
     },
     "execution_count": 116,
     "metadata": {},
     "output_type": "execute_result"
    }
   ],
   "source": [
    "model.fit([user_matrix, item_matrix], label_matrix, epochs = epochs, batch_size = batch_size)"
   ]
  },
  {
   "cell_type": "markdown",
   "metadata": {},
   "source": [
    "(Sub) Models for extracting user and item embeddings. "
   ]
  },
  {
   "cell_type": "code",
   "execution_count": 117,
   "metadata": {},
   "outputs": [],
   "source": [
    "userEmbeddingOutputModel = Model(inputs = userInputLayer, outputs = userEmbeddingLayer)\n",
    "userEmbeddingMatrix = userEmbeddingOutputModel.predict(userIndexMatrix)\n",
    "\n",
    "itemEmbeddingOutputModel = Model(inputs = itemInputLayer, outputs = itemEmbeddingLayer)\n",
    "itemEmbeddingMatrix = itemEmbeddingOutputModel.predict(itemIndexMatrix)"
   ]
  },
  {
   "cell_type": "code",
   "execution_count": 118,
   "metadata": {},
   "outputs": [
    {
     "data": {
      "text/plain": [
       "(610, 50)"
      ]
     },
     "execution_count": 118,
     "metadata": {},
     "output_type": "execute_result"
    }
   ],
   "source": [
    "userEmbeddingMatrix.shape"
   ]
  },
  {
   "cell_type": "code",
   "execution_count": 119,
   "metadata": {},
   "outputs": [
    {
     "data": {
      "text/plain": [
       "(8519, 50)"
      ]
     },
     "execution_count": 119,
     "metadata": {},
     "output_type": "execute_result"
    }
   ],
   "source": [
    "itemEmbeddingMatrix.shape"
   ]
  },
  {
   "cell_type": "markdown",
   "metadata": {},
   "source": [
    "### Evaluation"
   ]
  },
  {
   "cell_type": "code",
   "execution_count": 120,
   "metadata": {},
   "outputs": [
    {
     "data": {
      "text/html": [
       "<div>\n",
       "<style scoped>\n",
       "    .dataframe tbody tr th:only-of-type {\n",
       "        vertical-align: middle;\n",
       "    }\n",
       "\n",
       "    .dataframe tbody tr th {\n",
       "        vertical-align: top;\n",
       "    }\n",
       "\n",
       "    .dataframe thead th {\n",
       "        text-align: right;\n",
       "    }\n",
       "</style>\n",
       "<table border=\"1\" class=\"dataframe\">\n",
       "  <thead>\n",
       "    <tr style=\"text-align: right;\">\n",
       "      <th></th>\n",
       "      <th>userId</th>\n",
       "      <th>movieId</th>\n",
       "      <th>rating</th>\n",
       "      <th>timestamp</th>\n",
       "    </tr>\n",
       "  </thead>\n",
       "  <tbody>\n",
       "    <tr>\n",
       "      <th>0</th>\n",
       "      <td>1</td>\n",
       "      <td>1</td>\n",
       "      <td>4.0</td>\n",
       "      <td>964982703</td>\n",
       "    </tr>\n",
       "    <tr>\n",
       "      <th>3</th>\n",
       "      <td>1</td>\n",
       "      <td>47</td>\n",
       "      <td>5.0</td>\n",
       "      <td>964983815</td>\n",
       "    </tr>\n",
       "    <tr>\n",
       "      <th>4</th>\n",
       "      <td>1</td>\n",
       "      <td>50</td>\n",
       "      <td>5.0</td>\n",
       "      <td>964982931</td>\n",
       "    </tr>\n",
       "    <tr>\n",
       "      <th>7</th>\n",
       "      <td>1</td>\n",
       "      <td>110</td>\n",
       "      <td>4.0</td>\n",
       "      <td>964982176</td>\n",
       "    </tr>\n",
       "    <tr>\n",
       "      <th>8</th>\n",
       "      <td>1</td>\n",
       "      <td>151</td>\n",
       "      <td>5.0</td>\n",
       "      <td>964984041</td>\n",
       "    </tr>\n",
       "  </tbody>\n",
       "</table>\n",
       "</div>"
      ],
      "text/plain": [
       "   userId  movieId  rating  timestamp\n",
       "0       1        1     4.0  964982703\n",
       "3       1       47     5.0  964983815\n",
       "4       1       50     5.0  964982931\n",
       "7       1      110     4.0  964982176\n",
       "8       1      151     5.0  964984041"
      ]
     },
     "execution_count": 120,
     "metadata": {},
     "output_type": "execute_result"
    }
   ],
   "source": [
    "test_df.head()"
   ]
  },
  {
   "cell_type": "code",
   "execution_count": 121,
   "metadata": {},
   "outputs": [
    {
     "data": {
      "text/plain": [
       "4.496409"
      ]
     },
     "execution_count": 121,
     "metadata": {},
     "output_type": "execute_result"
    }
   ],
   "source": [
    "usr = user2index[1]\n",
    "mve = item2index[1]\n",
    "np.dot(userEmbeddingMatrix[usr], itemEmbeddingMatrix[mve])"
   ]
  },
  {
   "cell_type": "code",
   "execution_count": 122,
   "metadata": {},
   "outputs": [
    {
     "data": {
      "text/plain": [
       "3.349145"
      ]
     },
     "execution_count": 122,
     "metadata": {},
     "output_type": "execute_result"
    }
   ],
   "source": [
    "usr = user2index[1]\n",
    "mve = item2index[47]\n",
    "np.dot(userEmbeddingMatrix[usr], itemEmbeddingMatrix[mve])"
   ]
  },
  {
   "cell_type": "code",
   "execution_count": 123,
   "metadata": {},
   "outputs": [],
   "source": [
    "sq_errs = []\n",
    "for x in test_df.values:\n",
    "    try:\n",
    "        usr = user2index[x[0]]\n",
    "        mve = item2index[x[1]]\n",
    "        rating = x[2]\n",
    "        pred = np.dot(userEmbeddingMatrix[usr], itemEmbeddingMatrix[mve])\n",
    "        error = (rating - pred)**2\n",
    "        sq_errs.append(error)\n",
    "    except:\n",
    "        pass"
   ]
  },
  {
   "cell_type": "code",
   "execution_count": 124,
   "metadata": {},
   "outputs": [
    {
     "data": {
      "text/plain": [
       "28867"
      ]
     },
     "execution_count": 124,
     "metadata": {},
     "output_type": "execute_result"
    }
   ],
   "source": [
    "len(sq_errs)"
   ]
  },
  {
   "cell_type": "code",
   "execution_count": 126,
   "metadata": {},
   "outputs": [],
   "source": [
    "rmse_test = np.sqrt(np.mean(sq_errs))"
   ]
  },
  {
   "cell_type": "code",
   "execution_count": 127,
   "metadata": {},
   "outputs": [
    {
     "data": {
      "text/plain": [
       "1.0823980968750455"
      ]
     },
     "execution_count": 127,
     "metadata": {},
     "output_type": "execute_result"
    }
   ],
   "source": [
    "rmse_test"
   ]
  },
  {
   "cell_type": "markdown",
   "metadata": {},
   "source": [
    "## Neural CF"
   ]
  },
  {
   "cell_type": "markdown",
   "metadata": {},
   "source": [
    "Having built a simple neural network for matrix factorization, we are ready to built more interesting models. We can explore various architectures and play with the corresponding models.  "
   ]
  },
  {
   "cell_type": "markdown",
   "metadata": {},
   "source": [
    "Similar to the ideas presented in Neural CF paper, we can replace the inner-product based output layer with a multi-layer perceptron. Instead of dot output, the user & the item embeddings are concated, and is passed through a couple of feed forward layers with activations. The output layer is just one neuron for the rating. "
   ]
  },
  {
   "cell_type": "code",
   "execution_count": 267,
   "metadata": {},
   "outputs": [],
   "source": [
    "user_item_concat_layer = Concatenate()([userEmbeddingLayer, itemEmbeddingLayer])"
   ]
  },
  {
   "cell_type": "markdown",
   "metadata": {},
   "source": [
    "We will add dropout in subsequent layers to prevent overfitting which can creep in due to high sparsity. The hyperparameters like dropout probability are not tuned, 0.5 is chosen here. "
   ]
  },
  {
   "cell_type": "code",
   "execution_count": 268,
   "metadata": {},
   "outputs": [],
   "source": [
    "fc1 = Dense(50, activation='relu')(user_item_concat_layer)\n",
    "fc1 = Dropout(0.5)(fc1)"
   ]
  },
  {
   "cell_type": "code",
   "execution_count": 269,
   "metadata": {},
   "outputs": [],
   "source": [
    "fc2 = Dense(32, activation='relu')(fc1)\n",
    "fc2 = Dropout(0.5)(fc2)"
   ]
  },
  {
   "cell_type": "code",
   "execution_count": 270,
   "metadata": {},
   "outputs": [],
   "source": [
    "fc3 = Dense(16, activation='relu')(fc2)\n",
    "fc3 = Dropout(0.5)(fc3)"
   ]
  },
  {
   "cell_type": "code",
   "execution_count": 271,
   "metadata": {},
   "outputs": [],
   "source": [
    "out = Dense(1)(fc3)"
   ]
  },
  {
   "cell_type": "code",
   "execution_count": 272,
   "metadata": {},
   "outputs": [],
   "source": [
    "NCF = Model(inputs = [userInputLayer, itemInputLayer], outputs = out)"
   ]
  },
  {
   "cell_type": "code",
   "execution_count": 273,
   "metadata": {},
   "outputs": [],
   "source": [
    "NCF.compile(optimizer = \"adam\", loss = \"mean_squared_error\", metrics = [getRMSE])"
   ]
  },
  {
   "cell_type": "code",
   "execution_count": 274,
   "metadata": {},
   "outputs": [
    {
     "name": "stdout",
     "output_type": "stream",
     "text": [
      "Model: \"model_19\"\n",
      "__________________________________________________________________________________________________\n",
      "Layer (type)                    Output Shape         Param #     Connected to                     \n",
      "==================================================================================================\n",
      "input_5 (InputLayer)            (None, 1)            0                                            \n",
      "__________________________________________________________________________________________________\n",
      "input_6 (InputLayer)            (None, 1)            0                                            \n",
      "__________________________________________________________________________________________________\n",
      "embedding_5 (Embedding)         (None, 1, 50)        30500       input_5[0][0]                    \n",
      "__________________________________________________________________________________________________\n",
      "embedding_6 (Embedding)         (None, 1, 50)        425950      input_6[0][0]                    \n",
      "__________________________________________________________________________________________________\n",
      "flatten_5 (Flatten)             (None, 50)           0           embedding_5[0][0]                \n",
      "__________________________________________________________________________________________________\n",
      "flatten_6 (Flatten)             (None, 50)           0           embedding_6[0][0]                \n",
      "__________________________________________________________________________________________________\n",
      "concatenate_5 (Concatenate)     (None, 100)          0           flatten_5[0][0]                  \n",
      "                                                                 flatten_6[0][0]                  \n",
      "__________________________________________________________________________________________________\n",
      "dense_15 (Dense)                (None, 50)           5050        concatenate_5[0][0]              \n",
      "__________________________________________________________________________________________________\n",
      "dropout_4 (Dropout)             (None, 50)           0           dense_15[0][0]                   \n",
      "__________________________________________________________________________________________________\n",
      "dense_16 (Dense)                (None, 32)           1632        dropout_4[0][0]                  \n",
      "__________________________________________________________________________________________________\n",
      "dropout_5 (Dropout)             (None, 32)           0           dense_16[0][0]                   \n",
      "__________________________________________________________________________________________________\n",
      "dense_17 (Dense)                (None, 16)           528         dropout_5[0][0]                  \n",
      "__________________________________________________________________________________________________\n",
      "dropout_6 (Dropout)             (None, 16)           0           dense_17[0][0]                   \n",
      "__________________________________________________________________________________________________\n",
      "dense_18 (Dense)                (None, 1)            17          dropout_6[0][0]                  \n",
      "==================================================================================================\n",
      "Total params: 463,677\n",
      "Trainable params: 463,677\n",
      "Non-trainable params: 0\n",
      "__________________________________________________________________________________________________\n"
     ]
    }
   ],
   "source": [
    "NCF.summary()"
   ]
  },
  {
   "cell_type": "code",
   "execution_count": 275,
   "metadata": {},
   "outputs": [
    {
     "name": "stdout",
     "output_type": "stream",
     "text": [
      "Epoch 1/50\n",
      "70585/70585 [==============================] - 10s 147us/step - loss: 2.4230 - getRMSE: 1.5062\n",
      "Epoch 2/50\n",
      "70585/70585 [==============================] - 10s 138us/step - loss: 1.1158 - getRMSE: 1.0463\n",
      "Epoch 3/50\n",
      "70585/70585 [==============================] - 10s 141us/step - loss: 0.7947 - getRMSE: 0.8831\n",
      "Epoch 4/50\n",
      "70585/70585 [==============================] - 10s 141us/step - loss: 0.6922 - getRMSE: 0.8237\n",
      "Epoch 5/50\n",
      "70585/70585 [==============================] - 10s 144us/step - loss: 0.6379 - getRMSE: 0.7904\n",
      "Epoch 6/50\n",
      "70585/70585 [==============================] - 10s 142us/step - loss: 0.6112 - getRMSE: 0.7729\n",
      "Epoch 7/50\n",
      "70585/70585 [==============================] - 10s 135us/step - loss: 0.5918 - getRMSE: 0.7611\n",
      "Epoch 8/50\n",
      "70585/70585 [==============================] - 9s 132us/step - loss: 0.5816 - getRMSE: 0.7542\n",
      "Epoch 9/50\n",
      "70585/70585 [==============================] - 9s 132us/step - loss: 0.5733 - getRMSE: 0.7492\n",
      "Epoch 10/50\n",
      "70585/70585 [==============================] - 9s 132us/step - loss: 0.5727 - getRMSE: 0.7483\n",
      "Epoch 11/50\n",
      "70585/70585 [==============================] - 9s 131us/step - loss: 0.5667 - getRMSE: 0.7443\n",
      "Epoch 12/50\n",
      "70585/70585 [==============================] - 9s 133us/step - loss: 0.5625 - getRMSE: 0.7417\n",
      "Epoch 13/50\n",
      "70585/70585 [==============================] - 9s 133us/step - loss: 0.5557 - getRMSE: 0.7377\n",
      "Epoch 14/50\n",
      "70585/70585 [==============================] - 9s 133us/step - loss: 0.5497 - getRMSE: 0.7330\n",
      "Epoch 15/50\n",
      "70585/70585 [==============================] - 9s 132us/step - loss: 0.5511 - getRMSE: 0.7340\n",
      "Epoch 16/50\n",
      "70585/70585 [==============================] - 10s 135us/step - loss: 0.5463 - getRMSE: 0.7312\n",
      "Epoch 17/50\n",
      "70585/70585 [==============================] - 9s 133us/step - loss: 0.5414 - getRMSE: 0.7278\n",
      "Epoch 18/50\n",
      "70585/70585 [==============================] - 9s 132us/step - loss: 0.5403 - getRMSE: 0.7269\n",
      "Epoch 19/50\n",
      "70585/70585 [==============================] - 9s 133us/step - loss: 0.5340 - getRMSE: 0.7226\n",
      "Epoch 20/50\n",
      "70585/70585 [==============================] - 9s 132us/step - loss: 0.5307 - getRMSE: 0.7205\n",
      "Epoch 21/50\n",
      "70585/70585 [==============================] - 9s 133us/step - loss: 0.5334 - getRMSE: 0.7218\n",
      "Epoch 22/50\n",
      "70585/70585 [==============================] - 9s 132us/step - loss: 0.5307 - getRMSE: 0.7208\n",
      "Epoch 23/50\n",
      "70585/70585 [==============================] - 9s 132us/step - loss: 0.5274 - getRMSE: 0.7181\n",
      "Epoch 24/50\n",
      "70585/70585 [==============================] - 9s 133us/step - loss: 0.5277 - getRMSE: 0.7182\n",
      "Epoch 25/50\n",
      "70585/70585 [==============================] - 9s 133us/step - loss: 0.5279 - getRMSE: 0.7190\n",
      "Epoch 26/50\n",
      "70585/70585 [==============================] - 9s 133us/step - loss: 0.5222 - getRMSE: 0.7146\n",
      "Epoch 27/50\n",
      "70585/70585 [==============================] - 9s 133us/step - loss: 0.5206 - getRMSE: 0.7137\n",
      "Epoch 28/50\n",
      "70585/70585 [==============================] - 9s 133us/step - loss: 0.5214 - getRMSE: 0.7142\n",
      "Epoch 29/50\n",
      "70585/70585 [==============================] - 9s 132us/step - loss: 0.5192 - getRMSE: 0.7125\n",
      "Epoch 30/50\n",
      "70585/70585 [==============================] - 9s 132us/step - loss: 0.5184 - getRMSE: 0.7119\n",
      "Epoch 31/50\n",
      "70585/70585 [==============================] - 9s 134us/step - loss: 0.5142 - getRMSE: 0.7094\n",
      "Epoch 32/50\n",
      "70585/70585 [==============================] - 9s 134us/step - loss: 0.5104 - getRMSE: 0.7064\n",
      "Epoch 33/50\n",
      "70585/70585 [==============================] - 9s 134us/step - loss: 0.5146 - getRMSE: 0.7099\n",
      "Epoch 34/50\n",
      "70585/70585 [==============================] - 9s 134us/step - loss: 0.5127 - getRMSE: 0.7080\n",
      "Epoch 35/50\n",
      "70585/70585 [==============================] - 9s 132us/step - loss: 0.5106 - getRMSE: 0.7065\n",
      "Epoch 36/50\n",
      "70585/70585 [==============================] - 9s 132us/step - loss: 0.5079 - getRMSE: 0.7044\n",
      "Epoch 37/50\n",
      "70585/70585 [==============================] - 9s 133us/step - loss: 0.5095 - getRMSE: 0.7063\n",
      "Epoch 38/50\n",
      "70585/70585 [==============================] - 9s 133us/step - loss: 0.5096 - getRMSE: 0.7055 1s \n",
      "Epoch 39/50\n",
      "70585/70585 [==============================] - 9s 132us/step - loss: 0.5070 - getRMSE: 0.7039\n",
      "Epoch 40/50\n",
      "70585/70585 [==============================] - 9s 134us/step - loss: 0.5059 - getRMSE: 0.7030\n",
      "Epoch 41/50\n",
      "70585/70585 [==============================] - 10s 135us/step - loss: 0.5041 - getRMSE: 0.7018\n",
      "Epoch 42/50\n",
      "70585/70585 [==============================] - 9s 133us/step - loss: 0.5048 - getRMSE: 0.7024\n",
      "Epoch 43/50\n",
      "70585/70585 [==============================] - 9s 133us/step - loss: 0.5084 - getRMSE: 0.7052\n",
      "Epoch 44/50\n",
      "70585/70585 [==============================] - 9s 133us/step - loss: 0.5024 - getRMSE: 0.7012\n",
      "Epoch 45/50\n",
      "70585/70585 [==============================] - 9s 133us/step - loss: 0.5032 - getRMSE: 0.7015\n",
      "Epoch 46/50\n",
      "70585/70585 [==============================] - 9s 133us/step - loss: 0.5048 - getRMSE: 0.7027\n",
      "Epoch 47/50\n",
      "70585/70585 [==============================] - 9s 133us/step - loss: 0.4988 - getRMSE: 0.6984\n",
      "Epoch 48/50\n",
      "70585/70585 [==============================] - 9s 133us/step - loss: 0.4991 - getRMSE: 0.6985\n",
      "Epoch 49/50\n",
      "70585/70585 [==============================] - 9s 133us/step - loss: 0.4958 - getRMSE: 0.6959\n",
      "Epoch 50/50\n",
      "70585/70585 [==============================] - 9s 133us/step - loss: 0.4984 - getRMSE: 0.6980\n"
     ]
    },
    {
     "data": {
      "text/plain": [
       "<keras.callbacks.History at 0x1a40343198>"
      ]
     },
     "execution_count": 275,
     "metadata": {},
     "output_type": "execute_result"
    }
   ],
   "source": [
    "NCF.fit([user_matrix, item_matrix], label_matrix, epochs = epochs, batch_size = batch_size)"
   ]
  },
  {
   "cell_type": "code",
   "execution_count": 276,
   "metadata": {},
   "outputs": [],
   "source": [
    "userEmbeddingOutputModel = Model(inputs = userInputLayer, outputs = userEmbeddingLayer)\n",
    "userEmbeddingMatrix = userEmbeddingOutputModel.predict(userIndexMatrix)\n",
    "\n",
    "itemEmbeddingOutputModel = Model(inputs = itemInputLayer, outputs = itemEmbeddingLayer)\n",
    "itemEmbeddingMatrix = itemEmbeddingOutputModel.predict(itemIndexMatrix)"
   ]
  },
  {
   "cell_type": "code",
   "execution_count": 277,
   "metadata": {},
   "outputs": [],
   "source": [
    "user_matrix = rating_matrix[:, 0].reshape(-1, 1).astype(int)\n",
    "item_matrix = rating_matrix[:, 1].reshape(-1, 1).astype(int)\n",
    "\n",
    "label_matrix = rating_matrix[:, 2].reshape(-1, 1)"
   ]
  },
  {
   "cell_type": "code",
   "execution_count": 278,
   "metadata": {},
   "outputs": [
    {
     "data": {
      "text/html": [
       "<div>\n",
       "<style scoped>\n",
       "    .dataframe tbody tr th:only-of-type {\n",
       "        vertical-align: middle;\n",
       "    }\n",
       "\n",
       "    .dataframe tbody tr th {\n",
       "        vertical-align: top;\n",
       "    }\n",
       "\n",
       "    .dataframe thead th {\n",
       "        text-align: right;\n",
       "    }\n",
       "</style>\n",
       "<table border=\"1\" class=\"dataframe\">\n",
       "  <thead>\n",
       "    <tr style=\"text-align: right;\">\n",
       "      <th></th>\n",
       "      <th>userId</th>\n",
       "      <th>movieId</th>\n",
       "      <th>rating</th>\n",
       "    </tr>\n",
       "  </thead>\n",
       "  <tbody>\n",
       "    <tr>\n",
       "      <th>0</th>\n",
       "      <td>1</td>\n",
       "      <td>1</td>\n",
       "      <td>4.0</td>\n",
       "    </tr>\n",
       "    <tr>\n",
       "      <th>3</th>\n",
       "      <td>1</td>\n",
       "      <td>47</td>\n",
       "      <td>5.0</td>\n",
       "    </tr>\n",
       "    <tr>\n",
       "      <th>4</th>\n",
       "      <td>1</td>\n",
       "      <td>50</td>\n",
       "      <td>5.0</td>\n",
       "    </tr>\n",
       "    <tr>\n",
       "      <th>7</th>\n",
       "      <td>1</td>\n",
       "      <td>110</td>\n",
       "      <td>4.0</td>\n",
       "    </tr>\n",
       "    <tr>\n",
       "      <th>8</th>\n",
       "      <td>1</td>\n",
       "      <td>151</td>\n",
       "      <td>5.0</td>\n",
       "    </tr>\n",
       "  </tbody>\n",
       "</table>\n",
       "</div>"
      ],
      "text/plain": [
       "   userId  movieId  rating\n",
       "0       1        1     4.0\n",
       "3       1       47     5.0\n",
       "4       1       50     5.0\n",
       "7       1      110     4.0\n",
       "8       1      151     5.0"
      ]
     },
     "execution_count": 278,
     "metadata": {},
     "output_type": "execute_result"
    }
   ],
   "source": [
    "test_df.head()"
   ]
  },
  {
   "cell_type": "code",
   "execution_count": 279,
   "metadata": {},
   "outputs": [],
   "source": [
    "test_df = test_df[['userId', 'movieId', 'rating']]\n",
    "test_matrix = test_df.copy().values\n",
    "\n",
    "cnt = 0\n",
    "\n",
    "for (i, (usr, item, rating)) in enumerate(test_df.values):\n",
    "    user = int(user)\n",
    "    item = int(item)\n",
    "\n",
    "    if (user in user2index) and (item in item2index):\n",
    "        user = user2index[user]\n",
    "        item = item2index[item]\n",
    "        test_matrix[i] = [user, item, rating]\n",
    "    else:\n",
    "       cnt += 1"
   ]
  },
  {
   "cell_type": "code",
   "execution_count": 280,
   "metadata": {},
   "outputs": [
    {
     "data": {
      "text/plain": [
       "1384"
      ]
     },
     "execution_count": 280,
     "metadata": {},
     "output_type": "execute_result"
    }
   ],
   "source": [
    "cnt"
   ]
  },
  {
   "cell_type": "code",
   "execution_count": 281,
   "metadata": {},
   "outputs": [
    {
     "data": {
      "text/plain": [
       "array([305., 638.,   4.])"
      ]
     },
     "execution_count": 281,
     "metadata": {},
     "output_type": "execute_result"
    }
   ],
   "source": [
    "test_matrix[0]"
   ]
  },
  {
   "cell_type": "code",
   "execution_count": 282,
   "metadata": {},
   "outputs": [
    {
     "data": {
      "text/plain": [
       "array([[3.868872]], dtype=float32)"
      ]
     },
     "execution_count": 282,
     "metadata": {},
     "output_type": "execute_result"
    }
   ],
   "source": [
    "x = [int(test_matrix[0][0])]\n",
    "y = [int(test_matrix[0][1])]\n",
    "NCF.predict([x,y])"
   ]
  },
  {
   "cell_type": "code",
   "execution_count": 283,
   "metadata": {},
   "outputs": [],
   "source": [
    "x = test_df.values[0]\n",
    "t = [user2index[x[0]]]\n",
    "s = [item2index[x[1]]]"
   ]
  },
  {
   "cell_type": "code",
   "execution_count": 284,
   "metadata": {},
   "outputs": [
    {
     "data": {
      "text/plain": [
       "4.3693476"
      ]
     },
     "execution_count": 284,
     "metadata": {},
     "output_type": "execute_result"
    }
   ],
   "source": [
    "NCF.predict([t,s]).reshape(1,)[0]"
   ]
  },
  {
   "cell_type": "code",
   "execution_count": 285,
   "metadata": {},
   "outputs": [],
   "source": [
    "sq_errs = []\n",
    "for x in test_df.values:\n",
    "    usr = x[0]\n",
    "    mve = x[1]\n",
    "    rating = x[2]\n",
    "    if (usr in user2index) and (mve in item2index):\n",
    "        t = [user2index[usr]]\n",
    "        s = [item2index[mve]]\n",
    "        pred = NCF.predict([t,s])[0][0]\n",
    "        error = (rating - pred) ** 2\n",
    "        sq_errs.append(error) "
   ]
  },
  {
   "cell_type": "code",
   "execution_count": 286,
   "metadata": {},
   "outputs": [
    {
     "data": {
      "text/plain": [
       "0.8785065956414966"
      ]
     },
     "execution_count": 286,
     "metadata": {},
     "output_type": "execute_result"
    }
   ],
   "source": [
    "np.sqrt(np.mean(sq_errs))"
   ]
  },
  {
   "cell_type": "markdown",
   "metadata": {},
   "source": [
    "The RMSE score is lower than what we obtained for matrix factorization - 0.87 v/s 1.08 "
   ]
  },
  {
   "cell_type": "code",
   "execution_count": null,
   "metadata": {},
   "outputs": [],
   "source": []
  },
  {
   "cell_type": "markdown",
   "metadata": {},
   "source": [
    "In the original NCF paper was proposed to handle implicit feedback. The authors converted the explicit user provided ratings to binary outcomes - whether a user has rated the movie or not. This converts the numerical regression problem into a binary classification. The architecture is same as the one described above except the sigmoid output layer instead of the rating. "
   ]
  },
  {
   "cell_type": "code",
   "execution_count": null,
   "metadata": {},
   "outputs": [],
   "source": []
  }
 ],
 "metadata": {
  "kernelspec": {
   "display_name": "Python 3",
   "language": "python",
   "name": "python3"
  },
  "language_info": {
   "codemirror_mode": {
    "name": "ipython",
    "version": 3
   },
   "file_extension": ".py",
   "mimetype": "text/x-python",
   "name": "python",
   "nbconvert_exporter": "python",
   "pygments_lexer": "ipython3",
   "version": "3.7.3"
  }
 },
 "nbformat": 4,
 "nbformat_minor": 2
}
