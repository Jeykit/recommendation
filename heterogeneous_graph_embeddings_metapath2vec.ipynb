{
 "cells": [
  {
   "cell_type": "markdown",
   "metadata": {},
   "source": [
    "# Meta-path based Heterogeneous Graph Embeddings for Recommendations"
   ]
  },
  {
   "cell_type": "markdown",
   "metadata": {},
   "source": [
    "Recommendation problems can be modeled as link prediction on graphs, and neural graph embedding methods (i.e. mapping of each node to a low-dimensional space such that node 'similar' in graph space are mapped to nearyby points in the embedding space) have been particularly succesful at various graph analytical tasks. Unsupervised graph embedding methods like [**DeepWalk**](https://arxiv.org/abs/1403.6652) and [**node2vec**](https://snap.stanford.edu/node2vec/) use word2vec models (e.g.  skip-gram) to map nodes co-occuring on a fixed window on truncated random walks to nearby points. These techniques can be used for collaborative filtering by mapping users and items to the same space, kind of an extension of matrix factorization based embedding.  \n",
    "\n",
    "However, graphs for recommendations e.g. User-Item, User-Item-Genre, User-Item-Movie-Actor-Director etc. are often heterogeneous. Methods like DeepWalk are developed for homogeneous graphs with only one type of nodes, and might not perform optimal for heterogeneous graphs. As a direct extension of DeepWalk, [**metapath2vec**]() provides an unsupervised method to obtain node embeddings for heterogeneous graphs. **metapath2vec** generates random walks guided by a metapath (path of node types) and then uses the appropriate skip-gram like model for embedding. \n",
    "\n",
    "In this notebook, we will explore the use to metapath2vec embeddings for recommendation tasks. We will explore the efficacy of different metapaths. "
   ]
  },
  {
   "cell_type": "markdown",
   "metadata": {},
   "source": [
    "## Data "
   ]
  },
  {
   "cell_type": "markdown",
   "metadata": {},
   "source": [
    "We will use the MovieLens data which contains ratings of movies by users. The data which is publically available from [MovieLens Website](https://grouplens.org/datasets/movielens/). We are using 100k data which has 100k ratings. "
   ]
  },
  {
   "cell_type": "code",
   "execution_count": 1,
   "metadata": {},
   "outputs": [],
   "source": [
    "import pandas as pd\n",
    "import numpy as np"
   ]
  },
  {
   "cell_type": "code",
   "execution_count": 2,
   "metadata": {},
   "outputs": [],
   "source": [
    "from scipy.sparse import coo_matrix, csr_matrix\n",
    "from scipy.sparse.linalg import svds, norm\n",
    "from scipy.spatial.distance import cosine\n",
    "from sklearn.metrics.pairwise import cosine_similarity"
   ]
  },
  {
   "cell_type": "code",
   "execution_count": 3,
   "metadata": {},
   "outputs": [],
   "source": [
    "import operator\n",
    "from collections import defaultdict"
   ]
  },
  {
   "cell_type": "code",
   "execution_count": 4,
   "metadata": {},
   "outputs": [],
   "source": [
    "data_path = '../data/'"
   ]
  },
  {
   "cell_type": "code",
   "execution_count": 5,
   "metadata": {},
   "outputs": [],
   "source": [
    "rating_df = pd.read_csv(data_path + 'ratings.csv', sep=',', header=0)"
   ]
  },
  {
   "cell_type": "code",
   "execution_count": 6,
   "metadata": {},
   "outputs": [
    {
     "data": {
      "text/html": [
       "<div>\n",
       "<style scoped>\n",
       "    .dataframe tbody tr th:only-of-type {\n",
       "        vertical-align: middle;\n",
       "    }\n",
       "\n",
       "    .dataframe tbody tr th {\n",
       "        vertical-align: top;\n",
       "    }\n",
       "\n",
       "    .dataframe thead th {\n",
       "        text-align: right;\n",
       "    }\n",
       "</style>\n",
       "<table border=\"1\" class=\"dataframe\">\n",
       "  <thead>\n",
       "    <tr style=\"text-align: right;\">\n",
       "      <th></th>\n",
       "      <th>userId</th>\n",
       "      <th>movieId</th>\n",
       "      <th>rating</th>\n",
       "      <th>timestamp</th>\n",
       "    </tr>\n",
       "  </thead>\n",
       "  <tbody>\n",
       "    <tr>\n",
       "      <th>0</th>\n",
       "      <td>1</td>\n",
       "      <td>1</td>\n",
       "      <td>4.0</td>\n",
       "      <td>964982703</td>\n",
       "    </tr>\n",
       "    <tr>\n",
       "      <th>1</th>\n",
       "      <td>1</td>\n",
       "      <td>3</td>\n",
       "      <td>4.0</td>\n",
       "      <td>964981247</td>\n",
       "    </tr>\n",
       "    <tr>\n",
       "      <th>2</th>\n",
       "      <td>1</td>\n",
       "      <td>6</td>\n",
       "      <td>4.0</td>\n",
       "      <td>964982224</td>\n",
       "    </tr>\n",
       "    <tr>\n",
       "      <th>3</th>\n",
       "      <td>1</td>\n",
       "      <td>47</td>\n",
       "      <td>5.0</td>\n",
       "      <td>964983815</td>\n",
       "    </tr>\n",
       "    <tr>\n",
       "      <th>4</th>\n",
       "      <td>1</td>\n",
       "      <td>50</td>\n",
       "      <td>5.0</td>\n",
       "      <td>964982931</td>\n",
       "    </tr>\n",
       "  </tbody>\n",
       "</table>\n",
       "</div>"
      ],
      "text/plain": [
       "   userId  movieId  rating  timestamp\n",
       "0       1        1     4.0  964982703\n",
       "1       1        3     4.0  964981247\n",
       "2       1        6     4.0  964982224\n",
       "3       1       47     5.0  964983815\n",
       "4       1       50     5.0  964982931"
      ]
     },
     "execution_count": 6,
     "metadata": {},
     "output_type": "execute_result"
    }
   ],
   "source": [
    "rating_df.head()"
   ]
  },
  {
   "cell_type": "code",
   "execution_count": 7,
   "metadata": {},
   "outputs": [
    {
     "data": {
      "text/plain": [
       "(100836, 4)"
      ]
     },
     "execution_count": 7,
     "metadata": {},
     "output_type": "execute_result"
    }
   ],
   "source": [
    "rating_df.shape"
   ]
  },
  {
   "cell_type": "code",
   "execution_count": 8,
   "metadata": {},
   "outputs": [
    {
     "data": {
      "text/plain": [
       "610"
      ]
     },
     "execution_count": 8,
     "metadata": {},
     "output_type": "execute_result"
    }
   ],
   "source": [
    "rating_df.userId.nunique()"
   ]
  },
  {
   "cell_type": "code",
   "execution_count": 9,
   "metadata": {},
   "outputs": [
    {
     "data": {
      "text/plain": [
       "9724"
      ]
     },
     "execution_count": 9,
     "metadata": {},
     "output_type": "execute_result"
    }
   ],
   "source": [
    "rating_df.movieId.nunique()"
   ]
  },
  {
   "cell_type": "markdown",
   "metadata": {},
   "source": [
    "- The data has over 100k ratings by 610 users on 9724 movies"
   ]
  },
  {
   "cell_type": "code",
   "execution_count": 10,
   "metadata": {},
   "outputs": [
    {
     "data": {
      "text/plain": [
       "(610, 193609)"
      ]
     },
     "execution_count": 10,
     "metadata": {},
     "output_type": "execute_result"
    }
   ],
   "source": [
    "max(rating_df.userId), max(rating_df.movieId)"
   ]
  },
  {
   "cell_type": "markdown",
   "metadata": {},
   "source": [
    "  - The movie ids do not follow an order. \n",
    "  - 9724 movies have been selected that users with id 1 to 610 have rated so as to have 100k ratings. "
   ]
  },
  {
   "cell_type": "markdown",
   "metadata": {},
   "source": [
    "### Movies Information"
   ]
  },
  {
   "cell_type": "markdown",
   "metadata": {},
   "source": [
    "We are also provided the titles and genres of the movies in a separate file. "
   ]
  },
  {
   "cell_type": "code",
   "execution_count": 11,
   "metadata": {},
   "outputs": [],
   "source": [
    "movie_df = pd.read_csv(data_path + 'movies.csv', sep=',', header=0)"
   ]
  },
  {
   "cell_type": "code",
   "execution_count": 12,
   "metadata": {},
   "outputs": [
    {
     "data": {
      "text/html": [
       "<div>\n",
       "<style scoped>\n",
       "    .dataframe tbody tr th:only-of-type {\n",
       "        vertical-align: middle;\n",
       "    }\n",
       "\n",
       "    .dataframe tbody tr th {\n",
       "        vertical-align: top;\n",
       "    }\n",
       "\n",
       "    .dataframe thead th {\n",
       "        text-align: right;\n",
       "    }\n",
       "</style>\n",
       "<table border=\"1\" class=\"dataframe\">\n",
       "  <thead>\n",
       "    <tr style=\"text-align: right;\">\n",
       "      <th></th>\n",
       "      <th>movieId</th>\n",
       "      <th>title</th>\n",
       "      <th>genres</th>\n",
       "    </tr>\n",
       "  </thead>\n",
       "  <tbody>\n",
       "    <tr>\n",
       "      <th>0</th>\n",
       "      <td>1</td>\n",
       "      <td>Toy Story (1995)</td>\n",
       "      <td>Adventure|Animation|Children|Comedy|Fantasy</td>\n",
       "    </tr>\n",
       "    <tr>\n",
       "      <th>1</th>\n",
       "      <td>2</td>\n",
       "      <td>Jumanji (1995)</td>\n",
       "      <td>Adventure|Children|Fantasy</td>\n",
       "    </tr>\n",
       "    <tr>\n",
       "      <th>2</th>\n",
       "      <td>3</td>\n",
       "      <td>Grumpier Old Men (1995)</td>\n",
       "      <td>Comedy|Romance</td>\n",
       "    </tr>\n",
       "    <tr>\n",
       "      <th>3</th>\n",
       "      <td>4</td>\n",
       "      <td>Waiting to Exhale (1995)</td>\n",
       "      <td>Comedy|Drama|Romance</td>\n",
       "    </tr>\n",
       "    <tr>\n",
       "      <th>4</th>\n",
       "      <td>5</td>\n",
       "      <td>Father of the Bride Part II (1995)</td>\n",
       "      <td>Comedy</td>\n",
       "    </tr>\n",
       "  </tbody>\n",
       "</table>\n",
       "</div>"
      ],
      "text/plain": [
       "   movieId                               title  \\\n",
       "0        1                    Toy Story (1995)   \n",
       "1        2                      Jumanji (1995)   \n",
       "2        3             Grumpier Old Men (1995)   \n",
       "3        4            Waiting to Exhale (1995)   \n",
       "4        5  Father of the Bride Part II (1995)   \n",
       "\n",
       "                                        genres  \n",
       "0  Adventure|Animation|Children|Comedy|Fantasy  \n",
       "1                   Adventure|Children|Fantasy  \n",
       "2                               Comedy|Romance  \n",
       "3                         Comedy|Drama|Romance  \n",
       "4                                       Comedy  "
      ]
     },
     "execution_count": 12,
     "metadata": {},
     "output_type": "execute_result"
    }
   ],
   "source": [
    "movie_df.head()"
   ]
  },
  {
   "cell_type": "code",
   "execution_count": 13,
   "metadata": {},
   "outputs": [
    {
     "data": {
      "text/html": [
       "<div>\n",
       "<style scoped>\n",
       "    .dataframe tbody tr th:only-of-type {\n",
       "        vertical-align: middle;\n",
       "    }\n",
       "\n",
       "    .dataframe tbody tr th {\n",
       "        vertical-align: top;\n",
       "    }\n",
       "\n",
       "    .dataframe thead th {\n",
       "        text-align: right;\n",
       "    }\n",
       "</style>\n",
       "<table border=\"1\" class=\"dataframe\">\n",
       "  <thead>\n",
       "    <tr style=\"text-align: right;\">\n",
       "      <th></th>\n",
       "      <th>movieId</th>\n",
       "      <th>title</th>\n",
       "      <th>genres</th>\n",
       "    </tr>\n",
       "  </thead>\n",
       "  <tbody>\n",
       "    <tr>\n",
       "      <th>1611</th>\n",
       "      <td>2153</td>\n",
       "      <td>Avengers, The (1998)</td>\n",
       "      <td>Action|Adventure</td>\n",
       "    </tr>\n",
       "    <tr>\n",
       "      <th>6148</th>\n",
       "      <td>44020</td>\n",
       "      <td>Ultimate Avengers (2006)</td>\n",
       "      <td>Action|Animation|Children|Sci-Fi</td>\n",
       "    </tr>\n",
       "    <tr>\n",
       "      <th>7693</th>\n",
       "      <td>89745</td>\n",
       "      <td>Avengers, The (2012)</td>\n",
       "      <td>Action|Adventure|Sci-Fi|IMAX</td>\n",
       "    </tr>\n",
       "    <tr>\n",
       "      <th>8551</th>\n",
       "      <td>115727</td>\n",
       "      <td>Crippled Avengers (Can que) (Return of the 5 D...</td>\n",
       "      <td>Action|Adventure</td>\n",
       "    </tr>\n",
       "    <tr>\n",
       "      <th>8686</th>\n",
       "      <td>122892</td>\n",
       "      <td>Avengers: Age of Ultron (2015)</td>\n",
       "      <td>Action|Adventure|Sci-Fi</td>\n",
       "    </tr>\n",
       "    <tr>\n",
       "      <th>8693</th>\n",
       "      <td>122912</td>\n",
       "      <td>Avengers: Infinity War - Part I (2018)</td>\n",
       "      <td>Action|Adventure|Sci-Fi</td>\n",
       "    </tr>\n",
       "    <tr>\n",
       "      <th>9153</th>\n",
       "      <td>147657</td>\n",
       "      <td>Masked Avengers (1981)</td>\n",
       "      <td>Action</td>\n",
       "    </tr>\n",
       "    <tr>\n",
       "      <th>9488</th>\n",
       "      <td>170297</td>\n",
       "      <td>Ultimate Avengers 2 (2006)</td>\n",
       "      <td>Action|Animation|Sci-Fi</td>\n",
       "    </tr>\n",
       "  </tbody>\n",
       "</table>\n",
       "</div>"
      ],
      "text/plain": [
       "      movieId                                              title  \\\n",
       "1611     2153                               Avengers, The (1998)   \n",
       "6148    44020                           Ultimate Avengers (2006)   \n",
       "7693    89745                               Avengers, The (2012)   \n",
       "8551   115727  Crippled Avengers (Can que) (Return of the 5 D...   \n",
       "8686   122892                     Avengers: Age of Ultron (2015)   \n",
       "8693   122912             Avengers: Infinity War - Part I (2018)   \n",
       "9153   147657                             Masked Avengers (1981)   \n",
       "9488   170297                         Ultimate Avengers 2 (2006)   \n",
       "\n",
       "                                genres  \n",
       "1611                  Action|Adventure  \n",
       "6148  Action|Animation|Children|Sci-Fi  \n",
       "7693      Action|Adventure|Sci-Fi|IMAX  \n",
       "8551                  Action|Adventure  \n",
       "8686           Action|Adventure|Sci-Fi  \n",
       "8693           Action|Adventure|Sci-Fi  \n",
       "9153                            Action  \n",
       "9488           Action|Animation|Sci-Fi  "
      ]
     },
     "execution_count": 13,
     "metadata": {},
     "output_type": "execute_result"
    }
   ],
   "source": [
    "movie_df[movie_df['title'].str.contains('Avengers')]"
   ]
  },
  {
   "cell_type": "markdown",
   "metadata": {},
   "source": [
    "## Train/Test data"
   ]
  },
  {
   "cell_type": "markdown",
   "metadata": {},
   "source": [
    "Split the data into train and test sets.  "
   ]
  },
  {
   "cell_type": "code",
   "execution_count": 14,
   "metadata": {},
   "outputs": [],
   "source": [
    "train_df = rating_df.sample(frac=0.7,random_state=200) #random state is a seed value\n",
    "test_df = rating_df.drop(train_df.index)"
   ]
  },
  {
   "cell_type": "code",
   "execution_count": 15,
   "metadata": {},
   "outputs": [
    {
     "data": {
      "text/plain": [
       "((70585, 4), (30251, 4))"
      ]
     },
     "execution_count": 15,
     "metadata": {},
     "output_type": "execute_result"
    }
   ],
   "source": [
    "train_df.shape, test_df.shape"
   ]
  },
  {
   "cell_type": "code",
   "execution_count": 16,
   "metadata": {},
   "outputs": [],
   "source": [
    "test_users = test_df.userId.unique()\n",
    "test_movies = test_df.movieId.unique()"
   ]
  },
  {
   "cell_type": "code",
   "execution_count": 17,
   "metadata": {},
   "outputs": [
    {
     "data": {
      "text/plain": [
       "((610,), (6137,))"
      ]
     },
     "execution_count": 17,
     "metadata": {},
     "output_type": "execute_result"
    }
   ],
   "source": [
    "test_users.shape, test_movies.shape"
   ]
  },
  {
   "cell_type": "markdown",
   "metadata": {},
   "source": [
    "## Data processing"
   ]
  },
  {
   "cell_type": "markdown",
   "metadata": {},
   "source": [
    "We will be used the implementation of metapath2vec provided with the original paper which is in C++."
   ]
  },
  {
   "cell_type": "raw",
   "metadata": {},
   "source": [
    "metapath2vec implementation terminalogy\n",
    "\n",
    "a = user, from author\n",
    "v = movie, from venue\n",
    "\n",
    "Currently, the official metapath2vec implementation supports four types of nodes:\n",
    "                1. one starting from \"v\", e.g., vKDD\n",
    "                2. one starting from \"a\", e.g., aJiaweiHan\n",
    "                3. one starting from \"i\"\n",
    "                4. one starting from \"f\""
   ]
  },
  {
   "cell_type": "markdown",
   "metadata": {},
   "source": [
    "Suffix 'a' to every user node id, and 'v' to every movie id. "
   ]
  },
  {
   "cell_type": "code",
   "execution_count": 18,
   "metadata": {},
   "outputs": [],
   "source": [
    "user2int = dict()\n",
    "movie2int = dict()\n",
    "\n",
    "for x in train_df.values:\n",
    "    usr = int(x[0])\n",
    "    movie = int(x[1])\n",
    "    if usr in user2int:\n",
    "        pass\n",
    "    else:\n",
    "        user2int[usr] = 'a' + str(usr)\n",
    "    if movie in movie2int:\n",
    "        pass\n",
    "    else:\n",
    "        movie2int[movie] = 'v' + str(movie)"
   ]
  },
  {
   "cell_type": "code",
   "execution_count": 19,
   "metadata": {},
   "outputs": [
    {
     "data": {
      "text/plain": [
       "(610, 8519)"
      ]
     },
     "execution_count": 19,
     "metadata": {},
     "output_type": "execute_result"
    }
   ],
   "source": [
    "len(user2int), len(movie2int)"
   ]
  },
  {
   "cell_type": "code",
   "execution_count": 20,
   "metadata": {},
   "outputs": [
    {
     "data": {
      "text/plain": [
       "[474, 368, 232, 506, 89]"
      ]
     },
     "execution_count": 20,
     "metadata": {},
     "output_type": "execute_result"
    }
   ],
   "source": [
    "list(user2int.keys())[:5]"
   ]
  },
  {
   "cell_type": "markdown",
   "metadata": {},
   "source": [
    "### Adjacency lists of user and movies"
   ]
  },
  {
   "cell_type": "markdown",
   "metadata": {},
   "source": [
    "Create the adjacency lists of the movies and users. Unlike the setup of *metapath2vec*, we have a *weighted* graph, so inaddition to the adjacent nodes, we also record the weight of each connection. Since these weights will determine transition probabilies of the random walks, we also normalize the weights of each edge by the sum of the weights of all edges from a given node. "
   ]
  },
  {
   "cell_type": "code",
   "execution_count": 21,
   "metadata": {},
   "outputs": [],
   "source": [
    "user_movielist = dict()\n",
    "for x in train_df.groupby(by=['userId'])[['movieId', 'rating']]:\n",
    "    usr = user2int[x[0]]\n",
    "    movieids = x[1][['movieId', 'rating']].values\n",
    "    user_movielist[usr] = [(movie2int[y[0]], float(y[1])) for y in movieids]\n",
    "    norm_sum = np.sum([y[1] for y in user_movielist[usr]])\n",
    "    user_movielist[usr] = [(y[0], float(y[1]) / norm_sum) for y in user_movielist[usr]] "
   ]
  },
  {
   "cell_type": "code",
   "execution_count": 22,
   "metadata": {},
   "outputs": [
    {
     "data": {
      "text/plain": [
       "[('v1224', 0.007132667617689016),\n",
       " ('v1092', 0.007132667617689016),\n",
       " ('v2096', 0.005706134094151213),\n",
       " ('v1445', 0.0042796005706134095),\n",
       " ('v2997', 0.005706134094151213)]"
      ]
     },
     "execution_count": 22,
     "metadata": {},
     "output_type": "execute_result"
    }
   ],
   "source": [
    "user_movielist['a1'][:5]"
   ]
  },
  {
   "cell_type": "code",
   "execution_count": 23,
   "metadata": {},
   "outputs": [],
   "source": [
    "movie_userlist = dict()\n",
    "for x in train_df.groupby(by=['movieId'])[['userId', 'rating']]:\n",
    "    mve = movie2int[int(x[0])]\n",
    "    userids = x[1][['userId', 'rating']].values\n",
    "    movie_userlist[mve] = [(user2int[y[0]], float(y[1])) for y in userids]\n",
    "    norm_sum = np.sum([y[1] for y in movie_userlist[mve]])\n",
    "    movie_userlist[mve] = [(y[0], float(y[1]) / norm_sum) for y in movie_userlist[mve]] "
   ]
  },
  {
   "cell_type": "code",
   "execution_count": 24,
   "metadata": {},
   "outputs": [
    {
     "data": {
      "text/plain": [
       "[('a193', 0.0034158838599487617),\n",
       " ('a477', 0.006831767719897523),\n",
       " ('a252', 0.007685738684884714),\n",
       " ('a606', 0.004269854824935952),\n",
       " ('a471', 0.008539709649871904)]"
      ]
     },
     "execution_count": 24,
     "metadata": {},
     "output_type": "execute_result"
    }
   ],
   "source": [
    "movie_userlist['v1'][:5]"
   ]
  },
  {
   "cell_type": "markdown",
   "metadata": {},
   "source": [
    "## metapath2vec"
   ]
  },
  {
   "cell_type": "markdown",
   "metadata": {},
   "source": [
    "metapath2vec operates in following steps:\n",
    "- Choose a metapath e.g. User-Movie, User-Movie-User etc. \n",
    "- Generate random walks starting from each node guided by the chosen metapath.\n",
    "- Run the embedding model i.e. kip-gram with negative sampling. "
   ]
  },
  {
   "cell_type": "markdown",
   "metadata": {},
   "source": [
    "### Random walks for User-Movie-User metapath"
   ]
  },
  {
   "cell_type": "code",
   "execution_count": 25,
   "metadata": {},
   "outputs": [],
   "source": [
    "def generate_metapaths_umu(user_movielist, movie_userlist, num_walks=10, walk_length=80):\n",
    "    walks = []\n",
    "    for usr in user_movielist:\n",
    "        usr0 = usr\n",
    "        for i in range(0, num_walks):\n",
    "            walk = usr0\n",
    "            for j in range(0, walk_length):\n",
    "                movielist = user_movielist[usr]\n",
    "                movieids = [x[0] for x in movielist]\n",
    "                mve_probs =  [x[1] for x in movielist]\n",
    "                next_movie = np.random.choice(movieids, 1, p=mve_probs)[0]\n",
    "                walk += \" \" + next_movie\n",
    "                \n",
    "                usrlist = movie_userlist[next_movie]\n",
    "                usrids = [x[0] for x in usrlist]\n",
    "                usr_probs = [x[1] for x in usrlist]\n",
    "                next_user = np.random.choice(usrids, 1, p=usr_probs)[0]\n",
    "                walk += \" \" + next_user\n",
    "            walks.append(walk)\n",
    "    return walks\n",
    "                   "
   ]
  },
  {
   "cell_type": "code",
   "execution_count": 27,
   "metadata": {},
   "outputs": [],
   "source": [
    "metapath_walks_umu = generate_metapaths_umu(user_movielist, movie_userlist, num_walks=10, walk_length=100)"
   ]
  },
  {
   "cell_type": "code",
   "execution_count": 29,
   "metadata": {},
   "outputs": [
    {
     "data": {
      "text/plain": [
       "'a1 v2143 a605 v2470 a68 v1210 a120 v3176 a202 v1587 a325 v2005 a20 v3253 a111 v553 a353 v2268 a265 v3639 a164 v2617 a312 v2987 a391 v2291 a489 v2046 a288 v2700 a141 v1408 a39 v1445 a414 v2628 a591 v2858 a503 v1009 a414 v3527 a387 v2174 a260 v3052 a282 v6 a325 v1617 a608 v1009 a51 v2291 a122 v260 a434 v552 a395 v2858 a606 v923 a122 v3703 a330 v2094 a68 v2193 a226 v1278 a524 v1291 a475 v2542 a122 v2387 a294 v553 a274 v2141 a522 v3703 a202 v4006 a167 v2991 a288 v1396 a385 v2944 a156 v543 a387 v1291 a524 v216 a1 v661 a274 v2657 a177 v260 a239 v2161 a160 v2406 a452 v2529 a483 v552 a58 v2571 a68 v1030 a234 v1210 a96 v2761 a288 v543 a608 v3744 a182 v1377 a596 v1092 a160 v1073 a140 v1089 a266 v1213 a91 v3578 a10 v590 a223 v2502 a17 v1587 a469 v1049 a57 v2048 a525 v2137 a217 v1049 a19 v590 a565 v2628 a57 v2459 a1 v2991 a448 v480 a514 v2644 a1 v2492 a186 v2193 a414 v1587 a469 v543 a226 v2048 a186 v954 a290 v919 a517 v954 a66 v2141 a387 v1278 a477 v260 a555 v1617 a448 v3062 a202 v1587 a313 v356 a283 v1073 a240 v923 a168 v3578 a226 v3671 a555 v2987 a122'"
      ]
     },
     "execution_count": 29,
     "metadata": {},
     "output_type": "execute_result"
    }
   ],
   "source": [
    "metapath_walks_umu[0]"
   ]
  },
  {
   "cell_type": "code",
   "execution_count": 31,
   "metadata": {},
   "outputs": [
    {
     "data": {
      "text/plain": [
       "6100"
      ]
     },
     "execution_count": 31,
     "metadata": {},
     "output_type": "execute_result"
    }
   ],
   "source": [
    "len(metapath_walks_umu)"
   ]
  },
  {
   "cell_type": "markdown",
   "metadata": {},
   "source": [
    "Write the random walks to a file to be used to *metapath2vec* code. "
   ]
  },
  {
   "cell_type": "code",
   "execution_count": 32,
   "metadata": {},
   "outputs": [],
   "source": [
    "outfile = '../data/user_movie_user_metapath_walks_umu.txt'"
   ]
  },
  {
   "cell_type": "code",
   "execution_count": 33,
   "metadata": {},
   "outputs": [],
   "source": [
    "with open(outfile, 'w') as f:\n",
    "    for walk in metapath_walks_umu:\n",
    "        f.write(walk + \"\\n\")"
   ]
  },
  {
   "cell_type": "markdown",
   "metadata": {},
   "source": [
    "Call metapath2vec with following config\n",
    "\n",
    "- embedding dimension = 128\n",
    "- context window size = 7\n",
    "- negative samples = 5"
   ]
  },
  {
   "cell_type": "code",
   "execution_count": 512,
   "metadata": {},
   "outputs": [
    {
     "name": "stdout",
     "output_type": "stream",
     "text": [
      "Starting training using file ../data/user_movie_user_metapath_walks_umu.txt\n",
      "Vocab size: 5835\n",
      "Words in train file: 1227052\n",
      "Alpha: 0.000894  Progress: 98.71%  Words/thread/sec: 35.73k  "
     ]
    }
   ],
   "source": [
    "! ../../deep_learning_graphs/metapath2vec/metapath2vec -train ../data/user_movie_user_metapath_walks_umu.txt -output ../data/metapath_umu_embed -pp 0 -size 128 -window 7 -negative 5 -threads 32\n"
   ]
  },
  {
   "cell_type": "raw",
   "metadata": {},
   "source": [
    "Just for reminder \n",
    "a = user\n",
    "v = movie"
   ]
  },
  {
   "cell_type": "markdown",
   "metadata": {},
   "source": [
    "Load embeddings"
   ]
  },
  {
   "cell_type": "code",
   "execution_count": 513,
   "metadata": {},
   "outputs": [],
   "source": [
    "def build_embeddings(embed_file):\n",
    "    embedding_dict = dict()\n",
    "    for line in open(embed_file):\n",
    "        if line.startswith('v') or line.startswith('a'):\n",
    "            record = line.rstrip().split()\n",
    "            key = record[0]\n",
    "            embedding_dict[key] = np.array(record[1:], dtype=float)\n",
    "        else:\n",
    "            pass\n",
    "    return embedding_dict"
   ]
  },
  {
   "cell_type": "code",
   "execution_count": 514,
   "metadata": {},
   "outputs": [],
   "source": [
    "embeddings_umu = build_embeddings('../data/metapath_umu_embed.txt')"
   ]
  },
  {
   "cell_type": "code",
   "execution_count": 515,
   "metadata": {},
   "outputs": [
    {
     "data": {
      "text/plain": [
       "5834"
      ]
     },
     "execution_count": 515,
     "metadata": {},
     "output_type": "execute_result"
    }
   ],
   "source": [
    "len(embeddings_umu)"
   ]
  },
  {
   "cell_type": "code",
   "execution_count": 516,
   "metadata": {},
   "outputs": [
    {
     "data": {
      "text/plain": [
       "(128,)"
      ]
     },
     "execution_count": 516,
     "metadata": {},
     "output_type": "execute_result"
    }
   ],
   "source": [
    "embeddings_umu['v1'].shape"
   ]
  },
  {
   "cell_type": "markdown",
   "metadata": {},
   "source": [
    "Movie-Movie Similarity "
   ]
  },
  {
   "cell_type": "code",
   "execution_count": 517,
   "metadata": {},
   "outputs": [
    {
     "data": {
      "text/plain": [
       "0.5740252373388659"
      ]
     },
     "execution_count": 517,
     "metadata": {},
     "output_type": "execute_result"
    }
   ],
   "source": [
    "movie1 = movie2int[260]\n",
    "movie2 = movie2int[1196]\n",
    "1.0 - cosine(embeddings_umu[movie1], embeddings_umu[movie2])"
   ]
  },
  {
   "cell_type": "code",
   "execution_count": 518,
   "metadata": {},
   "outputs": [
    {
     "data": {
      "text/plain": [
       "('v260', 'v1196')"
      ]
     },
     "execution_count": 518,
     "metadata": {},
     "output_type": "execute_result"
    }
   ],
   "source": [
    "movie1, movie2"
   ]
  },
  {
   "cell_type": "code",
   "execution_count": 519,
   "metadata": {},
   "outputs": [
    {
     "data": {
      "text/plain": [
       "0.5456195353020642"
      ]
     },
     "execution_count": 519,
     "metadata": {},
     "output_type": "execute_result"
    }
   ],
   "source": [
    "movie3 = movie2int[1210]\n",
    "1.0 - cosine(embeddings_umu[movie1], embeddings_umu[movie3])"
   ]
  },
  {
   "cell_type": "code",
   "execution_count": 520,
   "metadata": {},
   "outputs": [
    {
     "data": {
      "text/plain": [
       "0.17959358716862783"
      ]
     },
     "execution_count": 520,
     "metadata": {},
     "output_type": "execute_result"
    }
   ],
   "source": [
    "movie4 = movie2int[1]\n",
    "1.0 - cosine(embeddings_umu[movie1], embeddings_umu[movie4])"
   ]
  },
  {
   "cell_type": "code",
   "execution_count": 521,
   "metadata": {},
   "outputs": [],
   "source": [
    "metapath_vecs_umu = []\n",
    "metapath_umu_ids = []\n",
    "for x in embeddings_umu:\n",
    "    metapath_vecs_umu.append(embeddings_umu[x])\n",
    "    metapath_umu_ids.append(x)"
   ]
  },
  {
   "cell_type": "code",
   "execution_count": 522,
   "metadata": {},
   "outputs": [
    {
     "data": {
      "text/plain": [
       "((5834, 128), 5834)"
      ]
     },
     "execution_count": 522,
     "metadata": {},
     "output_type": "execute_result"
    }
   ],
   "source": [
    "metapath_vecs_umu = np.array(metapath_vecs_umu)\n",
    "metapath_vecs_umu.shape, len(metapath_umu_ids)"
   ]
  },
  {
   "cell_type": "code",
   "execution_count": 523,
   "metadata": {},
   "outputs": [],
   "source": [
    "reverse_movie2int = {k:v for v,k in movie2int.items()}"
   ]
  },
  {
   "cell_type": "markdown",
   "metadata": {},
   "source": [
    "Compute k-nearest neighboring movies to a given movie. "
   ]
  },
  {
   "cell_type": "code",
   "execution_count": 524,
   "metadata": {},
   "outputs": [],
   "source": [
    "def get_similar_movies_metapath(movieid, embed_arr, embed_keys, top_n=10):\n",
    "    movie_idx = movie2int[movieid]\n",
    "    idx = embed_keys.index(movie_idx)\n",
    "    query = embed_arr[idx].reshape(1,-1)\n",
    "    ranking = cosine_similarity(query, embed_arr)\n",
    "    top_ids = np.argsort(-ranking)[0]\n",
    "    top_indices = [embed_keys[y] for y in top_ids]\n",
    "    top_movie_ids = [reverse_movie2int[j] for j in top_indices if j in reverse_movie2int][:top_n] \n",
    "    sim_movies = [movie_df[movie_df.movieId == id].title.values[0] for id in top_movie_ids]\n",
    "    return sim_movies"
   ]
  },
  {
   "cell_type": "code",
   "execution_count": 525,
   "metadata": {},
   "outputs": [
    {
     "data": {
      "text/plain": [
       "['Star Wars: Episode IV - A New Hope (1977)',\n",
       " 'Star Wars: Episode V - The Empire Strikes Back (1980)',\n",
       " 'Raiders of the Lost Ark (Indiana Jones and the Raiders of the Lost Ark) (1981)',\n",
       " 'Star Wars: Episode VI - Return of the Jedi (1983)',\n",
       " 'Cage Dive (2017)',\n",
       " 'Battlefield Earth (2000)',\n",
       " 'Indiana Jones and the Last Crusade (1989)',\n",
       " 'Matrix, The (1999)',\n",
       " 'Rush (2013)',\n",
       " 'Geronimo: An American Legend (1993)']"
      ]
     },
     "execution_count": 525,
     "metadata": {},
     "output_type": "execute_result"
    }
   ],
   "source": [
    "get_similar_movies_metapath(260, metapath_vecs_umu, metapath_umu_ids)"
   ]
  },
  {
   "cell_type": "code",
   "execution_count": 526,
   "metadata": {},
   "outputs": [
    {
     "data": {
      "text/plain": [
       "['Toy Story (1995)',\n",
       " 'Cemetery Man (Dellamorte Dellamore) (1994)',\n",
       " 'Adventures of Pinocchio, The (1996)',\n",
       " 'Great White Hype, The (1996)',\n",
       " 'Hunchback of Notre Dame, The (1996)',\n",
       " 'Carpool (1996)',\n",
       " 'Lawnmower Man 2: Beyond Cyberspace (1996)',\n",
       " 'Nutty Professor, The (1996)',\n",
       " \"Mr. Holland's Opus (1995)\",\n",
       " 'Man of the Year (1995)']"
      ]
     },
     "execution_count": 526,
     "metadata": {},
     "output_type": "execute_result"
    }
   ],
   "source": [
    "get_similar_movies_metapath(1, metapath_vecs_umu, metapath_umu_ids)[:10]"
   ]
  },
  {
   "cell_type": "code",
   "execution_count": 527,
   "metadata": {},
   "outputs": [
    {
     "data": {
      "text/plain": [
       "['Jumanji (1995)',\n",
       " 'Stargate (1994)',\n",
       " 'Mask, The (1994)',\n",
       " 'RoboCop 3 (1993)',\n",
       " 'Lion King, The (1994)',\n",
       " 'Amazing Panda Adventure, The (1995)',\n",
       " 'Swan Princess, The (1994)',\n",
       " 'Batman Forever (1995)',\n",
       " 'NeverEnding Story III, The (1994)',\n",
       " 'Boys of St. Vincent, The (1992)']"
      ]
     },
     "execution_count": 527,
     "metadata": {},
     "output_type": "execute_result"
    }
   ],
   "source": [
    "get_similar_movies_metapath(2, metapath_vecs_umu, metapath_umu_ids)[:10]"
   ]
  },
  {
   "cell_type": "markdown",
   "metadata": {},
   "source": [
    "### Recommendation"
   ]
  },
  {
   "cell_type": "code",
   "execution_count": 528,
   "metadata": {},
   "outputs": [],
   "source": [
    "def get_recommended_movies_metapath(userid, embed_arr, embed_keys, top_n=10):\n",
    "    user_idx = user2int[userid]\n",
    "    idx = embed_keys.index(user_idx)\n",
    "    query = embed_arr[idx].reshape(1,-1)\n",
    "    ranking = cosine_similarity(query, embed_arr)\n",
    "    top_ids = np.argsort(-ranking)[0]\n",
    "    top_indices = [embed_keys[y] for y in top_ids]\n",
    "    top_movie_ids = [reverse_movie2int[j] for j in top_indices if j in reverse_movie2int][:top_n]\n",
    "    reco_movies = [movie_df[movie_df.movieId == id].title.values[0] for id in top_movie_ids]\n",
    "    return reco_movies"
   ]
  },
  {
   "cell_type": "code",
   "execution_count": 529,
   "metadata": {},
   "outputs": [
    {
     "data": {
      "text/plain": [
       "[\"Gulliver's Travels (1939)\",\n",
       " 'Welcome to Woop-Woop (1997)',\n",
       " 'Newton Boys, The (1998)',\n",
       " 'Black Cauldron, The (1985)',\n",
       " 'Iron Eagle (1986)',\n",
       " 'Canadian Bacon (1995)',\n",
       " 'Highlander: Endgame (Highlander IV) (2000)',\n",
       " \"McHale's Navy (1997)\",\n",
       " 'Trial and Error (1997)',\n",
       " 'Quiet Man, The (1952)']"
      ]
     },
     "execution_count": 529,
     "metadata": {},
     "output_type": "execute_result"
    }
   ],
   "source": [
    "get_recommended_movies_metapath(1, metapath_vecs_umu, metapath_umu_ids)"
   ]
  },
  {
   "cell_type": "code",
   "execution_count": 530,
   "metadata": {},
   "outputs": [
    {
     "data": {
      "text/plain": [
       "['The Drop (2014)',\n",
       " 'Warrior (2011)',\n",
       " 'Louis C.K.: Hilarious (2010)',\n",
       " 'Wolf of Wall Street, The (2013)',\n",
       " 'Mad Max: Fury Road (2015)',\n",
       " 'Exit Through the Gift Shop (2010)',\n",
       " 'Inside Job (2010)',\n",
       " 'Talladega Nights: The Ballad of Ricky Bobby (2006)',\n",
       " 'We Could Be King (2014)',\n",
       " 'Whiplash (2014)']"
      ]
     },
     "execution_count": 530,
     "metadata": {},
     "output_type": "execute_result"
    }
   ],
   "source": [
    "get_recommended_movies_metapath(2, metapath_vecs_umu, metapath_umu_ids)"
   ]
  },
  {
   "cell_type": "code",
   "execution_count": 531,
   "metadata": {},
   "outputs": [
    {
     "data": {
      "text/plain": [
       "['Death Race 2000 (1975)',\n",
       " 'Alien Contamination (1980)',\n",
       " 'Clonus Horror, The (1979)',\n",
       " 'Galaxy of Terror (Quest) (1981)',\n",
       " 'The Lair of the White Worm (1988)',\n",
       " 'Saturn 3 (1980)',\n",
       " 'Hangar 18 (1980)',\n",
       " 'Looker (1981)',\n",
       " 'Android (1982)',\n",
       " 'Piranha (1978)']"
      ]
     },
     "execution_count": 531,
     "metadata": {},
     "output_type": "execute_result"
    }
   ],
   "source": [
    "get_recommended_movies_metapath(3, metapath_vecs_umu, metapath_umu_ids)"
   ]
  },
  {
   "cell_type": "code",
   "execution_count": null,
   "metadata": {},
   "outputs": [],
   "source": []
  },
  {
   "cell_type": "markdown",
   "metadata": {},
   "source": [
    "### Movie-User-Movie metapath"
   ]
  },
  {
   "cell_type": "code",
   "execution_count": 98,
   "metadata": {},
   "outputs": [],
   "source": [
    "def generate_metapaths_mum(user_movielist, movie_userlist, num_walks=10, walk_length=80):\n",
    "    walks = []\n",
    "    for mve in movie_userlist:\n",
    "        mve0 = mve\n",
    "        for i in range(0, num_walks):\n",
    "            walk = mve0\n",
    "            for j in range(0, walk_length):\n",
    "                usrlist = movie_userlist[mve]\n",
    "                usrids = [x[0] for x in usrlist]\n",
    "                usr_probs = [x[1] for x in usrlist]\n",
    "                next_user = np.random.choice(usrids, 1, p=usr_probs)[0]\n",
    "                walk += \" \" + next_user\n",
    "\n",
    "                movielist = user_movielist[next_user]\n",
    "                movieids = [x[0] for x in movielist]\n",
    "                mve_probs =  [x[1] for x in movielist]\n",
    "                next_movie = np.random.choice(movieids, 1, p=mve_probs)[0]\n",
    "                walk += \" \" + next_movie\n",
    "            walks.append(walk)\n",
    "    return walks\n",
    "                   "
   ]
  },
  {
   "cell_type": "code",
   "execution_count": 119,
   "metadata": {},
   "outputs": [],
   "source": [
    "metapath_walks_mum = generate_metapaths_mum(user_movielist, movie_userlist, num_walks=10, walk_length=100)"
   ]
  },
  {
   "cell_type": "code",
   "execution_count": 120,
   "metadata": {},
   "outputs": [
    {
     "data": {
      "text/plain": [
       "'v1 a573 v6586 a522 v1210 a477 v55442 a434 v6502 a562 v2420 a533 v8874 a606 v6591 a119 v6539 a96 v367 a469 v1037 a178 v4226 a359 v2324 a21 v4896 a50 v27513 a378 v63082 a483 v8644 a43 v339 a608 v4896 a411 v235 a57 v1370 a274 v4223 a239 v367 a411 v159 a5 v364 a206 v141 a280 v7451 a608 v3499 a214 v628 a381 v3247 a380 v3156 a201 v2683 a18 v104879 a359 v44555 a90 v1183 a229 v150 a276 v104 a471 v4973 a500 v2987 a597 v1673 a550 v122904 a54 v639 a451 v17 a411 v587 a573 v2394 a71 v1101 a91 v260 a601 v72378 a57 v1580 a178 v296 a63 v7254 a353 v457 a191 v308 a282 v2028 a339 v1265 a414 v150548 a130 v225 a334 v61024 a264 v3510 a579 v2396 a63 v1278 a332 v1224 a159 v597 a328 v2717 a167 v5103 a229 v353 a456 v1 a247 v106782 a469 v3022 a130 v150 a277 v849 a82 v34 a389 v17 a193 v55442 a269 v63 a357 v7153 a334 v1265 a477 v2657 a378 v7153 a46 v282 a579 v356 a328 v51255 a134 v173 a323 v105 a357 v33794 a380 v5323 a572 v150 a229 v586 a46 v10 a276 v370 a91 v2804 a601 v1584 a436 v235 a381 v7147 a605 v2617 a412 v2390 a155 v3555 a341 v5816 a276 v7 a603 v2989 a389 v65'"
      ]
     },
     "execution_count": 120,
     "metadata": {},
     "output_type": "execute_result"
    }
   ],
   "source": [
    "metapath_walks_mum[0]"
   ]
  },
  {
   "cell_type": "code",
   "execution_count": 121,
   "metadata": {},
   "outputs": [
    {
     "data": {
      "text/plain": [
       "85190"
      ]
     },
     "execution_count": 121,
     "metadata": {},
     "output_type": "execute_result"
    }
   ],
   "source": [
    "len(metapath_walks_mum)"
   ]
  },
  {
   "cell_type": "code",
   "execution_count": 122,
   "metadata": {},
   "outputs": [],
   "source": [
    "outfile_mum = '../data/user_movie_user_metapath_walks_mum.txt'"
   ]
  },
  {
   "cell_type": "code",
   "execution_count": 123,
   "metadata": {},
   "outputs": [],
   "source": [
    "with open(outfile_mum, 'w') as f:\n",
    "    for walk in metapath_walks_mum:\n",
    "        f.write(walk + \"\\n\")"
   ]
  },
  {
   "cell_type": "code",
   "execution_count": 532,
   "metadata": {},
   "outputs": [
    {
     "name": "stdout",
     "output_type": "stream",
     "text": [
      "Starting training using file ../data/user_movie_user_metapath_walks_mum.txt\n",
      "Vocab size: 9130\n",
      "Words in train file: 17208380\n",
      "Alpha: 0.000037  Progress: 99.86%  Words/thread/sec: 36.25k  "
     ]
    }
   ],
   "source": [
    "! ../../deep_learning_graphs/metapath2vec/metapath2vec -train ../data/user_movie_user_metapath_walks_mum.txt -output ../data/metapath_mum_embed -pp 0 -size 128 -window 7 -negative 5 -threads 32"
   ]
  },
  {
   "cell_type": "code",
   "execution_count": 533,
   "metadata": {},
   "outputs": [],
   "source": [
    "embeddings_mum = build_embeddings('../data/metapath_mum_embed.txt')"
   ]
  },
  {
   "cell_type": "code",
   "execution_count": 534,
   "metadata": {},
   "outputs": [
    {
     "data": {
      "text/plain": [
       "(128,)"
      ]
     },
     "execution_count": 534,
     "metadata": {},
     "output_type": "execute_result"
    }
   ],
   "source": [
    "embeddings_mum['v1'].shape"
   ]
  },
  {
   "cell_type": "code",
   "execution_count": 535,
   "metadata": {},
   "outputs": [
    {
     "data": {
      "text/plain": [
       "9129"
      ]
     },
     "execution_count": 535,
     "metadata": {},
     "output_type": "execute_result"
    }
   ],
   "source": [
    "len(embeddings_mum)"
   ]
  },
  {
   "cell_type": "code",
   "execution_count": 536,
   "metadata": {},
   "outputs": [
    {
     "data": {
      "text/plain": [
       "0.7035925852157052"
      ]
     },
     "execution_count": 536,
     "metadata": {},
     "output_type": "execute_result"
    }
   ],
   "source": [
    "1.0 - cosine(embeddings_mum[movie1], embeddings_mum[movie2])"
   ]
  },
  {
   "cell_type": "code",
   "execution_count": 537,
   "metadata": {},
   "outputs": [
    {
     "data": {
      "text/plain": [
       "0.686735952361414"
      ]
     },
     "execution_count": 537,
     "metadata": {},
     "output_type": "execute_result"
    }
   ],
   "source": [
    "1.0 - cosine(embeddings_mum[movie1], embeddings_mum[movie3])"
   ]
  },
  {
   "cell_type": "code",
   "execution_count": 538,
   "metadata": {},
   "outputs": [
    {
     "data": {
      "text/plain": [
       "0.6477228064390673"
      ]
     },
     "execution_count": 538,
     "metadata": {},
     "output_type": "execute_result"
    }
   ],
   "source": [
    "1.0 - cosine(embeddings_mum[movie1], embeddings_mum[movie4])"
   ]
  },
  {
   "cell_type": "code",
   "execution_count": 539,
   "metadata": {},
   "outputs": [],
   "source": [
    "metapath_vecs_mum = []\n",
    "metapath_mum_ids = []\n",
    "for x in embeddings_mum:\n",
    "    metapath_vecs_mum.append(embeddings_mum[x])\n",
    "    metapath_mum_ids.append(x)"
   ]
  },
  {
   "cell_type": "code",
   "execution_count": 540,
   "metadata": {},
   "outputs": [
    {
     "data": {
      "text/plain": [
       "((9129, 128), 9129)"
      ]
     },
     "execution_count": 540,
     "metadata": {},
     "output_type": "execute_result"
    }
   ],
   "source": [
    "metapath_vecs_mum = np.array(metapath_vecs_mum)\n",
    "metapath_vecs_mum.shape, len(metapath_mum_ids)"
   ]
  },
  {
   "cell_type": "code",
   "execution_count": 541,
   "metadata": {},
   "outputs": [
    {
     "data": {
      "text/plain": [
       "['Star Wars: Episode IV - A New Hope (1977)',\n",
       " 'Star Wars: Episode V - The Empire Strikes Back (1980)',\n",
       " 'Independence Day (a.k.a. ID4) (1996)',\n",
       " 'Star Wars: Episode VI - Return of the Jedi (1983)',\n",
       " 'Twister (1996)',\n",
       " 'Birdcage, The (1996)',\n",
       " 'Raiders of the Lost Ark (Indiana Jones and the Raiders of the Lost Ark) (1981)',\n",
       " 'Toy Story (1995)',\n",
       " 'Mighty Aphrodite (1995)',\n",
       " 'Shawshank Redemption, The (1994)']"
      ]
     },
     "execution_count": 541,
     "metadata": {},
     "output_type": "execute_result"
    }
   ],
   "source": [
    "get_similar_movies_metapath(260, metapath_vecs_mum, metapath_mum_ids)"
   ]
  },
  {
   "cell_type": "code",
   "execution_count": 542,
   "metadata": {},
   "outputs": [
    {
     "data": {
      "text/plain": [
       "['Toy Story (1995)',\n",
       " 'Eraser (1996)',\n",
       " 'Sense and Sensibility (1995)',\n",
       " 'Father of the Bride Part II (1995)',\n",
       " 'Star Trek: First Contact (1996)',\n",
       " 'Nutty Professor, The (1996)',\n",
       " 'Nixon (1995)',\n",
       " 'Mission: Impossible (1996)',\n",
       " 'Mighty Aphrodite (1995)',\n",
       " 'Star Wars: Episode IV - A New Hope (1977)']"
      ]
     },
     "execution_count": 542,
     "metadata": {},
     "output_type": "execute_result"
    }
   ],
   "source": [
    "get_similar_movies_metapath(1, metapath_vecs_mum, metapath_mum_ids)"
   ]
  },
  {
   "cell_type": "code",
   "execution_count": 543,
   "metadata": {},
   "outputs": [
    {
     "data": {
      "text/plain": [
       "['Jumanji (1995)',\n",
       " 'Lion King, The (1994)',\n",
       " 'Santa Clause, The (1994)',\n",
       " 'Pretty Woman (1990)',\n",
       " 'Dances with Wolves (1990)',\n",
       " 'Beauty and the Beast (1991)',\n",
       " 'Terminator 2: Judgment Day (1991)',\n",
       " 'Mrs. Doubtfire (1993)',\n",
       " 'Star Trek: Generations (1994)',\n",
       " 'Stargate (1994)']"
      ]
     },
     "execution_count": 543,
     "metadata": {},
     "output_type": "execute_result"
    }
   ],
   "source": [
    "get_similar_movies_metapath(2, metapath_vecs_mum, metapath_mum_ids)"
   ]
  },
  {
   "cell_type": "code",
   "execution_count": null,
   "metadata": {},
   "outputs": [],
   "source": []
  },
  {
   "cell_type": "code",
   "execution_count": 544,
   "metadata": {},
   "outputs": [
    {
     "data": {
      "text/plain": [
       "[\"Gulliver's Travels (1939)\",\n",
       " 'Welcome to Woop-Woop (1997)',\n",
       " 'Newton Boys, The (1998)',\n",
       " \"McHale's Navy (1997)\",\n",
       " 'Dracula (1931)',\n",
       " 'Red Dawn (1984)',\n",
       " 'Ghost and the Darkness, The (1996)',\n",
       " 'Very Bad Things (1998)',\n",
       " 'Ghost and Mrs. Muir, The (1947)',\n",
       " 'Winnie the Pooh and the Blustery Day (1968)']"
      ]
     },
     "execution_count": 544,
     "metadata": {},
     "output_type": "execute_result"
    }
   ],
   "source": [
    "get_recommended_movies_metapath(1, metapath_vecs_mum, metapath_mum_ids)"
   ]
  },
  {
   "cell_type": "code",
   "execution_count": 545,
   "metadata": {},
   "outputs": [
    {
     "data": {
      "text/plain": [
       "['Inside Job (2010)',\n",
       " 'Warrior (2011)',\n",
       " 'Louis C.K.: Hilarious (2010)',\n",
       " 'Town, The (2010)',\n",
       " 'Shutter Island (2010)',\n",
       " 'Inception (2010)',\n",
       " 'Django Unchained (2012)',\n",
       " \"In My Father's Den (2004)\",\n",
       " 'The Drop (2014)',\n",
       " 'Girl with the Dragon Tattoo, The (2011)']"
      ]
     },
     "execution_count": 545,
     "metadata": {},
     "output_type": "execute_result"
    }
   ],
   "source": [
    "get_recommended_movies_metapath(2, metapath_vecs_mum, metapath_mum_ids)"
   ]
  },
  {
   "cell_type": "code",
   "execution_count": 546,
   "metadata": {},
   "outputs": [
    {
     "data": {
      "text/plain": [
       "['Galaxy of Terror (Quest) (1981)',\n",
       " 'Alien Contamination (1980)',\n",
       " 'Looker (1981)',\n",
       " 'Saturn 3 (1980)',\n",
       " 'Hangar 18 (1980)',\n",
       " 'Clonus Horror, The (1979)',\n",
       " 'Android (1982)',\n",
       " 'Death Race 2000 (1975)',\n",
       " 'The Lair of the White Worm (1988)',\n",
       " 'Piranha (1978)']"
      ]
     },
     "execution_count": 546,
     "metadata": {},
     "output_type": "execute_result"
    }
   ],
   "source": [
    "get_recommended_movies_metapath(3, metapath_vecs_mum, metapath_mum_ids)"
   ]
  },
  {
   "cell_type": "code",
   "execution_count": null,
   "metadata": {},
   "outputs": [],
   "source": []
  },
  {
   "cell_type": "markdown",
   "metadata": {},
   "source": [
    "### UMU and MUM meta-paths"
   ]
  },
  {
   "cell_type": "code",
   "execution_count": 547,
   "metadata": {},
   "outputs": [],
   "source": [
    "metapath_vecs_mum_umu = []\n",
    "metapath_vecs_mum_umu.extend(metapath_walks_umu)\n",
    "metapath_vecs_mum_umu.extend(metapath_walks_mum)"
   ]
  },
  {
   "cell_type": "code",
   "execution_count": 548,
   "metadata": {},
   "outputs": [],
   "source": [
    "outfile_mum_umu = '../data/user_movie_user_metapath_walks_mum_umu.txt'"
   ]
  },
  {
   "cell_type": "code",
   "execution_count": 549,
   "metadata": {},
   "outputs": [],
   "source": [
    "with open(outfile_mum_umu, 'w') as f:\n",
    "    for walk in metapath_vecs_mum_umu:\n",
    "        f.write(walk + \"\\n\")"
   ]
  },
  {
   "cell_type": "code",
   "execution_count": 550,
   "metadata": {},
   "outputs": [
    {
     "name": "stdout",
     "output_type": "stream",
     "text": [
      "Starting training using file ../data/user_movie_user_metapath_walks_mum_umu.txt\n",
      "Vocab size: 9130\n",
      "Words in train file: 18440580\n",
      "Alpha: 0.000037  Progress: 99.86%  Words/thread/sec: 36.77k  "
     ]
    }
   ],
   "source": [
    "! ../../deep_learning_graphs/metapath2vec/metapath2vec -train ../data/user_movie_user_metapath_walks_mum_umu.txt -output ../data/metapath_mum_umu_embed -pp 0 -size 128 -window 7 -negative 5 -threads 32"
   ]
  },
  {
   "cell_type": "code",
   "execution_count": 551,
   "metadata": {},
   "outputs": [],
   "source": [
    "embeddings_mum_umu = build_embeddings('../data/metapath_mum_umu_embed.txt')"
   ]
  },
  {
   "cell_type": "code",
   "execution_count": 552,
   "metadata": {},
   "outputs": [
    {
     "data": {
      "text/plain": [
       "(128,)"
      ]
     },
     "execution_count": 552,
     "metadata": {},
     "output_type": "execute_result"
    }
   ],
   "source": [
    "embeddings_mum_umu['v1'].shape"
   ]
  },
  {
   "cell_type": "code",
   "execution_count": 553,
   "metadata": {},
   "outputs": [
    {
     "data": {
      "text/plain": [
       "9129"
      ]
     },
     "execution_count": 553,
     "metadata": {},
     "output_type": "execute_result"
    }
   ],
   "source": [
    "len(embeddings_mum_umu)"
   ]
  },
  {
   "cell_type": "code",
   "execution_count": 554,
   "metadata": {},
   "outputs": [
    {
     "data": {
      "text/plain": [
       "0.7090602132423149"
      ]
     },
     "execution_count": 554,
     "metadata": {},
     "output_type": "execute_result"
    }
   ],
   "source": [
    "1.0 - cosine(embeddings_mum_umu[movie1], embeddings_mum_umu[movie2])"
   ]
  },
  {
   "cell_type": "code",
   "execution_count": 555,
   "metadata": {},
   "outputs": [
    {
     "data": {
      "text/plain": [
       "0.7114531489752923"
      ]
     },
     "execution_count": 555,
     "metadata": {},
     "output_type": "execute_result"
    }
   ],
   "source": [
    "1.0 - cosine(embeddings_mum_umu[movie1], embeddings_mum_umu[movie3])"
   ]
  },
  {
   "cell_type": "code",
   "execution_count": 556,
   "metadata": {},
   "outputs": [
    {
     "data": {
      "text/plain": [
       "0.6760874734261341"
      ]
     },
     "execution_count": 556,
     "metadata": {},
     "output_type": "execute_result"
    }
   ],
   "source": [
    "1.0 - cosine(embeddings_mum_umu[movie1], embeddings_mum_umu[movie4])"
   ]
  },
  {
   "cell_type": "code",
   "execution_count": 557,
   "metadata": {},
   "outputs": [],
   "source": [
    "metapath_vecs_mum_umu = []\n",
    "metapath_mum_umu_ids = []\n",
    "for x in embeddings_mum_umu:\n",
    "    metapath_vecs_mum_umu.append(embeddings_mum_umu[x])\n",
    "    metapath_mum_umu_ids.append(x)"
   ]
  },
  {
   "cell_type": "code",
   "execution_count": 558,
   "metadata": {},
   "outputs": [
    {
     "data": {
      "text/plain": [
       "((9129, 128), 9129)"
      ]
     },
     "execution_count": 558,
     "metadata": {},
     "output_type": "execute_result"
    }
   ],
   "source": [
    "metapath_vecs_mum_umu = np.array(metapath_vecs_mum_umu)\n",
    "metapath_vecs_mum_umu.shape, len(metapath_mum_umu_ids)"
   ]
  },
  {
   "cell_type": "code",
   "execution_count": 559,
   "metadata": {},
   "outputs": [
    {
     "data": {
      "text/plain": [
       "['Star Wars: Episode IV - A New Hope (1977)',\n",
       " 'Star Wars: Episode VI - Return of the Jedi (1983)',\n",
       " 'Star Wars: Episode V - The Empire Strikes Back (1980)',\n",
       " 'Twelve Monkeys (a.k.a. 12 Monkeys) (1995)',\n",
       " 'Toy Story (1995)',\n",
       " 'Fargo (1996)',\n",
       " 'Rock, The (1996)',\n",
       " 'Independence Day (a.k.a. ID4) (1996)',\n",
       " 'Raiders of the Lost Ark (Indiana Jones and the Raiders of the Lost Ark) (1981)',\n",
       " 'Birdcage, The (1996)']"
      ]
     },
     "execution_count": 559,
     "metadata": {},
     "output_type": "execute_result"
    }
   ],
   "source": [
    "get_similar_movies_metapath(260, metapath_vecs_mum_umu, metapath_mum_umu_ids)"
   ]
  },
  {
   "cell_type": "code",
   "execution_count": 560,
   "metadata": {},
   "outputs": [
    {
     "data": {
      "text/plain": [
       "['Toy Story (1995)',\n",
       " 'Nutty Professor, The (1996)',\n",
       " 'Fargo (1996)',\n",
       " 'Mission: Impossible (1996)',\n",
       " 'Willy Wonka & the Chocolate Factory (1971)',\n",
       " 'Sense and Sensibility (1995)',\n",
       " 'Star Trek: First Contact (1996)',\n",
       " 'Father of the Bride Part II (1995)',\n",
       " 'Twelve Monkeys (a.k.a. 12 Monkeys) (1995)',\n",
       " 'Birdcage, The (1996)']"
      ]
     },
     "execution_count": 560,
     "metadata": {},
     "output_type": "execute_result"
    }
   ],
   "source": [
    "get_similar_movies_metapath(1, metapath_vecs_mum_umu, metapath_mum_umu_ids)"
   ]
  },
  {
   "cell_type": "code",
   "execution_count": 561,
   "metadata": {},
   "outputs": [
    {
     "data": {
      "text/plain": [
       "['Jumanji (1995)',\n",
       " 'Lion King, The (1994)',\n",
       " 'Star Trek: Generations (1994)',\n",
       " 'Sleepless in Seattle (1993)',\n",
       " 'Pretty Woman (1990)',\n",
       " 'Santa Clause, The (1994)',\n",
       " 'Dances with Wolves (1990)',\n",
       " 'Mrs. Doubtfire (1993)',\n",
       " 'Apollo 13 (1995)',\n",
       " 'Maverick (1994)']"
      ]
     },
     "execution_count": 561,
     "metadata": {},
     "output_type": "execute_result"
    }
   ],
   "source": [
    "get_similar_movies_metapath(2, metapath_vecs_mum_umu, metapath_mum_umu_ids)"
   ]
  },
  {
   "cell_type": "code",
   "execution_count": 562,
   "metadata": {},
   "outputs": [
    {
     "data": {
      "text/plain": [
       "[\"Gulliver's Travels (1939)\",\n",
       " 'Newton Boys, The (1998)',\n",
       " 'Black Cauldron, The (1985)',\n",
       " 'Ghost and the Darkness, The (1996)',\n",
       " 'Welcome to Woop-Woop (1997)',\n",
       " 'Transformers: The Movie (1986)',\n",
       " 'Three Musketeers, The (1993)',\n",
       " \"McHale's Navy (1997)\",\n",
       " 'Honey, I Shrunk the Kids (1989)',\n",
       " 'Star Wars: Episode V - The Empire Strikes Back (1980)']"
      ]
     },
     "execution_count": 562,
     "metadata": {},
     "output_type": "execute_result"
    }
   ],
   "source": [
    "get_recommended_movies_metapath(1, metapath_vecs_mum_umu, metapath_mum_umu_ids)"
   ]
  },
  {
   "cell_type": "code",
   "execution_count": 563,
   "metadata": {},
   "outputs": [
    {
     "data": {
      "text/plain": [
       "['Warrior (2011)',\n",
       " 'Louis C.K.: Hilarious (2010)',\n",
       " 'Inception (2010)',\n",
       " 'Town, The (2010)',\n",
       " 'The Drop (2014)',\n",
       " 'Wolf of Wall Street, The (2013)',\n",
       " 'Inside Job (2010)',\n",
       " 'Django Unchained (2012)',\n",
       " 'Shutter Island (2010)',\n",
       " 'Girl with the Dragon Tattoo, The (2011)']"
      ]
     },
     "execution_count": 563,
     "metadata": {},
     "output_type": "execute_result"
    }
   ],
   "source": [
    "get_recommended_movies_metapath(2, metapath_vecs_mum_umu, metapath_mum_umu_ids)"
   ]
  },
  {
   "cell_type": "code",
   "execution_count": 564,
   "metadata": {},
   "outputs": [
    {
     "data": {
      "text/plain": [
       "['Galaxy of Terror (Quest) (1981)',\n",
       " 'Alien Contamination (1980)',\n",
       " 'Hangar 18 (1980)',\n",
       " 'Looker (1981)',\n",
       " 'Saturn 3 (1980)',\n",
       " 'Clonus Horror, The (1979)',\n",
       " 'The Lair of the White Worm (1988)',\n",
       " 'Death Race 2000 (1975)',\n",
       " 'Android (1982)',\n",
       " 'Piranha (1978)']"
      ]
     },
     "execution_count": 564,
     "metadata": {},
     "output_type": "execute_result"
    }
   ],
   "source": [
    "get_recommended_movies_metapath(3, metapath_vecs_mum_umu, metapath_mum_umu_ids)"
   ]
  },
  {
   "cell_type": "markdown",
   "metadata": {},
   "source": [
    "## Evaluation on test data"
   ]
  },
  {
   "cell_type": "code",
   "execution_count": 565,
   "metadata": {},
   "outputs": [],
   "source": [
    "def rank_movies_metapath(userid, movie_list, embed_dict, top_n=10):\n",
    "    usr_idx = user2int[userid]\n",
    "    usr_vec = embed_dict[usr_idx]\n",
    "    sim_dict = dict()\n",
    "    for mve in movie_list:\n",
    "        if (mve in movie2int):\n",
    "            mve_idx = movie2int[mve]\n",
    "            if (mve_idx in embed_dict):\n",
    "                mve_vec = embed_dict[mve_idx]\n",
    "                sim_dict[mve] = cosine(usr_vec, mve_vec)\n",
    "        else:\n",
    "            pass\n",
    "    ranked_movies = sorted(sim_dict.items(), key=operator.itemgetter(1))\n",
    "    return ranked_movies[:top_n]"
   ]
  },
  {
   "cell_type": "code",
   "execution_count": 579,
   "metadata": {},
   "outputs": [
    {
     "data": {
      "text/plain": [
       "(30251, 4)"
      ]
     },
     "execution_count": 579,
     "metadata": {},
     "output_type": "execute_result"
    }
   ],
   "source": [
    "test_df.shape"
   ]
  },
  {
   "cell_type": "code",
   "execution_count": 580,
   "metadata": {},
   "outputs": [
    {
     "data": {
      "text/plain": [
       "(18478, 4)"
      ]
     },
     "execution_count": 580,
     "metadata": {},
     "output_type": "execute_result"
    }
   ],
   "source": [
    "test_df[test_df['rating'] >= 3.5].shape"
   ]
  },
  {
   "cell_type": "code",
   "execution_count": 593,
   "metadata": {},
   "outputs": [],
   "source": [
    "test_pos_examples = dict((user, set(movies)) for user, movies in test_df[test_df['rating'] >= 3.5].groupby('userId')['movieId'])"
   ]
  },
  {
   "cell_type": "code",
   "execution_count": 594,
   "metadata": {},
   "outputs": [
    {
     "data": {
      "text/plain": [
       "605"
      ]
     },
     "execution_count": 594,
     "metadata": {},
     "output_type": "execute_result"
    }
   ],
   "source": [
    "len(test_pos_examples)"
   ]
  },
  {
   "cell_type": "code",
   "execution_count": 595,
   "metadata": {},
   "outputs": [
    {
     "data": {
      "text/plain": [
       "[1, 2, 3, 4, 5, 6, 7, 8, 9, 10]"
      ]
     },
     "execution_count": 595,
     "metadata": {},
     "output_type": "execute_result"
    }
   ],
   "source": [
    "list(test_pos_examples.keys())[:10]"
   ]
  },
  {
   "cell_type": "code",
   "execution_count": 596,
   "metadata": {},
   "outputs": [],
   "source": [
    "def precision_at_k(userid, true_pos_dict, embeddings, k):\n",
    "    true_pos = true_pos_dict[userid]\n",
    "    recos = [x for x,y in rank_movies_metapath(userid, test_movies, embeddings)]\n",
    "    return (len(set(recos).intersection(true_pos)) * 1.0) / k"
   ]
  },
  {
   "cell_type": "code",
   "execution_count": 607,
   "metadata": {},
   "outputs": [
    {
     "data": {
      "text/plain": [
       "0.0"
      ]
     },
     "execution_count": 607,
     "metadata": {},
     "output_type": "execute_result"
    }
   ],
   "source": [
    "precision_at_k(103, test_pos_examples, embeddings_mum, k=10)"
   ]
  },
  {
   "cell_type": "code",
   "execution_count": 608,
   "metadata": {},
   "outputs": [],
   "source": [
    "def average_precision_at_k(userid, true_pos_dict, embeddings, k=10):\n",
    "    ap_at_k = 0\n",
    "    for i in range(1,k):\n",
    "        ap_at_k += precision_at_k(userid, true_pos_dict, embeddings, i)\n",
    "    return ap_at_k / k"
   ]
  },
  {
   "cell_type": "code",
   "execution_count": 609,
   "metadata": {},
   "outputs": [
    {
     "data": {
      "text/plain": [
       "0.28289682539682537"
      ]
     },
     "execution_count": 609,
     "metadata": {},
     "output_type": "execute_result"
    }
   ],
   "source": [
    "average_precision_at_k(2, test_pos_examples, embeddings_mum, k=10)"
   ]
  },
  {
   "cell_type": "code",
   "execution_count": 610,
   "metadata": {},
   "outputs": [],
   "source": [
    "def mAP(true_pos_dict, embeddings, k=10):\n",
    "    score = 0\n",
    "    for usr in true_pos_dict:\n",
    "        score += average_precision_at_k(usr, true_pos_dict, embeddings, k)\n",
    "    return score / len(true_pos_dict)"
   ]
  },
  {
   "cell_type": "code",
   "execution_count": 320,
   "metadata": {},
   "outputs": [],
   "source": [
    "true_pos_dict = {1:test_pos_examples[1], 2:test_pos_examples[2], 3:test_pos_examples[3]}"
   ]
  },
  {
   "cell_type": "code",
   "execution_count": 612,
   "metadata": {},
   "outputs": [
    {
     "data": {
      "text/plain": [
       "0.03787544273907912"
      ]
     },
     "execution_count": 612,
     "metadata": {},
     "output_type": "execute_result"
    }
   ],
   "source": [
    "mAP(test_pos_examples, embeddings_mum, k=10)"
   ]
  },
  {
   "cell_type": "code",
   "execution_count": 613,
   "metadata": {},
   "outputs": [
    {
     "data": {
      "text/plain": [
       "0.012157549521185888"
      ]
     },
     "execution_count": 613,
     "metadata": {},
     "output_type": "execute_result"
    }
   ],
   "source": [
    "mAP(test_pos_examples, embeddings_umu, k=10)"
   ]
  },
  {
   "cell_type": "code",
   "execution_count": 614,
   "metadata": {},
   "outputs": [
    {
     "data": {
      "text/plain": [
       "0.0752832874196511"
      ]
     },
     "execution_count": 614,
     "metadata": {},
     "output_type": "execute_result"
    }
   ],
   "source": [
    "mAP(test_pos_examples, embeddings_mum_umu, k=10)"
   ]
  },
  {
   "cell_type": "code",
   "execution_count": null,
   "metadata": {},
   "outputs": [],
   "source": []
  },
  {
   "cell_type": "markdown",
   "metadata": {},
   "source": [
    "##  Node Classification"
   ]
  },
  {
   "cell_type": "code",
   "execution_count": 624,
   "metadata": {},
   "outputs": [
    {
     "data": {
      "text/html": [
       "<div>\n",
       "<style scoped>\n",
       "    .dataframe tbody tr th:only-of-type {\n",
       "        vertical-align: middle;\n",
       "    }\n",
       "\n",
       "    .dataframe tbody tr th {\n",
       "        vertical-align: top;\n",
       "    }\n",
       "\n",
       "    .dataframe thead th {\n",
       "        text-align: right;\n",
       "    }\n",
       "</style>\n",
       "<table border=\"1\" class=\"dataframe\">\n",
       "  <thead>\n",
       "    <tr style=\"text-align: right;\">\n",
       "      <th></th>\n",
       "      <th>movieId</th>\n",
       "      <th>genres</th>\n",
       "    </tr>\n",
       "  </thead>\n",
       "  <tbody>\n",
       "    <tr>\n",
       "      <th>0</th>\n",
       "      <td>1</td>\n",
       "      <td>Adventure|Animation|Children|Comedy|Fantasy</td>\n",
       "    </tr>\n",
       "    <tr>\n",
       "      <th>1</th>\n",
       "      <td>2</td>\n",
       "      <td>Adventure|Children|Fantasy</td>\n",
       "    </tr>\n",
       "    <tr>\n",
       "      <th>2</th>\n",
       "      <td>3</td>\n",
       "      <td>Comedy|Romance</td>\n",
       "    </tr>\n",
       "    <tr>\n",
       "      <th>3</th>\n",
       "      <td>4</td>\n",
       "      <td>Comedy|Drama|Romance</td>\n",
       "    </tr>\n",
       "    <tr>\n",
       "      <th>4</th>\n",
       "      <td>5</td>\n",
       "      <td>Comedy</td>\n",
       "    </tr>\n",
       "  </tbody>\n",
       "</table>\n",
       "</div>"
      ],
      "text/plain": [
       "   movieId                                       genres\n",
       "0        1  Adventure|Animation|Children|Comedy|Fantasy\n",
       "1        2                   Adventure|Children|Fantasy\n",
       "2        3                               Comedy|Romance\n",
       "3        4                         Comedy|Drama|Romance\n",
       "4        5                                       Comedy"
      ]
     },
     "execution_count": 624,
     "metadata": {},
     "output_type": "execute_result"
    }
   ],
   "source": [
    "movie_genre_edgelist = movie_df[['movieId', 'genres']]\n",
    "movie_genre_edgelist.head()"
   ]
  },
  {
   "cell_type": "code",
   "execution_count": 616,
   "metadata": {},
   "outputs": [],
   "source": [
    "movie2genre = dict()\n",
    "genre2movie = defaultdict(list)\n",
    "for x in movie_genre_edgelist.values:\n",
    "    genrelist = x[1].split('|')\n",
    "    movie2genre[x[0]] = genrelist\n",
    "    for g in genrelist:\n",
    "        genre2movie[g].append(x[0])"
   ]
  },
  {
   "cell_type": "code",
   "execution_count": 747,
   "metadata": {},
   "outputs": [],
   "source": [
    "genre_dict = {'Adventure': 1, 'Children': 1, 'Fantasy': 1 , 'Crime': 5, 'Thriller' : 5, 'Mystery' : 5, 'Sci-Fi' : 5, 'Comedy': 3, \n",
    "             'Drama': 2, 'Action': 4}"
   ]
  },
  {
   "cell_type": "code",
   "execution_count": 675,
   "metadata": {},
   "outputs": [],
   "source": [
    "movie_embed_mum = []\n",
    "movie_genres = []\n",
    "for mve in movie2int:\n",
    "    mve_id = movie2int[mve]\n",
    "    genre = movie2genre[mve][0]\n",
    "    if genre in genre_dict:\n",
    "        if mve_id in embeddings_mum:\n",
    "            embed = embeddings_mum[mve_id]\n",
    "            movie_embed_mum.append(embed)\n",
    "            movie_genres.append(genre_dict[genre] - 1)\n",
    "        else:\n",
    "            pass"
   ]
  },
  {
   "cell_type": "code",
   "execution_count": 676,
   "metadata": {},
   "outputs": [
    {
     "data": {
      "text/plain": [
       "(7441, 7441)"
      ]
     },
     "execution_count": 676,
     "metadata": {},
     "output_type": "execute_result"
    }
   ],
   "source": [
    "len(movie_embed_mum), len(movie_genres)"
   ]
  },
  {
   "cell_type": "code",
   "execution_count": 677,
   "metadata": {},
   "outputs": [
    {
     "data": {
      "text/plain": [
       "(7441, 128)"
      ]
     },
     "execution_count": 677,
     "metadata": {},
     "output_type": "execute_result"
    }
   ],
   "source": [
    "movie_embed_mum = np.array(movie_embed_mum)\n",
    "movie_embed_mum.shape"
   ]
  },
  {
   "cell_type": "code",
   "execution_count": 678,
   "metadata": {},
   "outputs": [
    {
     "data": {
      "text/plain": [
       "[4, 2, 3, 2, 3]"
      ]
     },
     "execution_count": 678,
     "metadata": {},
     "output_type": "execute_result"
    }
   ],
   "source": [
    "movie_genres[:5]"
   ]
  },
  {
   "cell_type": "code",
   "execution_count": 646,
   "metadata": {},
   "outputs": [],
   "source": [
    "from sklearn.model_selection import train_test_split"
   ]
  },
  {
   "cell_type": "code",
   "execution_count": 680,
   "metadata": {},
   "outputs": [],
   "source": [
    "X_train, X_test, y_train, y_test = train_test_split(movie_embed_mum, np.array(movie_genres), test_size=0.33, random_state=42)"
   ]
  },
  {
   "cell_type": "code",
   "execution_count": 681,
   "metadata": {},
   "outputs": [
    {
     "data": {
      "text/plain": [
       "((4985, 128), (2456, 128), (4985,), (2456,))"
      ]
     },
     "execution_count": 681,
     "metadata": {},
     "output_type": "execute_result"
    }
   ],
   "source": [
    "X_train.shape, X_test.shape, y_train.shape, y_test.shape"
   ]
  },
  {
   "cell_type": "code",
   "execution_count": 687,
   "metadata": {},
   "outputs": [],
   "source": [
    "from sklearn.multiclass import OneVsRestClassifier\n",
    "from sklearn.svm import SVC\n",
    "from sklearn.linear_model import LogisticRegression\n",
    "from sklearn.metrics import accuracy_score, roc_auc_score, f1_score, confusion_matrix"
   ]
  },
  {
   "cell_type": "code",
   "execution_count": 741,
   "metadata": {},
   "outputs": [
    {
     "data": {
      "text/plain": [
       "LogisticRegression(C=1.0, class_weight=None, dual=False, fit_intercept=True,\n",
       "                   intercept_scaling=1, l1_ratio=None, max_iter=1000,\n",
       "                   multi_class='multinomial', n_jobs=None, penalty='l2',\n",
       "                   random_state=None, solver='lbfgs', tol=0.0001, verbose=0,\n",
       "                   warm_start=False)"
      ]
     },
     "execution_count": 741,
     "metadata": {},
     "output_type": "execute_result"
    }
   ],
   "source": [
    "clf = LogisticRegression(solver='lbfgs', multi_class='multinomial', max_iter=1000)\n",
    "clf.fit(X_train, y_train)"
   ]
  },
  {
   "cell_type": "code",
   "execution_count": 742,
   "metadata": {},
   "outputs": [],
   "source": [
    "y_pred = clf.predict(X_test)"
   ]
  },
  {
   "cell_type": "code",
   "execution_count": 743,
   "metadata": {},
   "outputs": [
    {
     "data": {
      "text/plain": [
       "array([2, 3, 2, 3, 0])"
      ]
     },
     "execution_count": 743,
     "metadata": {},
     "output_type": "execute_result"
    }
   ],
   "source": [
    "y_pred[:5]"
   ]
  },
  {
   "cell_type": "code",
   "execution_count": 744,
   "metadata": {},
   "outputs": [
    {
     "data": {
      "text/plain": [
       "array([[ 57,  50,  72,  54,   3],\n",
       "       [ 12, 335, 169,  99,  14],\n",
       "       [ 24, 186, 505,  99,  11],\n",
       "       [ 13,  79, 120, 345,   7],\n",
       "       [  5,  87,  54,  44,  12]])"
      ]
     },
     "execution_count": 744,
     "metadata": {},
     "output_type": "execute_result"
    }
   ],
   "source": [
    "confusion_matrix(y_test, y_pred)"
   ]
  },
  {
   "cell_type": "code",
   "execution_count": 745,
   "metadata": {},
   "outputs": [
    {
     "data": {
      "text/plain": [
       "0.4133619267082745"
      ]
     },
     "execution_count": 745,
     "metadata": {},
     "output_type": "execute_result"
    }
   ],
   "source": [
    "f1_score(y_test, y_pred, average='macro')"
   ]
  },
  {
   "cell_type": "code",
   "execution_count": 746,
   "metadata": {},
   "outputs": [
    {
     "data": {
      "text/plain": [
       "0.510586319218241"
      ]
     },
     "execution_count": 746,
     "metadata": {},
     "output_type": "execute_result"
    }
   ],
   "source": [
    "f1_score(y_test, y_pred, average='micro')"
   ]
  },
  {
   "cell_type": "code",
   "execution_count": null,
   "metadata": {},
   "outputs": [],
   "source": []
  },
  {
   "cell_type": "markdown",
   "metadata": {},
   "source": [
    "## Parameter Senstivity"
   ]
  },
  {
   "cell_type": "code",
   "execution_count": 760,
   "metadata": {},
   "outputs": [
    {
     "data": {
      "text/plain": [
       "'../data/user_movie_user_metapath_walks_mum.txt'"
      ]
     },
     "execution_count": 760,
     "metadata": {},
     "output_type": "execute_result"
    }
   ],
   "source": [
    "metapath = 'mum'\n",
    "train_file = '../data/user_movie_user_metapath_walks_' + metapath + '.txt'\n",
    "train_file"
   ]
  },
  {
   "cell_type": "code",
   "execution_count": 761,
   "metadata": {},
   "outputs": [
    {
     "data": {
      "text/plain": [
       "'../data/metapath_mum_umu_embed_dim_10'"
      ]
     },
     "execution_count": 761,
     "metadata": {},
     "output_type": "execute_result"
    }
   ],
   "source": [
    "embed_out_file = '../data/metapath_mum_umu_embed_dim_' + str(embed_dim)\n",
    "embed_out_file"
   ]
  },
  {
   "cell_type": "code",
   "execution_count": 764,
   "metadata": {},
   "outputs": [
    {
     "data": {
      "text/plain": [
       "50"
      ]
     },
     "execution_count": 764,
     "metadata": {},
     "output_type": "execute_result"
    }
   ],
   "source": [
    "embed_dim = 50\n",
    "embed_dim"
   ]
  },
  {
   "cell_type": "code",
   "execution_count": 756,
   "metadata": {},
   "outputs": [
    {
     "name": "stdout",
     "output_type": "stream",
     "text": [
      "Starting training using file ../data/user_movie_user_metapath_walks_mum_umu.txt\n",
      "Vocab size: 9130\n",
      "Words in train file: 18440580\n",
      "Alpha: 0.000037  Progress: 99.86%  Words/thread/sec: 72.75k  "
     ]
    }
   ],
   "source": [
    "! ../../deep_learning_graphs/metapath2vec/metapath2vec -train $train_file -output $embed_out_file -pp 0 -size $embed_dim -window 7 -negative 5 -threads 32"
   ]
  },
  {
   "cell_type": "code",
   "execution_count": 766,
   "metadata": {},
   "outputs": [],
   "source": [
    "embedding_dict = build_embeddings(embed_out_file + '.txt')"
   ]
  },
  {
   "cell_type": "code",
   "execution_count": 765,
   "metadata": {},
   "outputs": [],
   "source": [
    "mAP(test_pos_examples, embedding_dict, k=10)"
   ]
  },
  {
   "cell_type": "code",
   "execution_count": 777,
   "metadata": {},
   "outputs": [],
   "source": [
    "def build_data_for_classification(embeddings):\n",
    "    movie_embed = []\n",
    "    movie_genres = []\n",
    "    for mve in movie2int:\n",
    "        mve_id = movie2int[mve]\n",
    "        genre = movie2genre[mve][0]\n",
    "        if genre in genre_dict:\n",
    "            if mve_id in embeddings:\n",
    "                embed = embeddings[mve_id]\n",
    "                movie_embed.append(embed)\n",
    "                movie_genres.append(genre_dict[genre] - 1)\n",
    "            else:\n",
    "                pass\n",
    "    X_train, X_test, y_train, y_test = train_test_split(np.array(movie_embed), np.array(movie_genres), test_size=0.33, random_state=42)\n",
    "    return X_train, X_test, y_train, y_test"
   ]
  },
  {
   "cell_type": "code",
   "execution_count": 778,
   "metadata": {},
   "outputs": [],
   "source": [
    "X_train, X_test, y_train, y_test = build_data_for_classification(embeddings_mum_umu)"
   ]
  },
  {
   "cell_type": "code",
   "execution_count": 779,
   "metadata": {},
   "outputs": [
    {
     "data": {
      "text/plain": [
       "((4985, 128), (2456, 128), (4985,), (2456,))"
      ]
     },
     "execution_count": 779,
     "metadata": {},
     "output_type": "execute_result"
    }
   ],
   "source": [
    "X_train.shape, X_test.shape, y_train.shape, y_test.shape"
   ]
  },
  {
   "cell_type": "code",
   "execution_count": 780,
   "metadata": {},
   "outputs": [],
   "source": [
    "def evaluate_node_classification(embeddings):\n",
    "    X_train, X_test, y_train, y_test = build_data_for_classification(embeddings)\n",
    "    clf = LogisticRegression(solver='lbfgs', multi_class='multinomial', max_iter=1000)\n",
    "    clf.fit(X_train, y_train)\n",
    "    y_pred = clf.predict(X_test)\n",
    "    return {'macro': f1_score(y_test, y_pred, average='macro'), 'micro': f1_score(y_test, y_pred, average='micro')}"
   ]
  },
  {
   "cell_type": "code",
   "execution_count": 781,
   "metadata": {},
   "outputs": [
    {
     "data": {
      "text/plain": [
       "{'macro': 0.4133619267082745, 'micro': 0.510586319218241}"
      ]
     },
     "execution_count": 781,
     "metadata": {},
     "output_type": "execute_result"
    }
   ],
   "source": [
    "evaluate_node_classification(embeddings_mum)"
   ]
  },
  {
   "cell_type": "code",
   "execution_count": 782,
   "metadata": {},
   "outputs": [
    {
     "data": {
      "text/plain": [
       "{'macro': 0.43443120450968564, 'micro': 0.5097150259067358}"
      ]
     },
     "execution_count": 782,
     "metadata": {},
     "output_type": "execute_result"
    }
   ],
   "source": [
    "evaluate_node_classification(embeddings_umu)"
   ]
  },
  {
   "cell_type": "code",
   "execution_count": 783,
   "metadata": {},
   "outputs": [
    {
     "data": {
      "text/plain": [
       "{'macro': 0.41798399934738273, 'micro': 0.5175081433224755}"
      ]
     },
     "execution_count": 783,
     "metadata": {},
     "output_type": "execute_result"
    }
   ],
   "source": [
    "evaluate_node_classification(embeddings_mum_umu)"
   ]
  },
  {
   "cell_type": "code",
   "execution_count": null,
   "metadata": {},
   "outputs": [],
   "source": []
  }
 ],
 "metadata": {
  "kernelspec": {
   "display_name": "Python 3",
   "language": "python",
   "name": "python3"
  },
  "language_info": {
   "codemirror_mode": {
    "name": "ipython",
    "version": 3
   },
   "file_extension": ".py",
   "mimetype": "text/x-python",
   "name": "python",
   "nbconvert_exporter": "python",
   "pygments_lexer": "ipython3",
   "version": "3.7.3"
  }
 },
 "nbformat": 4,
 "nbformat_minor": 2
}
